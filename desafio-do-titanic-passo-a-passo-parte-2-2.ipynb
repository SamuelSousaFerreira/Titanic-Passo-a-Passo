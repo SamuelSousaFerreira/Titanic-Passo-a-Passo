{
 "cells": [
  {
   "cell_type": "markdown",
   "metadata": {
    "id": "jJba0oD7XgeX",
    "papermill": {
     "duration": 0.083573,
     "end_time": "2021-02-14T18:53:03.701812",
     "exception": false,
     "start_time": "2021-02-14T18:53:03.618239",
     "status": "completed"
    },
    "tags": []
   },
   "source": [
    "# Configuração inicial e bibliotecas que serão utilizadas"
   ]
  },
  {
   "cell_type": "code",
   "execution_count": 1,
   "metadata": {
    "execution": {
     "iopub.execute_input": "2021-02-14T18:53:03.859273Z",
     "iopub.status.busy": "2021-02-14T18:53:03.858511Z",
     "iopub.status.idle": "2021-02-14T18:53:04.815686Z",
     "shell.execute_reply": "2021-02-14T18:53:04.813867Z"
    },
    "papermill": {
     "duration": 1.039505,
     "end_time": "2021-02-14T18:53:04.815935",
     "exception": false,
     "start_time": "2021-02-14T18:53:03.776430",
     "status": "completed"
    },
    "tags": []
   },
   "outputs": [],
   "source": [
    "import pandas as pd\n",
    "import numpy as np\n",
    "import seaborn as sns\n",
    "import matplotlib.pyplot as plt\n",
    "import matplotlib.font_manager\n",
    "%matplotlib inline"
   ]
  },
  {
   "cell_type": "code",
   "execution_count": 2,
   "metadata": {
    "execution": {
     "iopub.execute_input": "2021-02-14T18:53:04.983335Z",
     "iopub.status.busy": "2021-02-14T18:53:04.982528Z",
     "iopub.status.idle": "2021-02-14T18:53:05.012950Z",
     "shell.execute_reply": "2021-02-14T18:53:05.012336Z"
    },
    "papermill": {
     "duration": 0.110994,
     "end_time": "2021-02-14T18:53:05.013121",
     "exception": false,
     "start_time": "2021-02-14T18:53:04.902127",
     "status": "completed"
    },
    "tags": []
   },
   "outputs": [],
   "source": [
    "test = pd.read_csv('../input/titanic/test.csv')\n",
    "train = pd.read_csv('../input/titanic/train.csv')"
   ]
  },
  {
   "cell_type": "markdown",
   "metadata": {
    "id": "U_v2yFVkLEN8",
    "papermill": {
     "duration": 0.075392,
     "end_time": "2021-02-14T18:53:05.163648",
     "exception": false,
     "start_time": "2021-02-14T18:53:05.088256",
     "status": "completed"
    },
    "tags": []
   },
   "source": [
    "# **3- Preparação dos Dados**\n",
    "\n"
   ]
  },
  {
   "cell_type": "markdown",
   "metadata": {
    "papermill": {
     "duration": 0.077478,
     "end_time": "2021-02-14T18:53:05.319445",
     "exception": false,
     "start_time": "2021-02-14T18:53:05.241967",
     "status": "completed"
    },
    "tags": []
   },
   "source": [
    "\n",
    "## **3.1 - Juntando os datasets de treino e teste**\n",
    "\n",
    "Juntamos os dados para fazer as features engineering e depois separamos no final.\n",
    "\n",
    "Se não quiser reunir tudo em um só dataset, então os mesmos tratamentos realizados no dataset train deverá também ser realizado no test. A vantagem juntar os datasets é que usaremos outras funções do pandas e com isso adquirimos familiaridade, como a função pd.concat()."
   ]
  },
  {
   "cell_type": "code",
   "execution_count": 3,
   "metadata": {
    "execution": {
     "iopub.execute_input": "2021-02-14T18:53:05.477088Z",
     "iopub.status.busy": "2021-02-14T18:53:05.476289Z",
     "iopub.status.idle": "2021-02-14T18:53:05.481207Z",
     "shell.execute_reply": "2021-02-14T18:53:05.480664Z"
    },
    "executionInfo": {
     "elapsed": 1051,
     "status": "ok",
     "timestamp": 1613166150859,
     "user": {
      "displayName": "Samuel S. Ferreira",
      "photoUrl": "https://lh3.googleusercontent.com/a-/AOh14GhMXcQbRtC5Q43vAXPtrgywOfemEDLbqQwWeOHB=s64",
      "userId": "04389966910635240145"
     },
     "user_tz": 180
    },
    "id": "5gudi566gqlz",
    "outputId": "2cd028b3-d582-46a6-ec70-8a8bd61630f5",
    "papermill": {
     "duration": 0.087828,
     "end_time": "2021-02-14T18:53:05.481381",
     "exception": false,
     "start_time": "2021-02-14T18:53:05.393553",
     "status": "completed"
    },
    "tags": []
   },
   "outputs": [
    {
     "data": {
      "text/plain": [
       "418"
      ]
     },
     "execution_count": 3,
     "metadata": {},
     "output_type": "execute_result"
    }
   ],
   "source": [
    "# Salvanso os índices para separar os datasets no final\n",
    "train_index= train.shape[0]\n",
    "test_index = test.shape[0]\n",
    "test_index"
   ]
  },
  {
   "cell_type": "code",
   "execution_count": 4,
   "metadata": {
    "execution": {
     "iopub.execute_input": "2021-02-14T18:53:05.648821Z",
     "iopub.status.busy": "2021-02-14T18:53:05.648101Z",
     "iopub.status.idle": "2021-02-14T18:53:05.651304Z",
     "shell.execute_reply": "2021-02-14T18:53:05.651821Z"
    },
    "executionInfo": {
     "elapsed": 1149,
     "status": "ok",
     "timestamp": 1613166158468,
     "user": {
      "displayName": "Samuel S. Ferreira",
      "photoUrl": "https://lh3.googleusercontent.com/a-/AOh14GhMXcQbRtC5Q43vAXPtrgywOfemEDLbqQwWeOHB=s64",
      "userId": "04389966910635240145"
     },
     "user_tz": 180
    },
    "id": "yeKddqdpQPCO",
    "papermill": {
     "duration": 0.094873,
     "end_time": "2021-02-14T18:53:05.652078",
     "exception": false,
     "start_time": "2021-02-14T18:53:05.557205",
     "status": "completed"
    },
    "tags": []
   },
   "outputs": [],
   "source": [
    "#Salvar o Passenger Id para subimissão no Kaglgle\n",
    "passengerId = test.PassengerId"
   ]
  },
  {
   "cell_type": "code",
   "execution_count": 5,
   "metadata": {
    "execution": {
     "iopub.execute_input": "2021-02-14T18:53:05.850952Z",
     "iopub.status.busy": "2021-02-14T18:53:05.849843Z",
     "iopub.status.idle": "2021-02-14T18:53:05.871041Z",
     "shell.execute_reply": "2021-02-14T18:53:05.871580Z"
    },
    "executionInfo": {
     "elapsed": 878,
     "status": "ok",
     "timestamp": 1613166164215,
     "user": {
      "displayName": "Samuel S. Ferreira",
      "photoUrl": "https://lh3.googleusercontent.com/a-/AOh14GhMXcQbRtC5Q43vAXPtrgywOfemEDLbqQwWeOHB=s64",
      "userId": "04389966910635240145"
     },
     "user_tz": 180
    },
    "id": "cfCJs-zcQ2p4",
    "outputId": "06869e56-bfbd-4a9c-a4ea-8b2c1558edbf",
    "papermill": {
     "duration": 0.126235,
     "end_time": "2021-02-14T18:53:05.871758",
     "exception": false,
     "start_time": "2021-02-14T18:53:05.745523",
     "status": "completed"
    },
    "tags": []
   },
   "outputs": [
    {
     "data": {
      "text/html": [
       "<div>\n",
       "<style scoped>\n",
       "    .dataframe tbody tr th:only-of-type {\n",
       "        vertical-align: middle;\n",
       "    }\n",
       "\n",
       "    .dataframe tbody tr th {\n",
       "        vertical-align: top;\n",
       "    }\n",
       "\n",
       "    .dataframe thead th {\n",
       "        text-align: right;\n",
       "    }\n",
       "</style>\n",
       "<table border=\"1\" class=\"dataframe\">\n",
       "  <thead>\n",
       "    <tr style=\"text-align: right;\">\n",
       "      <th></th>\n",
       "      <th>PassengerId</th>\n",
       "      <th>Pclass</th>\n",
       "      <th>Name</th>\n",
       "      <th>Sex</th>\n",
       "      <th>Age</th>\n",
       "      <th>SibSp</th>\n",
       "      <th>Parch</th>\n",
       "      <th>Ticket</th>\n",
       "      <th>Fare</th>\n",
       "      <th>Cabin</th>\n",
       "      <th>Embarked</th>\n",
       "    </tr>\n",
       "  </thead>\n",
       "  <tbody>\n",
       "    <tr>\n",
       "      <th>0</th>\n",
       "      <td>1</td>\n",
       "      <td>3</td>\n",
       "      <td>Braund, Mr. Owen Harris</td>\n",
       "      <td>male</td>\n",
       "      <td>22.0</td>\n",
       "      <td>1</td>\n",
       "      <td>0</td>\n",
       "      <td>A/5 21171</td>\n",
       "      <td>7.2500</td>\n",
       "      <td>NaN</td>\n",
       "      <td>S</td>\n",
       "    </tr>\n",
       "    <tr>\n",
       "      <th>1</th>\n",
       "      <td>2</td>\n",
       "      <td>1</td>\n",
       "      <td>Cumings, Mrs. John Bradley (Florence Briggs Th...</td>\n",
       "      <td>female</td>\n",
       "      <td>38.0</td>\n",
       "      <td>1</td>\n",
       "      <td>0</td>\n",
       "      <td>PC 17599</td>\n",
       "      <td>71.2833</td>\n",
       "      <td>C85</td>\n",
       "      <td>C</td>\n",
       "    </tr>\n",
       "    <tr>\n",
       "      <th>2</th>\n",
       "      <td>3</td>\n",
       "      <td>3</td>\n",
       "      <td>Heikkinen, Miss. Laina</td>\n",
       "      <td>female</td>\n",
       "      <td>26.0</td>\n",
       "      <td>0</td>\n",
       "      <td>0</td>\n",
       "      <td>STON/O2. 3101282</td>\n",
       "      <td>7.9250</td>\n",
       "      <td>NaN</td>\n",
       "      <td>S</td>\n",
       "    </tr>\n",
       "    <tr>\n",
       "      <th>3</th>\n",
       "      <td>4</td>\n",
       "      <td>1</td>\n",
       "      <td>Futrelle, Mrs. Jacques Heath (Lily May Peel)</td>\n",
       "      <td>female</td>\n",
       "      <td>35.0</td>\n",
       "      <td>1</td>\n",
       "      <td>0</td>\n",
       "      <td>113803</td>\n",
       "      <td>53.1000</td>\n",
       "      <td>C123</td>\n",
       "      <td>S</td>\n",
       "    </tr>\n",
       "    <tr>\n",
       "      <th>4</th>\n",
       "      <td>5</td>\n",
       "      <td>3</td>\n",
       "      <td>Allen, Mr. William Henry</td>\n",
       "      <td>male</td>\n",
       "      <td>35.0</td>\n",
       "      <td>0</td>\n",
       "      <td>0</td>\n",
       "      <td>373450</td>\n",
       "      <td>8.0500</td>\n",
       "      <td>NaN</td>\n",
       "      <td>S</td>\n",
       "    </tr>\n",
       "  </tbody>\n",
       "</table>\n",
       "</div>"
      ],
      "text/plain": [
       "   PassengerId  Pclass                                               Name  \\\n",
       "0            1       3                            Braund, Mr. Owen Harris   \n",
       "1            2       1  Cumings, Mrs. John Bradley (Florence Briggs Th...   \n",
       "2            3       3                             Heikkinen, Miss. Laina   \n",
       "3            4       1       Futrelle, Mrs. Jacques Heath (Lily May Peel)   \n",
       "4            5       3                           Allen, Mr. William Henry   \n",
       "\n",
       "      Sex   Age  SibSp  Parch            Ticket     Fare Cabin Embarked  \n",
       "0    male  22.0      1      0         A/5 21171   7.2500   NaN        S  \n",
       "1  female  38.0      1      0          PC 17599  71.2833   C85        C  \n",
       "2  female  26.0      0      0  STON/O2. 3101282   7.9250   NaN        S  \n",
       "3  female  35.0      1      0            113803  53.1000  C123        S  \n",
       "4    male  35.0      0      0            373450   8.0500   NaN        S  "
      ]
     },
     "execution_count": 5,
     "metadata": {},
     "output_type": "execute_result"
    }
   ],
   "source": [
    "#Extrair a coluna Survived e excluí-la do treino\n",
    "\n",
    "target = train.Survived.copy()\n",
    "\n",
    "train.drop(columns=['Survived'], inplace=True)\n",
    "\n",
    "train.head()#confirmando a exclusão"
   ]
  },
  {
   "cell_type": "code",
   "execution_count": 6,
   "metadata": {
    "execution": {
     "iopub.execute_input": "2021-02-14T18:53:06.034675Z",
     "iopub.status.busy": "2021-02-14T18:53:06.031386Z",
     "iopub.status.idle": "2021-02-14T18:53:06.040112Z",
     "shell.execute_reply": "2021-02-14T18:53:06.039427Z"
    },
    "executionInfo": {
     "elapsed": 966,
     "status": "ok",
     "timestamp": 1613166181881,
     "user": {
      "displayName": "Samuel S. Ferreira",
      "photoUrl": "https://lh3.googleusercontent.com/a-/AOh14GhMXcQbRtC5Q43vAXPtrgywOfemEDLbqQwWeOHB=s64",
      "userId": "04389966910635240145"
     },
     "user_tz": 180
    },
    "id": "sd6gSDXFRejd",
    "outputId": "abd5f8e2-7424-4103-9aef-b8dccdf8da6d",
    "papermill": {
     "duration": 0.091625,
     "end_time": "2021-02-14T18:53:06.040270",
     "exception": false,
     "start_time": "2021-02-14T18:53:05.948645",
     "status": "completed"
    },
    "tags": []
   },
   "outputs": [
    {
     "data": {
      "text/plain": [
       "(1309, 11)"
      ]
     },
     "metadata": {},
     "output_type": "display_data"
    }
   ],
   "source": [
    "# juntando treino e teste em um único DataFrame\n",
    "\n",
    "tudo_junto = pd.concat(objs=[train, test], axis=0).reset_index(drop=True)\n",
    "\n",
    "display(tudo_junto.shape)"
   ]
  },
  {
   "cell_type": "markdown",
   "metadata": {
    "id": "4bGqVCvWSQmd",
    "papermill": {
     "duration": 0.077586,
     "end_time": "2021-02-14T18:53:06.196556",
     "exception": false,
     "start_time": "2021-02-14T18:53:06.118970",
     "status": "completed"
    },
    "tags": []
   },
   "source": [
    "## **3.2 - Selecionando as features**\n",
    "\n",
    "Alguns dados não serão importantes para a construção do modelo como nem os notamos na Análise Exploratória. Então iremos excluí-los. \n",
    "\n",
    "No caso são: ['PassengerId', 'Name', 'Ticket', 'Cabin']"
   ]
  },
  {
   "cell_type": "code",
   "execution_count": 7,
   "metadata": {
    "execution": {
     "iopub.execute_input": "2021-02-14T18:53:06.365862Z",
     "iopub.status.busy": "2021-02-14T18:53:06.355556Z",
     "iopub.status.idle": "2021-02-14T18:53:06.370873Z",
     "shell.execute_reply": "2021-02-14T18:53:06.370193Z"
    },
    "id": "eFktEu34RJrO",
    "papermill": {
     "duration": 0.09833,
     "end_time": "2021-02-14T18:53:06.371036",
     "exception": false,
     "start_time": "2021-02-14T18:53:06.272706",
     "status": "completed"
    },
    "tags": []
   },
   "outputs": [
    {
     "data": {
      "text/html": [
       "<div>\n",
       "<style scoped>\n",
       "    .dataframe tbody tr th:only-of-type {\n",
       "        vertical-align: middle;\n",
       "    }\n",
       "\n",
       "    .dataframe tbody tr th {\n",
       "        vertical-align: top;\n",
       "    }\n",
       "\n",
       "    .dataframe thead th {\n",
       "        text-align: right;\n",
       "    }\n",
       "</style>\n",
       "<table border=\"1\" class=\"dataframe\">\n",
       "  <thead>\n",
       "    <tr style=\"text-align: right;\">\n",
       "      <th></th>\n",
       "      <th>Pclass</th>\n",
       "      <th>Sex</th>\n",
       "      <th>Age</th>\n",
       "      <th>SibSp</th>\n",
       "      <th>Parch</th>\n",
       "      <th>Fare</th>\n",
       "      <th>Embarked</th>\n",
       "    </tr>\n",
       "  </thead>\n",
       "  <tbody>\n",
       "    <tr>\n",
       "      <th>0</th>\n",
       "      <td>3</td>\n",
       "      <td>male</td>\n",
       "      <td>22.0</td>\n",
       "      <td>1</td>\n",
       "      <td>0</td>\n",
       "      <td>7.2500</td>\n",
       "      <td>S</td>\n",
       "    </tr>\n",
       "    <tr>\n",
       "      <th>1</th>\n",
       "      <td>1</td>\n",
       "      <td>female</td>\n",
       "      <td>38.0</td>\n",
       "      <td>1</td>\n",
       "      <td>0</td>\n",
       "      <td>71.2833</td>\n",
       "      <td>C</td>\n",
       "    </tr>\n",
       "    <tr>\n",
       "      <th>2</th>\n",
       "      <td>3</td>\n",
       "      <td>female</td>\n",
       "      <td>26.0</td>\n",
       "      <td>0</td>\n",
       "      <td>0</td>\n",
       "      <td>7.9250</td>\n",
       "      <td>S</td>\n",
       "    </tr>\n",
       "    <tr>\n",
       "      <th>3</th>\n",
       "      <td>1</td>\n",
       "      <td>female</td>\n",
       "      <td>35.0</td>\n",
       "      <td>1</td>\n",
       "      <td>0</td>\n",
       "      <td>53.1000</td>\n",
       "      <td>S</td>\n",
       "    </tr>\n",
       "    <tr>\n",
       "      <th>4</th>\n",
       "      <td>3</td>\n",
       "      <td>male</td>\n",
       "      <td>35.0</td>\n",
       "      <td>0</td>\n",
       "      <td>0</td>\n",
       "      <td>8.0500</td>\n",
       "      <td>S</td>\n",
       "    </tr>\n",
       "  </tbody>\n",
       "</table>\n",
       "</div>"
      ],
      "text/plain": [
       "   Pclass     Sex   Age  SibSp  Parch     Fare Embarked\n",
       "0       3    male  22.0      1      0   7.2500        S\n",
       "1       1  female  38.0      1      0  71.2833        C\n",
       "2       3  female  26.0      0      0   7.9250        S\n",
       "3       1  female  35.0      1      0  53.1000        S\n",
       "4       3    male  35.0      0      0   8.0500        S"
      ]
     },
     "execution_count": 7,
     "metadata": {},
     "output_type": "execute_result"
    }
   ],
   "source": [
    "tudo_junto.drop(columns=['PassengerId', 'Name', 'Ticket', 'Cabin'], inplace=True)\n",
    "tudo_junto.head()"
   ]
  },
  {
   "cell_type": "markdown",
   "metadata": {
    "id": "frjnAi44xXWS",
    "papermill": {
     "duration": 0.077777,
     "end_time": "2021-02-14T18:53:06.526600",
     "exception": false,
     "start_time": "2021-02-14T18:53:06.448823",
     "status": "completed"
    },
    "tags": []
   },
   "source": [
    "## **3.3 - Tratando os valores faltantes**\n",
    "\n",
    "Normalmente preenchemos os dados faltantes com algum critério ou os excluímos. \n",
    "Se os dados faltantes forem menos que 5% do dataset então excluir é uma solução rápida, mas se for maior que isso corre-se o risco de perder dados e influencia a criação do modelo e o resultados das predições.\n",
    "\n",
    "Vejamos.\n"
   ]
  },
  {
   "cell_type": "code",
   "execution_count": 8,
   "metadata": {
    "execution": {
     "iopub.execute_input": "2021-02-14T18:53:06.689247Z",
     "iopub.status.busy": "2021-02-14T18:53:06.688519Z",
     "iopub.status.idle": "2021-02-14T18:53:06.693030Z",
     "shell.execute_reply": "2021-02-14T18:53:06.692389Z"
    },
    "executionInfo": {
     "elapsed": 969,
     "status": "ok",
     "timestamp": 1612640584839,
     "user": {
      "displayName": "Samuel S. Ferreira",
      "photoUrl": "https://lh3.googleusercontent.com/a-/AOh14GhMXcQbRtC5Q43vAXPtrgywOfemEDLbqQwWeOHB=s64",
      "userId": "04389966910635240145"
     },
     "user_tz": 180
    },
    "id": "48iGYBYzxOLk",
    "outputId": "cbd87469-9f67-4ad9-d2da-1bce91ba30d8",
    "papermill": {
     "duration": 0.089725,
     "end_time": "2021-02-14T18:53:06.693172",
     "exception": false,
     "start_time": "2021-02-14T18:53:06.603447",
     "status": "completed"
    },
    "tags": []
   },
   "outputs": [
    {
     "data": {
      "text/plain": [
       "Pclass        0\n",
       "Sex           0\n",
       "Age         263\n",
       "SibSp         0\n",
       "Parch         0\n",
       "Fare          1\n",
       "Embarked      2\n",
       "dtype: int64"
      ]
     },
     "execution_count": 8,
     "metadata": {},
     "output_type": "execute_result"
    }
   ],
   "source": [
    "tudo_junto.isna().sum()"
   ]
  },
  {
   "cell_type": "code",
   "execution_count": 9,
   "metadata": {
    "execution": {
     "iopub.execute_input": "2021-02-14T18:53:06.856422Z",
     "iopub.status.busy": "2021-02-14T18:53:06.855376Z",
     "iopub.status.idle": "2021-02-14T18:53:06.878458Z",
     "shell.execute_reply": "2021-02-14T18:53:06.877807Z"
    },
    "papermill": {
     "duration": 0.107789,
     "end_time": "2021-02-14T18:53:06.878611",
     "exception": false,
     "start_time": "2021-02-14T18:53:06.770822",
     "status": "completed"
    },
    "tags": []
   },
   "outputs": [
    {
     "data": {
      "text/plain": [
       "Pclass       0.000000\n",
       "Sex          0.000000\n",
       "Age         20.091673\n",
       "SibSp        0.000000\n",
       "Parch        0.000000\n",
       "Fare         0.076394\n",
       "Embarked     0.152788\n",
       "dtype: float64"
      ]
     },
     "execution_count": 9,
     "metadata": {},
     "output_type": "execute_result"
    }
   ],
   "source": [
    "tudo_junto.isna().sum()/tudo_junto.shape[0] *100"
   ]
  },
  {
   "cell_type": "markdown",
   "metadata": {
    "id": "nFY1-2iPxyJc",
    "papermill": {
     "duration": 0.07863,
     "end_time": "2021-02-14T18:53:07.035210",
     "exception": false,
     "start_time": "2021-02-14T18:53:06.956580",
     "status": "completed"
    },
    "tags": []
   },
   "source": [
    "Na idade e tarifa podemos completar os dados faltantes com a mediana ou a média, optamos pela mediana, já no caso do local de embarque optamos pelo porto de maior frequência.\n",
    "Note que poderíamos optar por excluir os dados faltantes em Fare e Embarked, uma vez que representam menos de 1% dos dados totais. Já na variável idade, os dados faltantes são representativos: 20%, e sua exclusão poderia ocorrer perdas significativas de informações."
   ]
  },
  {
   "cell_type": "code",
   "execution_count": 10,
   "metadata": {
    "execution": {
     "iopub.execute_input": "2021-02-14T18:53:07.209522Z",
     "iopub.status.busy": "2021-02-14T18:53:07.208848Z",
     "iopub.status.idle": "2021-02-14T18:53:07.211982Z",
     "shell.execute_reply": "2021-02-14T18:53:07.211323Z"
    },
    "id": "qqiwQhLbxVSw",
    "papermill": {
     "duration": 0.086963,
     "end_time": "2021-02-14T18:53:07.212125",
     "exception": false,
     "start_time": "2021-02-14T18:53:07.125162",
     "status": "completed"
    },
    "tags": []
   },
   "outputs": [],
   "source": [
    "#idade - Escolhemos completar os valores nulos com a mediana, mas poderia ser a moda também.\n",
    "tudo_junto.Age.fillna(tudo_junto.Age.median(), inplace=True)"
   ]
  },
  {
   "cell_type": "code",
   "execution_count": 11,
   "metadata": {
    "execution": {
     "iopub.execute_input": "2021-02-14T18:53:07.377856Z",
     "iopub.status.busy": "2021-02-14T18:53:07.377127Z",
     "iopub.status.idle": "2021-02-14T18:53:07.380269Z",
     "shell.execute_reply": "2021-02-14T18:53:07.379728Z"
    },
    "id": "xlWoD5TCyXLK",
    "papermill": {
     "duration": 0.090054,
     "end_time": "2021-02-14T18:53:07.380444",
     "exception": false,
     "start_time": "2021-02-14T18:53:07.290390",
     "status": "completed"
    },
    "tags": []
   },
   "outputs": [],
   "source": [
    "#Tarifa - Também escolhemos preencher com a mediana\n",
    "tudo_junto.Fare.fillna(tudo_junto.Fare.median(),inplace=True)\n"
   ]
  },
  {
   "cell_type": "code",
   "execution_count": 12,
   "metadata": {
    "execution": {
     "iopub.execute_input": "2021-02-14T18:53:07.550742Z",
     "iopub.status.busy": "2021-02-14T18:53:07.549709Z",
     "iopub.status.idle": "2021-02-14T18:53:07.553054Z",
     "shell.execute_reply": "2021-02-14T18:53:07.552390Z"
    },
    "id": "GsmsA-LbzJqV",
    "papermill": {
     "duration": 0.094714,
     "end_time": "2021-02-14T18:53:07.553199",
     "exception": false,
     "start_time": "2021-02-14T18:53:07.458485",
     "status": "completed"
    },
    "tags": []
   },
   "outputs": [],
   "source": [
    "#Local de Embarque - Preenchemos com o local onde teve maior número de embarques.\n",
    "tudo_junto.Embarked.fillna(tudo_junto.Embarked.value_counts()[0],inplace=True)"
   ]
  },
  {
   "cell_type": "code",
   "execution_count": 13,
   "metadata": {
    "execution": {
     "iopub.execute_input": "2021-02-14T18:53:07.721025Z",
     "iopub.status.busy": "2021-02-14T18:53:07.720070Z",
     "iopub.status.idle": "2021-02-14T18:53:07.724506Z",
     "shell.execute_reply": "2021-02-14T18:53:07.725018Z"
    },
    "executionInfo": {
     "elapsed": 1020,
     "status": "ok",
     "timestamp": 1612640606331,
     "user": {
      "displayName": "Samuel S. Ferreira",
      "photoUrl": "https://lh3.googleusercontent.com/a-/AOh14GhMXcQbRtC5Q43vAXPtrgywOfemEDLbqQwWeOHB=s64",
      "userId": "04389966910635240145"
     },
     "user_tz": 180
    },
    "id": "nGfsdWETyh2C",
    "outputId": "f8aca236-3fd0-4fe3-fd51-fdbd3fed6f63",
    "papermill": {
     "duration": 0.092741,
     "end_time": "2021-02-14T18:53:07.725197",
     "exception": false,
     "start_time": "2021-02-14T18:53:07.632456",
     "status": "completed"
    },
    "tags": []
   },
   "outputs": [
    {
     "data": {
      "text/plain": [
       "Pclass      0\n",
       "Sex         0\n",
       "Age         0\n",
       "SibSp       0\n",
       "Parch       0\n",
       "Fare        0\n",
       "Embarked    0\n",
       "dtype: int64"
      ]
     },
     "execution_count": 13,
     "metadata": {},
     "output_type": "execute_result"
    }
   ],
   "source": [
    "#Conferindo que não há mais valores nulos.\n",
    "tudo_junto.isna().sum()"
   ]
  },
  {
   "cell_type": "markdown",
   "metadata": {
    "id": "rhbsdsUEz3T-",
    "papermill": {
     "duration": 0.079803,
     "end_time": "2021-02-14T18:53:07.885135",
     "exception": false,
     "start_time": "2021-02-14T18:53:07.805332",
     "status": "completed"
    },
    "tags": []
   },
   "source": [
    "## **3.4 - Preparando as variáveis para os modelos**\n",
    "\n",
    "As variáveis de entrada para o modelo devem ser numéricas, portanto as categóricas terão que ser representadas desse modo:\n",
    "- para Sex faremos 0 para male e 1 para female\n",
    "- e para o local de embaque usaremos os dummies, isto é: \n",
    "- - se o passageiro embarcou no porto A, então recebe valor 1 para A e 0 para os demais portos; \n",
    "- - se embarcou no B recebe 1 para B e 0 nos demais;\n",
    "- - se embarcou no C recebe 1 para C e 0 nos demais;"
   ]
  },
  {
   "cell_type": "code",
   "execution_count": 14,
   "metadata": {
    "execution": {
     "iopub.execute_input": "2021-02-14T18:53:08.054944Z",
     "iopub.status.busy": "2021-02-14T18:53:08.053950Z",
     "iopub.status.idle": "2021-02-14T18:53:08.058844Z",
     "shell.execute_reply": "2021-02-14T18:53:08.058180Z"
    },
    "executionInfo": {
     "elapsed": 950,
     "status": "ok",
     "timestamp": 1612640622089,
     "user": {
      "displayName": "Samuel S. Ferreira",
      "photoUrl": "https://lh3.googleusercontent.com/a-/AOh14GhMXcQbRtC5Q43vAXPtrgywOfemEDLbqQwWeOHB=s64",
      "userId": "04389966910635240145"
     },
     "user_tz": 180
    },
    "id": "nBi-WMbjztoq",
    "outputId": "7169bf73-e17f-4e21-bf5e-22f22390dcb2",
    "papermill": {
     "duration": 0.095092,
     "end_time": "2021-02-14T18:53:08.058988",
     "exception": false,
     "start_time": "2021-02-14T18:53:07.963896",
     "status": "completed"
    },
    "tags": []
   },
   "outputs": [
    {
     "data": {
      "text/plain": [
       "0       0\n",
       "1       1\n",
       "2       1\n",
       "3       1\n",
       "4       0\n",
       "       ..\n",
       "1304    0\n",
       "1305    1\n",
       "1306    0\n",
       "1307    0\n",
       "1308    0\n",
       "Name: Sex, Length: 1309, dtype: int64"
      ]
     },
     "execution_count": 14,
     "metadata": {},
     "output_type": "execute_result"
    }
   ],
   "source": [
    "# COnvertendo Sex 0 para male e 1 para female\n",
    "\n",
    "tudo_junto.Sex = tudo_junto.Sex.map({\"male\":0 , \"female\":1})\n",
    "\n",
    "tudo_junto.Sex"
   ]
  },
  {
   "cell_type": "code",
   "execution_count": 15,
   "metadata": {
    "execution": {
     "iopub.execute_input": "2021-02-14T18:53:08.227825Z",
     "iopub.status.busy": "2021-02-14T18:53:08.226887Z",
     "iopub.status.idle": "2021-02-14T18:53:08.235185Z",
     "shell.execute_reply": "2021-02-14T18:53:08.234495Z"
    },
    "id": "sOthbW3w1LNn",
    "papermill": {
     "duration": 0.095838,
     "end_time": "2021-02-14T18:53:08.235369",
     "exception": false,
     "start_time": "2021-02-14T18:53:08.139531",
     "status": "completed"
    },
    "tags": []
   },
   "outputs": [],
   "source": [
    "# dummies variables para Embarked\n",
    "embarked_dummies = pd.get_dummies(tudo_junto.Embarked, prefix='Embarked')\n",
    "\n",
    "tudo_junto = pd.concat([tudo_junto, embarked_dummies], axis=1)\n",
    "                      "
   ]
  },
  {
   "cell_type": "code",
   "execution_count": 16,
   "metadata": {
    "execution": {
     "iopub.execute_input": "2021-02-14T18:53:08.408268Z",
     "iopub.status.busy": "2021-02-14T18:53:08.399882Z",
     "iopub.status.idle": "2021-02-14T18:53:08.423090Z",
     "shell.execute_reply": "2021-02-14T18:53:08.422408Z"
    },
    "papermill": {
     "duration": 0.107692,
     "end_time": "2021-02-14T18:53:08.423234",
     "exception": false,
     "start_time": "2021-02-14T18:53:08.315542",
     "status": "completed"
    },
    "tags": []
   },
   "outputs": [
    {
     "data": {
      "text/html": [
       "<div>\n",
       "<style scoped>\n",
       "    .dataframe tbody tr th:only-of-type {\n",
       "        vertical-align: middle;\n",
       "    }\n",
       "\n",
       "    .dataframe tbody tr th {\n",
       "        vertical-align: top;\n",
       "    }\n",
       "\n",
       "    .dataframe thead th {\n",
       "        text-align: right;\n",
       "    }\n",
       "</style>\n",
       "<table border=\"1\" class=\"dataframe\">\n",
       "  <thead>\n",
       "    <tr style=\"text-align: right;\">\n",
       "      <th></th>\n",
       "      <th>Pclass</th>\n",
       "      <th>Sex</th>\n",
       "      <th>Age</th>\n",
       "      <th>SibSp</th>\n",
       "      <th>Parch</th>\n",
       "      <th>Fare</th>\n",
       "      <th>Embarked</th>\n",
       "      <th>Embarked_914</th>\n",
       "      <th>Embarked_C</th>\n",
       "      <th>Embarked_Q</th>\n",
       "      <th>Embarked_S</th>\n",
       "    </tr>\n",
       "  </thead>\n",
       "  <tbody>\n",
       "    <tr>\n",
       "      <th>0</th>\n",
       "      <td>3</td>\n",
       "      <td>0</td>\n",
       "      <td>22.0</td>\n",
       "      <td>1</td>\n",
       "      <td>0</td>\n",
       "      <td>7.2500</td>\n",
       "      <td>S</td>\n",
       "      <td>0</td>\n",
       "      <td>0</td>\n",
       "      <td>0</td>\n",
       "      <td>1</td>\n",
       "    </tr>\n",
       "    <tr>\n",
       "      <th>1</th>\n",
       "      <td>1</td>\n",
       "      <td>1</td>\n",
       "      <td>38.0</td>\n",
       "      <td>1</td>\n",
       "      <td>0</td>\n",
       "      <td>71.2833</td>\n",
       "      <td>C</td>\n",
       "      <td>0</td>\n",
       "      <td>1</td>\n",
       "      <td>0</td>\n",
       "      <td>0</td>\n",
       "    </tr>\n",
       "    <tr>\n",
       "      <th>2</th>\n",
       "      <td>3</td>\n",
       "      <td>1</td>\n",
       "      <td>26.0</td>\n",
       "      <td>0</td>\n",
       "      <td>0</td>\n",
       "      <td>7.9250</td>\n",
       "      <td>S</td>\n",
       "      <td>0</td>\n",
       "      <td>0</td>\n",
       "      <td>0</td>\n",
       "      <td>1</td>\n",
       "    </tr>\n",
       "    <tr>\n",
       "      <th>3</th>\n",
       "      <td>1</td>\n",
       "      <td>1</td>\n",
       "      <td>35.0</td>\n",
       "      <td>1</td>\n",
       "      <td>0</td>\n",
       "      <td>53.1000</td>\n",
       "      <td>S</td>\n",
       "      <td>0</td>\n",
       "      <td>0</td>\n",
       "      <td>0</td>\n",
       "      <td>1</td>\n",
       "    </tr>\n",
       "    <tr>\n",
       "      <th>4</th>\n",
       "      <td>3</td>\n",
       "      <td>0</td>\n",
       "      <td>35.0</td>\n",
       "      <td>0</td>\n",
       "      <td>0</td>\n",
       "      <td>8.0500</td>\n",
       "      <td>S</td>\n",
       "      <td>0</td>\n",
       "      <td>0</td>\n",
       "      <td>0</td>\n",
       "      <td>1</td>\n",
       "    </tr>\n",
       "    <tr>\n",
       "      <th>...</th>\n",
       "      <td>...</td>\n",
       "      <td>...</td>\n",
       "      <td>...</td>\n",
       "      <td>...</td>\n",
       "      <td>...</td>\n",
       "      <td>...</td>\n",
       "      <td>...</td>\n",
       "      <td>...</td>\n",
       "      <td>...</td>\n",
       "      <td>...</td>\n",
       "      <td>...</td>\n",
       "    </tr>\n",
       "    <tr>\n",
       "      <th>1304</th>\n",
       "      <td>3</td>\n",
       "      <td>0</td>\n",
       "      <td>28.0</td>\n",
       "      <td>0</td>\n",
       "      <td>0</td>\n",
       "      <td>8.0500</td>\n",
       "      <td>S</td>\n",
       "      <td>0</td>\n",
       "      <td>0</td>\n",
       "      <td>0</td>\n",
       "      <td>1</td>\n",
       "    </tr>\n",
       "    <tr>\n",
       "      <th>1305</th>\n",
       "      <td>1</td>\n",
       "      <td>1</td>\n",
       "      <td>39.0</td>\n",
       "      <td>0</td>\n",
       "      <td>0</td>\n",
       "      <td>108.9000</td>\n",
       "      <td>C</td>\n",
       "      <td>0</td>\n",
       "      <td>1</td>\n",
       "      <td>0</td>\n",
       "      <td>0</td>\n",
       "    </tr>\n",
       "    <tr>\n",
       "      <th>1306</th>\n",
       "      <td>3</td>\n",
       "      <td>0</td>\n",
       "      <td>38.5</td>\n",
       "      <td>0</td>\n",
       "      <td>0</td>\n",
       "      <td>7.2500</td>\n",
       "      <td>S</td>\n",
       "      <td>0</td>\n",
       "      <td>0</td>\n",
       "      <td>0</td>\n",
       "      <td>1</td>\n",
       "    </tr>\n",
       "    <tr>\n",
       "      <th>1307</th>\n",
       "      <td>3</td>\n",
       "      <td>0</td>\n",
       "      <td>28.0</td>\n",
       "      <td>0</td>\n",
       "      <td>0</td>\n",
       "      <td>8.0500</td>\n",
       "      <td>S</td>\n",
       "      <td>0</td>\n",
       "      <td>0</td>\n",
       "      <td>0</td>\n",
       "      <td>1</td>\n",
       "    </tr>\n",
       "    <tr>\n",
       "      <th>1308</th>\n",
       "      <td>3</td>\n",
       "      <td>0</td>\n",
       "      <td>28.0</td>\n",
       "      <td>1</td>\n",
       "      <td>1</td>\n",
       "      <td>22.3583</td>\n",
       "      <td>C</td>\n",
       "      <td>0</td>\n",
       "      <td>1</td>\n",
       "      <td>0</td>\n",
       "      <td>0</td>\n",
       "    </tr>\n",
       "  </tbody>\n",
       "</table>\n",
       "<p>1309 rows × 11 columns</p>\n",
       "</div>"
      ],
      "text/plain": [
       "      Pclass  Sex   Age  SibSp  Parch      Fare Embarked  Embarked_914  \\\n",
       "0          3    0  22.0      1      0    7.2500        S             0   \n",
       "1          1    1  38.0      1      0   71.2833        C             0   \n",
       "2          3    1  26.0      0      0    7.9250        S             0   \n",
       "3          1    1  35.0      1      0   53.1000        S             0   \n",
       "4          3    0  35.0      0      0    8.0500        S             0   \n",
       "...      ...  ...   ...    ...    ...       ...      ...           ...   \n",
       "1304       3    0  28.0      0      0    8.0500        S             0   \n",
       "1305       1    1  39.0      0      0  108.9000        C             0   \n",
       "1306       3    0  38.5      0      0    7.2500        S             0   \n",
       "1307       3    0  28.0      0      0    8.0500        S             0   \n",
       "1308       3    0  28.0      1      1   22.3583        C             0   \n",
       "\n",
       "      Embarked_C  Embarked_Q  Embarked_S  \n",
       "0              0           0           1  \n",
       "1              1           0           0  \n",
       "2              0           0           1  \n",
       "3              0           0           1  \n",
       "4              0           0           1  \n",
       "...          ...         ...         ...  \n",
       "1304           0           0           1  \n",
       "1305           1           0           0  \n",
       "1306           0           0           1  \n",
       "1307           0           0           1  \n",
       "1308           1           0           0  \n",
       "\n",
       "[1309 rows x 11 columns]"
      ]
     },
     "execution_count": 16,
     "metadata": {},
     "output_type": "execute_result"
    }
   ],
   "source": [
    "tudo_junto"
   ]
  },
  {
   "cell_type": "code",
   "execution_count": 17,
   "metadata": {
    "execution": {
     "iopub.execute_input": "2021-02-14T18:53:08.592274Z",
     "iopub.status.busy": "2021-02-14T18:53:08.591620Z",
     "iopub.status.idle": "2021-02-14T18:53:08.594755Z",
     "shell.execute_reply": "2021-02-14T18:53:08.594116Z"
    },
    "id": "SBxDnTXM1tM5",
    "papermill": {
     "duration": 0.09121,
     "end_time": "2021-02-14T18:53:08.594907",
     "exception": false,
     "start_time": "2021-02-14T18:53:08.503697",
     "status": "completed"
    },
    "tags": []
   },
   "outputs": [],
   "source": [
    "tudo_junto.drop(columns=['Embarked'], inplace=True)"
   ]
  },
  {
   "cell_type": "code",
   "execution_count": 18,
   "metadata": {
    "execution": {
     "iopub.execute_input": "2021-02-14T18:53:08.761138Z",
     "iopub.status.busy": "2021-02-14T18:53:08.760227Z",
     "iopub.status.idle": "2021-02-14T18:53:08.785122Z",
     "shell.execute_reply": "2021-02-14T18:53:08.784466Z"
    },
    "executionInfo": {
     "elapsed": 944,
     "status": "ok",
     "timestamp": 1612640633423,
     "user": {
      "displayName": "Samuel S. Ferreira",
      "photoUrl": "https://lh3.googleusercontent.com/a-/AOh14GhMXcQbRtC5Q43vAXPtrgywOfemEDLbqQwWeOHB=s64",
      "userId": "04389966910635240145"
     },
     "user_tz": 180
    },
    "id": "iTv73-ic2kwy",
    "outputId": "8cbbd409-588a-49ae-d8a5-2963690e1b3d",
    "papermill": {
     "duration": 0.109292,
     "end_time": "2021-02-14T18:53:08.785284",
     "exception": false,
     "start_time": "2021-02-14T18:53:08.675992",
     "status": "completed"
    },
    "tags": []
   },
   "outputs": [
    {
     "data": {
      "text/html": [
       "<div>\n",
       "<style scoped>\n",
       "    .dataframe tbody tr th:only-of-type {\n",
       "        vertical-align: middle;\n",
       "    }\n",
       "\n",
       "    .dataframe tbody tr th {\n",
       "        vertical-align: top;\n",
       "    }\n",
       "\n",
       "    .dataframe thead th {\n",
       "        text-align: right;\n",
       "    }\n",
       "</style>\n",
       "<table border=\"1\" class=\"dataframe\">\n",
       "  <thead>\n",
       "    <tr style=\"text-align: right;\">\n",
       "      <th></th>\n",
       "      <th>Pclass</th>\n",
       "      <th>Sex</th>\n",
       "      <th>Age</th>\n",
       "      <th>SibSp</th>\n",
       "      <th>Parch</th>\n",
       "      <th>Fare</th>\n",
       "      <th>Embarked_914</th>\n",
       "      <th>Embarked_C</th>\n",
       "      <th>Embarked_Q</th>\n",
       "      <th>Embarked_S</th>\n",
       "    </tr>\n",
       "  </thead>\n",
       "  <tbody>\n",
       "    <tr>\n",
       "      <th>0</th>\n",
       "      <td>3</td>\n",
       "      <td>0</td>\n",
       "      <td>22.0</td>\n",
       "      <td>1</td>\n",
       "      <td>0</td>\n",
       "      <td>7.2500</td>\n",
       "      <td>0</td>\n",
       "      <td>0</td>\n",
       "      <td>0</td>\n",
       "      <td>1</td>\n",
       "    </tr>\n",
       "    <tr>\n",
       "      <th>1</th>\n",
       "      <td>1</td>\n",
       "      <td>1</td>\n",
       "      <td>38.0</td>\n",
       "      <td>1</td>\n",
       "      <td>0</td>\n",
       "      <td>71.2833</td>\n",
       "      <td>0</td>\n",
       "      <td>1</td>\n",
       "      <td>0</td>\n",
       "      <td>0</td>\n",
       "    </tr>\n",
       "    <tr>\n",
       "      <th>2</th>\n",
       "      <td>3</td>\n",
       "      <td>1</td>\n",
       "      <td>26.0</td>\n",
       "      <td>0</td>\n",
       "      <td>0</td>\n",
       "      <td>7.9250</td>\n",
       "      <td>0</td>\n",
       "      <td>0</td>\n",
       "      <td>0</td>\n",
       "      <td>1</td>\n",
       "    </tr>\n",
       "    <tr>\n",
       "      <th>3</th>\n",
       "      <td>1</td>\n",
       "      <td>1</td>\n",
       "      <td>35.0</td>\n",
       "      <td>1</td>\n",
       "      <td>0</td>\n",
       "      <td>53.1000</td>\n",
       "      <td>0</td>\n",
       "      <td>0</td>\n",
       "      <td>0</td>\n",
       "      <td>1</td>\n",
       "    </tr>\n",
       "    <tr>\n",
       "      <th>4</th>\n",
       "      <td>3</td>\n",
       "      <td>0</td>\n",
       "      <td>35.0</td>\n",
       "      <td>0</td>\n",
       "      <td>0</td>\n",
       "      <td>8.0500</td>\n",
       "      <td>0</td>\n",
       "      <td>0</td>\n",
       "      <td>0</td>\n",
       "      <td>1</td>\n",
       "    </tr>\n",
       "    <tr>\n",
       "      <th>...</th>\n",
       "      <td>...</td>\n",
       "      <td>...</td>\n",
       "      <td>...</td>\n",
       "      <td>...</td>\n",
       "      <td>...</td>\n",
       "      <td>...</td>\n",
       "      <td>...</td>\n",
       "      <td>...</td>\n",
       "      <td>...</td>\n",
       "      <td>...</td>\n",
       "    </tr>\n",
       "    <tr>\n",
       "      <th>1304</th>\n",
       "      <td>3</td>\n",
       "      <td>0</td>\n",
       "      <td>28.0</td>\n",
       "      <td>0</td>\n",
       "      <td>0</td>\n",
       "      <td>8.0500</td>\n",
       "      <td>0</td>\n",
       "      <td>0</td>\n",
       "      <td>0</td>\n",
       "      <td>1</td>\n",
       "    </tr>\n",
       "    <tr>\n",
       "      <th>1305</th>\n",
       "      <td>1</td>\n",
       "      <td>1</td>\n",
       "      <td>39.0</td>\n",
       "      <td>0</td>\n",
       "      <td>0</td>\n",
       "      <td>108.9000</td>\n",
       "      <td>0</td>\n",
       "      <td>1</td>\n",
       "      <td>0</td>\n",
       "      <td>0</td>\n",
       "    </tr>\n",
       "    <tr>\n",
       "      <th>1306</th>\n",
       "      <td>3</td>\n",
       "      <td>0</td>\n",
       "      <td>38.5</td>\n",
       "      <td>0</td>\n",
       "      <td>0</td>\n",
       "      <td>7.2500</td>\n",
       "      <td>0</td>\n",
       "      <td>0</td>\n",
       "      <td>0</td>\n",
       "      <td>1</td>\n",
       "    </tr>\n",
       "    <tr>\n",
       "      <th>1307</th>\n",
       "      <td>3</td>\n",
       "      <td>0</td>\n",
       "      <td>28.0</td>\n",
       "      <td>0</td>\n",
       "      <td>0</td>\n",
       "      <td>8.0500</td>\n",
       "      <td>0</td>\n",
       "      <td>0</td>\n",
       "      <td>0</td>\n",
       "      <td>1</td>\n",
       "    </tr>\n",
       "    <tr>\n",
       "      <th>1308</th>\n",
       "      <td>3</td>\n",
       "      <td>0</td>\n",
       "      <td>28.0</td>\n",
       "      <td>1</td>\n",
       "      <td>1</td>\n",
       "      <td>22.3583</td>\n",
       "      <td>0</td>\n",
       "      <td>1</td>\n",
       "      <td>0</td>\n",
       "      <td>0</td>\n",
       "    </tr>\n",
       "  </tbody>\n",
       "</table>\n",
       "<p>1309 rows × 10 columns</p>\n",
       "</div>"
      ],
      "text/plain": [
       "      Pclass  Sex   Age  SibSp  Parch      Fare  Embarked_914  Embarked_C  \\\n",
       "0          3    0  22.0      1      0    7.2500             0           0   \n",
       "1          1    1  38.0      1      0   71.2833             0           1   \n",
       "2          3    1  26.0      0      0    7.9250             0           0   \n",
       "3          1    1  35.0      1      0   53.1000             0           0   \n",
       "4          3    0  35.0      0      0    8.0500             0           0   \n",
       "...      ...  ...   ...    ...    ...       ...           ...         ...   \n",
       "1304       3    0  28.0      0      0    8.0500             0           0   \n",
       "1305       1    1  39.0      0      0  108.9000             0           1   \n",
       "1306       3    0  38.5      0      0    7.2500             0           0   \n",
       "1307       3    0  28.0      0      0    8.0500             0           0   \n",
       "1308       3    0  28.0      1      1   22.3583             0           1   \n",
       "\n",
       "      Embarked_Q  Embarked_S  \n",
       "0              0           1  \n",
       "1              0           0  \n",
       "2              0           1  \n",
       "3              0           1  \n",
       "4              0           1  \n",
       "...          ...         ...  \n",
       "1304           0           1  \n",
       "1305           0           0  \n",
       "1306           0           1  \n",
       "1307           0           1  \n",
       "1308           0           0  \n",
       "\n",
       "[1309 rows x 10 columns]"
      ]
     },
     "execution_count": 18,
     "metadata": {},
     "output_type": "execute_result"
    }
   ],
   "source": [
    "tudo_junto"
   ]
  },
  {
   "cell_type": "markdown",
   "metadata": {
    "id": "8qK6tkvX21Rb",
    "papermill": {
     "duration": 0.080773,
     "end_time": "2021-02-14T18:53:08.947499",
     "exception": false,
     "start_time": "2021-02-14T18:53:08.866726",
     "status": "completed"
    },
    "tags": []
   },
   "source": [
    "## **3.5 - Separando os datasets de treino e teste**\n",
    "\n",
    "Agora que já tratamos os dados podemos separar  os datasets como  eram no inicio e começaremos contruir nossos modelos e comparálos.\n"
   ]
  },
  {
   "cell_type": "code",
   "execution_count": 19,
   "metadata": {
    "execution": {
     "iopub.execute_input": "2021-02-14T18:53:09.115928Z",
     "iopub.status.busy": "2021-02-14T18:53:09.115178Z",
     "iopub.status.idle": "2021-02-14T18:53:09.119323Z",
     "shell.execute_reply": "2021-02-14T18:53:09.119961Z"
    },
    "id": "zAJIAmFg2mQM",
    "papermill": {
     "duration": 0.089984,
     "end_time": "2021-02-14T18:53:09.120154",
     "exception": false,
     "start_time": "2021-02-14T18:53:09.030170",
     "status": "completed"
    },
    "tags": []
   },
   "outputs": [],
   "source": [
    "train = tudo_junto.iloc[:train_index]\n",
    "test = tudo_junto.iloc[train_index:]"
   ]
  },
  {
   "cell_type": "markdown",
   "metadata": {
    "id": "B1b58Qy03168",
    "papermill": {
     "duration": 0.081702,
     "end_time": "2021-02-14T18:53:09.284213",
     "exception": false,
     "start_time": "2021-02-14T18:53:09.202511",
     "status": "completed"
    },
    "tags": []
   },
   "source": [
    "# **4 - Construção do Modelos e Avaliação**\n",
    "\n",
    "Nos modelos abaixo, há um briefing sobre seu funcionamento e  indicação de artigos sobre o assunto e a blioteca consultada.\n",
    "\n",
    "Depois de calculada a acurácia, o arquivo csv de predição para submissão no Kaggle é gerado e uma comparação das performances é mostrada.\n",
    "\n",
    "Antes de tudo, foi criada uma função simples com o objetivo de armazenar, classificar e exibir a performance de cada modelo."
   ]
  },
  {
   "cell_type": "code",
   "execution_count": 20,
   "metadata": {
    "execution": {
     "iopub.execute_input": "2021-02-14T18:53:09.451113Z",
     "iopub.status.busy": "2021-02-14T18:53:09.450403Z",
     "iopub.status.idle": "2021-02-14T18:53:09.456549Z",
     "shell.execute_reply": "2021-02-14T18:53:09.457080Z"
    },
    "id": "r5l9TyUXMll5",
    "papermill": {
     "duration": 0.091476,
     "end_time": "2021-02-14T18:53:09.457258",
     "exception": false,
     "start_time": "2021-02-14T18:53:09.365782",
     "status": "completed"
    },
    "tags": []
   },
   "outputs": [],
   "source": [
    "comparacao_modelos = pd.DataFrame(columns=['Modelo', 'Acurácia']) # Esse Data Frame tem o objetivo de armazenar os valores das métricas para facilitar a comparação dos valores."
   ]
  },
  {
   "cell_type": "code",
   "execution_count": 21,
   "metadata": {
    "execution": {
     "iopub.execute_input": "2021-02-14T18:53:09.626758Z",
     "iopub.status.busy": "2021-02-14T18:53:09.626013Z",
     "iopub.status.idle": "2021-02-14T18:53:09.628048Z",
     "shell.execute_reply": "2021-02-14T18:53:09.628582Z"
    },
    "id": "mkOAZ-yLBlHq",
    "papermill": {
     "duration": 0.089994,
     "end_time": "2021-02-14T18:53:09.628799",
     "exception": false,
     "start_time": "2021-02-14T18:53:09.538805",
     "status": "completed"
    },
    "tags": []
   },
   "outputs": [],
   "source": [
    "#essa função armazenará, classificará por ordem de melhor desempenho o nome do modelo e sua acurácia.\n",
    "def comparar(Nome_do_modelo, valor_acuracia):  \n",
    "\n",
    "  global comparacao_modelos\n",
    "\n",
    "  comparacao_modelos = comparacao_modelos.append({'Modelo': Nome_do_modelo, 'Acurácia': valor_acuracia }, ignore_index=True)\n",
    "\n",
    "  #Colocando em ordem de melhor acurácia para a pior\n",
    "\n",
    "  comparacao_modelos.sort_values(ascending=False, by='Acurácia', inplace=True)\n",
    "\n",
    "  comparacao_modelos.drop_duplicates(inplace=True) # para caso duplicar uma linha sem querer :)\n",
    "\n",
    "  display(comparacao_modelos) "
   ]
  },
  {
   "cell_type": "code",
   "execution_count": 22,
   "metadata": {
    "execution": {
     "iopub.execute_input": "2021-02-14T18:53:09.798017Z",
     "iopub.status.busy": "2021-02-14T18:53:09.797282Z",
     "iopub.status.idle": "2021-02-14T18:53:09.802052Z",
     "shell.execute_reply": "2021-02-14T18:53:09.801496Z"
    },
    "id": "DDkL7VV3tjxw",
    "papermill": {
     "duration": 0.089528,
     "end_time": "2021-02-14T18:53:09.802206",
     "exception": false,
     "start_time": "2021-02-14T18:53:09.712678",
     "status": "completed"
    },
    "tags": []
   },
   "outputs": [],
   "source": [
    "#a semente para que as amostram sejam as mesmas\n",
    "SEED = 2021\n",
    "np.random.seed(SEED)"
   ]
  },
  {
   "cell_type": "markdown",
   "metadata": {
    "id": "o2BCs8ZvnyQO",
    "papermill": {
     "duration": 0.081622,
     "end_time": "2021-02-14T18:53:09.965713",
     "exception": false,
     "start_time": "2021-02-14T18:53:09.884091",
     "status": "completed"
    },
    "tags": []
   },
   "source": [
    "## **4.1 - Dummy Classifier**\n",
    "O Dummy Classifier, foi o primeiro a ser escolhido já que é usado para ter uma base de performance dos modelos e suas regras de classificação são simples. Não é indicado para problemas reais.\n",
    "Por exemplo, ele pode chutar todos valores 0 ou 1 e com isso ter uma acurácia alta mas isso não quer dizer que prediz alguma coisa. \n",
    "\n",
    "[What is the scikit-learn dummy classifier?](https://medium.com/@mamonu/what-is-the-scikit-learn-dummy-classifier-95549d9cd44)\n",
    "\n",
    "[Biblioteca](https://scikit-learn.org/stable/modules/generated/sklearn.dummy.DummyClassifier.html)"
   ]
  },
  {
   "cell_type": "code",
   "execution_count": 23,
   "metadata": {
    "execution": {
     "iopub.execute_input": "2021-02-14T18:53:10.136820Z",
     "iopub.status.busy": "2021-02-14T18:53:10.135943Z",
     "iopub.status.idle": "2021-02-14T18:53:10.310562Z",
     "shell.execute_reply": "2021-02-14T18:53:10.311049Z"
    },
    "executionInfo": {
     "elapsed": 883,
     "status": "ok",
     "timestamp": 1612642070735,
     "user": {
      "displayName": "Samuel S. Ferreira",
      "photoUrl": "https://lh3.googleusercontent.com/a-/AOh14GhMXcQbRtC5Q43vAXPtrgywOfemEDLbqQwWeOHB=s64",
      "userId": "04389966910635240145"
     },
     "user_tz": 180
    },
    "id": "zc4UfdyhoSeZ",
    "outputId": "17f8fa65-5016-4a61-cde3-f5159a60dce8",
    "papermill": {
     "duration": 0.264155,
     "end_time": "2021-02-14T18:53:10.311244",
     "exception": false,
     "start_time": "2021-02-14T18:53:10.047089",
     "status": "completed"
    },
    "tags": []
   },
   "outputs": [
    {
     "data": {
      "text/plain": [
       "DummyClassifier(random_state=2021, strategy='most_frequent')"
      ]
     },
     "execution_count": 23,
     "metadata": {},
     "output_type": "execute_result"
    }
   ],
   "source": [
    "from sklearn.dummy import DummyClassifier\n",
    "\n",
    "dummy_stratified = DummyClassifier(strategy = 'most_frequent', random_state = SEED) #testei os parâmetro strategy e mantive o que obtém o melhor resultado\n",
    "\n",
    "dummy_stratified.fit(train, target)"
   ]
  },
  {
   "cell_type": "code",
   "execution_count": 24,
   "metadata": {
    "execution": {
     "iopub.execute_input": "2021-02-14T18:53:10.481749Z",
     "iopub.status.busy": "2021-02-14T18:53:10.480950Z",
     "iopub.status.idle": "2021-02-14T18:53:10.630268Z",
     "shell.execute_reply": "2021-02-14T18:53:10.629505Z"
    },
    "executionInfo": {
     "elapsed": 1074,
     "status": "ok",
     "timestamp": 1612642074680,
     "user": {
      "displayName": "Samuel S. Ferreira",
      "photoUrl": "https://lh3.googleusercontent.com/a-/AOh14GhMXcQbRtC5Q43vAXPtrgywOfemEDLbqQwWeOHB=s64",
      "userId": "04389966910635240145"
     },
     "user_tz": 180
    },
    "id": "hcnIo9KzolCg",
    "outputId": "de9515b7-0367-407c-906f-aa285c1ece39",
    "papermill": {
     "duration": 0.236769,
     "end_time": "2021-02-14T18:53:10.630448",
     "exception": false,
     "start_time": "2021-02-14T18:53:10.393679",
     "status": "completed"
    },
    "tags": []
   },
   "outputs": [
    {
     "data": {
      "text/plain": [
       "'A acurácia do modelo Dummy Classifier é de 61.62 %'"
      ]
     },
     "metadata": {},
     "output_type": "display_data"
    }
   ],
   "source": [
    "#verificando a acurácia do modelo\n",
    "acuracia_dummy = round(dummy_stratified.score(train, target)*100, 2)\n",
    "\n",
    "display(f\"A acurácia do modelo Dummy Classifier é de {acuracia_dummy} %\")"
   ]
  },
  {
   "cell_type": "code",
   "execution_count": 25,
   "metadata": {
    "execution": {
     "iopub.execute_input": "2021-02-14T18:53:10.812440Z",
     "iopub.status.busy": "2021-02-14T18:53:10.811683Z",
     "iopub.status.idle": "2021-02-14T18:53:10.816035Z",
     "shell.execute_reply": "2021-02-14T18:53:10.815464Z"
    },
    "executionInfo": {
     "elapsed": 979,
     "status": "ok",
     "timestamp": 1612642081193,
     "user": {
      "displayName": "Samuel S. Ferreira",
      "photoUrl": "https://lh3.googleusercontent.com/a-/AOh14GhMXcQbRtC5Q43vAXPtrgywOfemEDLbqQwWeOHB=s64",
      "userId": "04389966910635240145"
     },
     "user_tz": 180
    },
    "id": "4ZDbXflYo-Ga",
    "outputId": "ca247e62-8393-455b-8a44-7027396d0d62",
    "papermill": {
     "duration": 0.103207,
     "end_time": "2021-02-14T18:53:10.816182",
     "exception": false,
     "start_time": "2021-02-14T18:53:10.712975",
     "status": "completed"
    },
    "tags": []
   },
   "outputs": [
    {
     "data": {
      "text/html": [
       "<div>\n",
       "<style scoped>\n",
       "    .dataframe tbody tr th:only-of-type {\n",
       "        vertical-align: middle;\n",
       "    }\n",
       "\n",
       "    .dataframe tbody tr th {\n",
       "        vertical-align: top;\n",
       "    }\n",
       "\n",
       "    .dataframe thead th {\n",
       "        text-align: right;\n",
       "    }\n",
       "</style>\n",
       "<table border=\"1\" class=\"dataframe\">\n",
       "  <thead>\n",
       "    <tr style=\"text-align: right;\">\n",
       "      <th></th>\n",
       "      <th>Modelo</th>\n",
       "      <th>Acurácia</th>\n",
       "    </tr>\n",
       "  </thead>\n",
       "  <tbody>\n",
       "    <tr>\n",
       "      <th>0</th>\n",
       "      <td>Dummy Classifier</td>\n",
       "      <td>61.62</td>\n",
       "    </tr>\n",
       "  </tbody>\n",
       "</table>\n",
       "</div>"
      ],
      "text/plain": [
       "             Modelo  Acurácia\n",
       "0  Dummy Classifier     61.62"
      ]
     },
     "metadata": {},
     "output_type": "display_data"
    }
   ],
   "source": [
    "comparar(\"Dummy Classifier\",acuracia_dummy)"
   ]
  },
  {
   "cell_type": "markdown",
   "metadata": {
    "id": "cu3pzAH3DrPl",
    "papermill": {
     "duration": 0.084395,
     "end_time": "2021-02-14T18:53:10.984257",
     "exception": false,
     "start_time": "2021-02-14T18:53:10.899862",
     "status": "completed"
    },
    "tags": []
   },
   "source": [
    "## **4.2 - Modelo de Regressão Logística**\n",
    "É um modelo popular usado em problemas de classificação cuja a variável alvo é categórica e tem dois possíveis resultados, p.e, 0 ou 1. No nosso caso, se sobreviveu (1) ou não sobreviveu (0).\n",
    "\n",
    "[Logistic Regression — Detailed Overview](https://towardsdatascience.com/logistic-regression-detailed-overview-46c4da4303bc)\n",
    "\n",
    "[Biblioteca](https://scikit-learn.org/stable/modules/generated/sklearn.linear_model.LogisticRegression.html?highlight=logistic%20regression#sklearn.linear_model.LogisticRegression)"
   ]
  },
  {
   "cell_type": "code",
   "execution_count": 26,
   "metadata": {
    "execution": {
     "iopub.execute_input": "2021-02-14T18:53:11.156840Z",
     "iopub.status.busy": "2021-02-14T18:53:11.156059Z",
     "iopub.status.idle": "2021-02-14T18:53:11.263882Z",
     "shell.execute_reply": "2021-02-14T18:53:11.263066Z"
    },
    "id": "8oL_EHRV3-L0",
    "papermill": {
     "duration": 0.196014,
     "end_time": "2021-02-14T18:53:11.264043",
     "exception": false,
     "start_time": "2021-02-14T18:53:11.068029",
     "status": "completed"
    },
    "tags": []
   },
   "outputs": [],
   "source": [
    "from sklearn.linear_model import LogisticRegression"
   ]
  },
  {
   "cell_type": "code",
   "execution_count": 27,
   "metadata": {
    "execution": {
     "iopub.execute_input": "2021-02-14T18:53:11.438117Z",
     "iopub.status.busy": "2021-02-14T18:53:11.437334Z",
     "iopub.status.idle": "2021-02-14T18:53:11.448453Z",
     "shell.execute_reply": "2021-02-14T18:53:11.448959Z"
    },
    "executionInfo": {
     "elapsed": 997,
     "status": "ok",
     "timestamp": 1612642694360,
     "user": {
      "displayName": "Samuel S. Ferreira",
      "photoUrl": "https://lh3.googleusercontent.com/a-/AOh14GhMXcQbRtC5Q43vAXPtrgywOfemEDLbqQwWeOHB=s64",
      "userId": "04389966910635240145"
     },
     "user_tz": 180
    },
    "id": "dBE8wy8oEE3-",
    "outputId": "ee911feb-818f-493d-ee98-d8bb37d21ea7",
    "papermill": {
     "duration": 0.101867,
     "end_time": "2021-02-14T18:53:11.449153",
     "exception": false,
     "start_time": "2021-02-14T18:53:11.347286",
     "status": "completed"
    },
    "tags": []
   },
   "outputs": [
    {
     "data": {
      "text/plain": [
       "LogisticRegression(random_state=2021, solver='liblinear')"
      ]
     },
     "execution_count": 27,
     "metadata": {},
     "output_type": "execute_result"
    }
   ],
   "source": [
    "#criando  o modelo\n",
    "lr_model = LogisticRegression(solver='liblinear',random_state=SEED)\n",
    "lr_model.fit(train, target)"
   ]
  },
  {
   "cell_type": "code",
   "execution_count": 28,
   "metadata": {
    "execution": {
     "iopub.execute_input": "2021-02-14T18:53:11.624570Z",
     "iopub.status.busy": "2021-02-14T18:53:11.623193Z",
     "iopub.status.idle": "2021-02-14T18:53:11.629121Z",
     "shell.execute_reply": "2021-02-14T18:53:11.628494Z"
    },
    "executionInfo": {
     "elapsed": 927,
     "status": "ok",
     "timestamp": 1612642701430,
     "user": {
      "displayName": "Samuel S. Ferreira",
      "photoUrl": "https://lh3.googleusercontent.com/a-/AOh14GhMXcQbRtC5Q43vAXPtrgywOfemEDLbqQwWeOHB=s64",
      "userId": "04389966910635240145"
     },
     "user_tz": 180
    },
    "id": "G3RkPDlCEDu-",
    "outputId": "5f040c95-77ef-4fbc-bcfa-9eeb50094866",
    "papermill": {
     "duration": 0.096451,
     "end_time": "2021-02-14T18:53:11.629267",
     "exception": false,
     "start_time": "2021-02-14T18:53:11.532816",
     "status": "completed"
    },
    "tags": []
   },
   "outputs": [
    {
     "data": {
      "text/plain": [
       "'A acurácia do modelo de Regressão Logística é de 80.13 %'"
      ]
     },
     "metadata": {},
     "output_type": "display_data"
    }
   ],
   "source": [
    "#verificando a acurácia do modelo\n",
    "acuracia_r_l = round(lr_model.score(train, target)*100, 2)\n",
    "\n",
    "display(f\"A acurácia do modelo de Regressão Logística é de {acuracia_r_l} %\")"
   ]
  },
  {
   "cell_type": "code",
   "execution_count": 29,
   "metadata": {
    "execution": {
     "iopub.execute_input": "2021-02-14T18:53:11.807255Z",
     "iopub.status.busy": "2021-02-14T18:53:11.806272Z",
     "iopub.status.idle": "2021-02-14T18:53:11.809533Z",
     "shell.execute_reply": "2021-02-14T18:53:11.808896Z"
    },
    "id": "DBmSyGxDEuwY",
    "papermill": {
     "duration": 0.094703,
     "end_time": "2021-02-14T18:53:11.809674",
     "exception": false,
     "start_time": "2021-02-14T18:53:11.714971",
     "status": "completed"
    },
    "tags": []
   },
   "outputs": [],
   "source": [
    "#Gerando a previsão com os testes\n",
    "\n",
    "y_predict = lr_model.predict(test)\n",
    "\n",
    "#submission = pd.DataFrame({'PassengerId': passengerId,'Survived':y_predict})"
   ]
  },
  {
   "cell_type": "code",
   "execution_count": 30,
   "metadata": {
    "execution": {
     "iopub.execute_input": "2021-02-14T18:53:11.984502Z",
     "iopub.status.busy": "2021-02-14T18:53:11.983468Z",
     "iopub.status.idle": "2021-02-14T18:53:11.986816Z",
     "shell.execute_reply": "2021-02-14T18:53:11.986161Z"
    },
    "id": "_8-vD4t-G29g",
    "papermill": {
     "duration": 0.09275,
     "end_time": "2021-02-14T18:53:11.986963",
     "exception": false,
     "start_time": "2021-02-14T18:53:11.894213",
     "status": "completed"
    },
    "tags": []
   },
   "outputs": [],
   "source": [
    "#gerando o arquivo Csv\n",
    "#submission.to_csv('./submission_lr.csv', index=False)\n"
   ]
  },
  {
   "cell_type": "code",
   "execution_count": 31,
   "metadata": {
    "execution": {
     "iopub.execute_input": "2021-02-14T18:53:12.172514Z",
     "iopub.status.busy": "2021-02-14T18:53:12.171549Z",
     "iopub.status.idle": "2021-02-14T18:53:12.176764Z",
     "shell.execute_reply": "2021-02-14T18:53:12.176180Z"
    },
    "executionInfo": {
     "elapsed": 1181,
     "status": "ok",
     "timestamp": 1612643043633,
     "user": {
      "displayName": "Samuel S. Ferreira",
      "photoUrl": "https://lh3.googleusercontent.com/a-/AOh14GhMXcQbRtC5Q43vAXPtrgywOfemEDLbqQwWeOHB=s64",
      "userId": "04389966910635240145"
     },
     "user_tz": 180
    },
    "id": "MRzT3xtDQ6Xq",
    "outputId": "b3f7f004-750c-423a-c1e3-760c3d1956b1",
    "papermill": {
     "duration": 0.105729,
     "end_time": "2021-02-14T18:53:12.176911",
     "exception": false,
     "start_time": "2021-02-14T18:53:12.071182",
     "status": "completed"
    },
    "tags": []
   },
   "outputs": [
    {
     "data": {
      "text/html": [
       "<div>\n",
       "<style scoped>\n",
       "    .dataframe tbody tr th:only-of-type {\n",
       "        vertical-align: middle;\n",
       "    }\n",
       "\n",
       "    .dataframe tbody tr th {\n",
       "        vertical-align: top;\n",
       "    }\n",
       "\n",
       "    .dataframe thead th {\n",
       "        text-align: right;\n",
       "    }\n",
       "</style>\n",
       "<table border=\"1\" class=\"dataframe\">\n",
       "  <thead>\n",
       "    <tr style=\"text-align: right;\">\n",
       "      <th></th>\n",
       "      <th>Modelo</th>\n",
       "      <th>Acurácia</th>\n",
       "    </tr>\n",
       "  </thead>\n",
       "  <tbody>\n",
       "    <tr>\n",
       "      <th>1</th>\n",
       "      <td>Regressão Logística</td>\n",
       "      <td>80.13</td>\n",
       "    </tr>\n",
       "    <tr>\n",
       "      <th>0</th>\n",
       "      <td>Dummy Classifier</td>\n",
       "      <td>61.62</td>\n",
       "    </tr>\n",
       "  </tbody>\n",
       "</table>\n",
       "</div>"
      ],
      "text/plain": [
       "                Modelo  Acurácia\n",
       "1  Regressão Logística     80.13\n",
       "0     Dummy Classifier     61.62"
      ]
     },
     "metadata": {},
     "output_type": "display_data"
    }
   ],
   "source": [
    "comparar('Regressão Logística', acuracia_r_l)"
   ]
  },
  {
   "cell_type": "markdown",
   "metadata": {
    "id": "DO-JA8e6I6YX",
    "papermill": {
     "duration": 0.084968,
     "end_time": "2021-02-14T18:53:12.348091",
     "exception": false,
     "start_time": "2021-02-14T18:53:12.263123",
     "status": "completed"
    },
    "tags": []
   },
   "source": [
    "* ## **4.3 - Modelo de Árvore de Decisão**\n",
    "Algoritmos de Árvode de Decisão são métodos populares usados para regressão e classificação. \n",
    "O algritmo é baseado no precedimento de 'nó', isto é, em cada nó é feita a pergunta se pertence a 'x' ou 'y' que se tornam os nós x e y. O procedimento é realizado em x e y que por sua vez irão gerar mais 2 nós cada um. Já percebeu que o processo é exponencial né? Quanto maior a quantidade de nós, maior a profundidade da árvore o que a torna mais complexa. o parâmetro max_depth limita a profundidade da árvore.\n",
    "\n",
    "\n",
    "[Modelos de Predição | Decision Tree](https://medium.com/turing-talks/turing-talks-17-modelos-de-predi%C3%A7%C3%A3o-decision-tree-610aa484cb05)\n",
    "\n",
    "[Biblioteca](https://scikit-learn.org/stable/modules/tree.html#tree)\n"
   ]
  },
  {
   "cell_type": "code",
   "execution_count": 32,
   "metadata": {
    "execution": {
     "iopub.execute_input": "2021-02-14T18:53:12.523390Z",
     "iopub.status.busy": "2021-02-14T18:53:12.522614Z",
     "iopub.status.idle": "2021-02-14T18:53:12.624978Z",
     "shell.execute_reply": "2021-02-14T18:53:12.624399Z"
    },
    "id": "rwwhTqiWIh8E",
    "papermill": {
     "duration": 0.191988,
     "end_time": "2021-02-14T18:53:12.625132",
     "exception": false,
     "start_time": "2021-02-14T18:53:12.433144",
     "status": "completed"
    },
    "tags": []
   },
   "outputs": [],
   "source": [
    "from sklearn.tree import DecisionTreeClassifier"
   ]
  },
  {
   "cell_type": "code",
   "execution_count": 33,
   "metadata": {
    "execution": {
     "iopub.execute_input": "2021-02-14T18:53:12.806664Z",
     "iopub.status.busy": "2021-02-14T18:53:12.804671Z",
     "iopub.status.idle": "2021-02-14T18:53:12.812118Z",
     "shell.execute_reply": "2021-02-14T18:53:12.812753Z"
    },
    "executionInfo": {
     "elapsed": 678,
     "status": "ok",
     "timestamp": 1612643998359,
     "user": {
      "displayName": "Samuel S. Ferreira",
      "photoUrl": "https://lh3.googleusercontent.com/a-/AOh14GhMXcQbRtC5Q43vAXPtrgywOfemEDLbqQwWeOHB=s64",
      "userId": "04389966910635240145"
     },
     "user_tz": 180
    },
    "id": "ZwwAfNk1JTKo",
    "outputId": "0a244139-3ae9-4bb5-aa2f-044c76f30294",
    "papermill": {
     "duration": 0.102188,
     "end_time": "2021-02-14T18:53:12.812939",
     "exception": false,
     "start_time": "2021-02-14T18:53:12.710751",
     "status": "completed"
    },
    "tags": []
   },
   "outputs": [
    {
     "data": {
      "text/plain": [
       "DecisionTreeClassifier(max_depth=3, random_state=2021)"
      ]
     },
     "execution_count": 33,
     "metadata": {},
     "output_type": "execute_result"
    }
   ],
   "source": [
    "#Criando o modelo\n",
    "tree_model = DecisionTreeClassifier(max_depth=3, random_state=SEED)\n",
    "\n",
    "tree_model.fit(train,target)"
   ]
  },
  {
   "cell_type": "code",
   "execution_count": 34,
   "metadata": {
    "execution": {
     "iopub.execute_input": "2021-02-14T18:53:12.991300Z",
     "iopub.status.busy": "2021-02-14T18:53:12.990592Z",
     "iopub.status.idle": "2021-02-14T18:53:12.998765Z",
     "shell.execute_reply": "2021-02-14T18:53:12.999321Z"
    },
    "executionInfo": {
     "elapsed": 969,
     "status": "ok",
     "timestamp": 1612644009240,
     "user": {
      "displayName": "Samuel S. Ferreira",
      "photoUrl": "https://lh3.googleusercontent.com/a-/AOh14GhMXcQbRtC5Q43vAXPtrgywOfemEDLbqQwWeOHB=s64",
      "userId": "04389966910635240145"
     },
     "user_tz": 180
    },
    "id": "1iYExfpSJsUW",
    "outputId": "0d86c713-a0e5-4515-e21d-0baec99b9d3b",
    "papermill": {
     "duration": 0.099576,
     "end_time": "2021-02-14T18:53:12.999515",
     "exception": false,
     "start_time": "2021-02-14T18:53:12.899939",
     "status": "completed"
    },
    "tags": []
   },
   "outputs": [
    {
     "data": {
      "text/plain": [
       "'A acurácia do modelo de Árvore de Classificação é de 82.72 %'"
      ]
     },
     "metadata": {},
     "output_type": "display_data"
    }
   ],
   "source": [
    "#verificando a acurácia do modelo\n",
    "acuracia_tree_model = round(tree_model.score(train, target)*100, 2)\n",
    "\n",
    "display(f\"A acurácia do modelo de Árvore de Classificação é de {acuracia_tree_model} %\")"
   ]
  },
  {
   "cell_type": "code",
   "execution_count": 35,
   "metadata": {
    "execution": {
     "iopub.execute_input": "2021-02-14T18:53:13.177863Z",
     "iopub.status.busy": "2021-02-14T18:53:13.177092Z",
     "iopub.status.idle": "2021-02-14T18:53:13.188643Z",
     "shell.execute_reply": "2021-02-14T18:53:13.189178Z"
    },
    "id": "2EqWBVguJ9qD",
    "papermill": {
     "duration": 0.102576,
     "end_time": "2021-02-14T18:53:13.189375",
     "exception": false,
     "start_time": "2021-02-14T18:53:13.086799",
     "status": "completed"
    },
    "tags": []
   },
   "outputs": [],
   "source": [
    "y_pred_tree = tree_model.predict(test)\n",
    "\n",
    "submission = pd.DataFrame({\n",
    "    \"PassengerId\": passengerId,\n",
    "    \"Survived\": y_pred_tree\n",
    "})\n",
    "\n",
    "# gerar arquivo csv\n",
    "submission.to_csv('./submission_tree.csv', index=False)"
   ]
  },
  {
   "cell_type": "code",
   "execution_count": 36,
   "metadata": {
    "execution": {
     "iopub.execute_input": "2021-02-14T18:53:13.366591Z",
     "iopub.status.busy": "2021-02-14T18:53:13.365837Z",
     "iopub.status.idle": "2021-02-14T18:53:13.381170Z",
     "shell.execute_reply": "2021-02-14T18:53:13.381699Z"
    },
    "executionInfo": {
     "elapsed": 837,
     "status": "ok",
     "timestamp": 1612644025651,
     "user": {
      "displayName": "Samuel S. Ferreira",
      "photoUrl": "https://lh3.googleusercontent.com/a-/AOh14GhMXcQbRtC5Q43vAXPtrgywOfemEDLbqQwWeOHB=s64",
      "userId": "04389966910635240145"
     },
     "user_tz": 180
    },
    "id": "WMzm65H2RsDk",
    "outputId": "06e69069-8b0e-4719-a465-42d4ccb2f7e4",
    "papermill": {
     "duration": 0.106053,
     "end_time": "2021-02-14T18:53:13.381899",
     "exception": false,
     "start_time": "2021-02-14T18:53:13.275846",
     "status": "completed"
    },
    "tags": []
   },
   "outputs": [
    {
     "data": {
      "text/html": [
       "<div>\n",
       "<style scoped>\n",
       "    .dataframe tbody tr th:only-of-type {\n",
       "        vertical-align: middle;\n",
       "    }\n",
       "\n",
       "    .dataframe tbody tr th {\n",
       "        vertical-align: top;\n",
       "    }\n",
       "\n",
       "    .dataframe thead th {\n",
       "        text-align: right;\n",
       "    }\n",
       "</style>\n",
       "<table border=\"1\" class=\"dataframe\">\n",
       "  <thead>\n",
       "    <tr style=\"text-align: right;\">\n",
       "      <th></th>\n",
       "      <th>Modelo</th>\n",
       "      <th>Acurácia</th>\n",
       "    </tr>\n",
       "  </thead>\n",
       "  <tbody>\n",
       "    <tr>\n",
       "      <th>2</th>\n",
       "      <td>Decision Tree Classifier</td>\n",
       "      <td>82.72</td>\n",
       "    </tr>\n",
       "    <tr>\n",
       "      <th>0</th>\n",
       "      <td>Regressão Logística</td>\n",
       "      <td>80.13</td>\n",
       "    </tr>\n",
       "    <tr>\n",
       "      <th>1</th>\n",
       "      <td>Dummy Classifier</td>\n",
       "      <td>61.62</td>\n",
       "    </tr>\n",
       "  </tbody>\n",
       "</table>\n",
       "</div>"
      ],
      "text/plain": [
       "                     Modelo  Acurácia\n",
       "2  Decision Tree Classifier     82.72\n",
       "0       Regressão Logística     80.13\n",
       "1          Dummy Classifier     61.62"
      ]
     },
     "metadata": {},
     "output_type": "display_data"
    }
   ],
   "source": [
    "comparar( \"Decision Tree Classifier\", acuracia_tree_model)"
   ]
  },
  {
   "cell_type": "markdown",
   "metadata": {
    "id": "oqssO4DqoVAw",
    "papermill": {
     "duration": 0.086197,
     "end_time": "2021-02-14T18:53:13.555258",
     "exception": false,
     "start_time": "2021-02-14T18:53:13.469061",
     "status": "completed"
    },
    "tags": []
   },
   "source": [
    "## **4.4 - Modelo de Regressão Linear**\n"
   ]
  },
  {
   "cell_type": "code",
   "execution_count": 37,
   "metadata": {
    "execution": {
     "iopub.execute_input": "2021-02-14T18:53:13.738316Z",
     "iopub.status.busy": "2021-02-14T18:53:13.737632Z",
     "iopub.status.idle": "2021-02-14T18:53:13.741372Z",
     "shell.execute_reply": "2021-02-14T18:53:13.740676Z"
    },
    "id": "SLg-r0LBoUil",
    "papermill": {
     "duration": 0.099814,
     "end_time": "2021-02-14T18:53:13.741554",
     "exception": false,
     "start_time": "2021-02-14T18:53:13.641740",
     "status": "completed"
    },
    "tags": []
   },
   "outputs": [],
   "source": [
    "from sklearn.linear_model import LinearRegression"
   ]
  },
  {
   "cell_type": "code",
   "execution_count": 38,
   "metadata": {
    "execution": {
     "iopub.execute_input": "2021-02-14T18:53:13.926889Z",
     "iopub.status.busy": "2021-02-14T18:53:13.926227Z",
     "iopub.status.idle": "2021-02-14T18:53:13.948831Z",
     "shell.execute_reply": "2021-02-14T18:53:13.947788Z"
    },
    "executionInfo": {
     "elapsed": 1193,
     "status": "ok",
     "timestamp": 1612644829998,
     "user": {
      "displayName": "Samuel S. Ferreira",
      "photoUrl": "https://lh3.googleusercontent.com/a-/AOh14GhMXcQbRtC5Q43vAXPtrgywOfemEDLbqQwWeOHB=s64",
      "userId": "04389966910635240145"
     },
     "user_tz": 180
    },
    "id": "RfVwKIkKokoP",
    "outputId": "e71c929f-8824-4610-eeb1-07a17abc2d8c",
    "papermill": {
     "duration": 0.119792,
     "end_time": "2021-02-14T18:53:13.949002",
     "exception": false,
     "start_time": "2021-02-14T18:53:13.829210",
     "status": "completed"
    },
    "tags": []
   },
   "outputs": [
    {
     "data": {
      "text/plain": [
       "LinearRegression()"
      ]
     },
     "execution_count": 38,
     "metadata": {},
     "output_type": "execute_result"
    }
   ],
   "source": [
    "#criando o modelo\n",
    "linear_model = LinearRegression()\n",
    "linear_model.fit(train,target)"
   ]
  },
  {
   "cell_type": "code",
   "execution_count": 39,
   "metadata": {
    "execution": {
     "iopub.execute_input": "2021-02-14T18:53:14.133044Z",
     "iopub.status.busy": "2021-02-14T18:53:14.132076Z",
     "iopub.status.idle": "2021-02-14T18:53:14.137648Z",
     "shell.execute_reply": "2021-02-14T18:53:14.136976Z"
    },
    "executionInfo": {
     "elapsed": 902,
     "status": "ok",
     "timestamp": 1612644833778,
     "user": {
      "displayName": "Samuel S. Ferreira",
      "photoUrl": "https://lh3.googleusercontent.com/a-/AOh14GhMXcQbRtC5Q43vAXPtrgywOfemEDLbqQwWeOHB=s64",
      "userId": "04389966910635240145"
     },
     "user_tz": 180
    },
    "id": "FesLrPwgq0Zk",
    "outputId": "3cd09a19-5fd9-4eed-dc64-d1c2d18b4f71",
    "papermill": {
     "duration": 0.10037,
     "end_time": "2021-02-14T18:53:14.137795",
     "exception": false,
     "start_time": "2021-02-14T18:53:14.037425",
     "status": "completed"
    },
    "tags": []
   },
   "outputs": [
    {
     "data": {
      "text/plain": [
       "'A acurácia do modelo de Linear é de 39.79 %'"
      ]
     },
     "metadata": {},
     "output_type": "display_data"
    }
   ],
   "source": [
    "#verificando a acurácia do modelo\n",
    "acuracia_linear_regression = round(linear_model.score(train, target)*100, 2)\n",
    "\n",
    "display(f\"A acurácia do modelo de Linear é de {acuracia_linear_regression} %\")"
   ]
  },
  {
   "cell_type": "code",
   "execution_count": 40,
   "metadata": {
    "execution": {
     "iopub.execute_input": "2021-02-14T18:53:14.318542Z",
     "iopub.status.busy": "2021-02-14T18:53:14.317765Z",
     "iopub.status.idle": "2021-02-14T18:53:14.332801Z",
     "shell.execute_reply": "2021-02-14T18:53:14.332214Z"
    },
    "executionInfo": {
     "elapsed": 946,
     "status": "ok",
     "timestamp": 1612644836600,
     "user": {
      "displayName": "Samuel S. Ferreira",
      "photoUrl": "https://lh3.googleusercontent.com/a-/AOh14GhMXcQbRtC5Q43vAXPtrgywOfemEDLbqQwWeOHB=s64",
      "userId": "04389966910635240145"
     },
     "user_tz": 180
    },
    "id": "e1PGq8HpSXSq",
    "outputId": "491f86e3-92b7-4dce-9d36-b3eaa2ef775a",
    "papermill": {
     "duration": 0.106278,
     "end_time": "2021-02-14T18:53:14.332956",
     "exception": false,
     "start_time": "2021-02-14T18:53:14.226678",
     "status": "completed"
    },
    "tags": []
   },
   "outputs": [
    {
     "data": {
      "text/html": [
       "<div>\n",
       "<style scoped>\n",
       "    .dataframe tbody tr th:only-of-type {\n",
       "        vertical-align: middle;\n",
       "    }\n",
       "\n",
       "    .dataframe tbody tr th {\n",
       "        vertical-align: top;\n",
       "    }\n",
       "\n",
       "    .dataframe thead th {\n",
       "        text-align: right;\n",
       "    }\n",
       "</style>\n",
       "<table border=\"1\" class=\"dataframe\">\n",
       "  <thead>\n",
       "    <tr style=\"text-align: right;\">\n",
       "      <th></th>\n",
       "      <th>Modelo</th>\n",
       "      <th>Acurácia</th>\n",
       "    </tr>\n",
       "  </thead>\n",
       "  <tbody>\n",
       "    <tr>\n",
       "      <th>0</th>\n",
       "      <td>Decision Tree Classifier</td>\n",
       "      <td>82.72</td>\n",
       "    </tr>\n",
       "    <tr>\n",
       "      <th>1</th>\n",
       "      <td>Regressão Logística</td>\n",
       "      <td>80.13</td>\n",
       "    </tr>\n",
       "    <tr>\n",
       "      <th>2</th>\n",
       "      <td>Dummy Classifier</td>\n",
       "      <td>61.62</td>\n",
       "    </tr>\n",
       "    <tr>\n",
       "      <th>3</th>\n",
       "      <td>Linear Regression</td>\n",
       "      <td>39.79</td>\n",
       "    </tr>\n",
       "  </tbody>\n",
       "</table>\n",
       "</div>"
      ],
      "text/plain": [
       "                     Modelo  Acurácia\n",
       "0  Decision Tree Classifier     82.72\n",
       "1       Regressão Logística     80.13\n",
       "2          Dummy Classifier     61.62\n",
       "3         Linear Regression     39.79"
      ]
     },
     "metadata": {},
     "output_type": "display_data"
    }
   ],
   "source": [
    "comparar(\"Linear Regression\", acuracia_linear_regression)"
   ]
  },
  {
   "cell_type": "markdown",
   "metadata": {
    "id": "qb3MIlb5p7lY",
    "papermill": {
     "duration": 0.088992,
     "end_time": "2021-02-14T18:53:14.511057",
     "exception": false,
     "start_time": "2021-02-14T18:53:14.422065",
     "status": "completed"
    },
    "tags": []
   },
   "source": [
    "**O modelo de Regressão Linear definitivamente não é bom para esse tipo de problema, vimos que com o Dummy Classifier obtemos um resutado melhor.**"
   ]
  },
  {
   "cell_type": "markdown",
   "metadata": {
    "id": "_WRp3jN5UuFJ",
    "papermill": {
     "duration": 0.088963,
     "end_time": "2021-02-14T18:53:14.689711",
     "exception": false,
     "start_time": "2021-02-14T18:53:14.600748",
     "status": "completed"
    },
    "tags": []
   },
   "source": [
    "## **4.5 - Gradient Boosting ClassiFier**\n",
    "É um conjunto de modelos mais fracos que combinados conseguem fazer uma predição mais robusta. Os artigos dão uma ideia muito melhor do funcionamento desses algoritmos.\n",
    "\n",
    "[What’s a gradient boosting classifier?](https://medium.com/codestory/gradient-boosting-classifier-f7a6834979d8)\n",
    "\n",
    "\n",
    "[Um tutorial completo sobre modelagem baseada em árvores de decisão (códigos R e Python)](https://www.vooo.pro/insights/um-tutorial-completo-sobre-a-modelagem-baseada-em-tree-arvore-do-zero-em-r-python/)\n",
    "\n",
    "[Biblioteca](https://scikit-learn.org/stable/modules/generated/sklearn.ensemble.GradientBoostingClassifier.html?highlight=gradient%20boost%20classifier#sklearn.ensemble.GradientBoostingClassifier)"
   ]
  },
  {
   "cell_type": "code",
   "execution_count": 41,
   "metadata": {
    "execution": {
     "iopub.execute_input": "2021-02-14T18:53:14.871450Z",
     "iopub.status.busy": "2021-02-14T18:53:14.870789Z",
     "iopub.status.idle": "2021-02-14T18:53:14.903962Z",
     "shell.execute_reply": "2021-02-14T18:53:14.903311Z"
    },
    "id": "TzDC4ds3UyVx",
    "papermill": {
     "duration": 0.125515,
     "end_time": "2021-02-14T18:53:14.904109",
     "exception": false,
     "start_time": "2021-02-14T18:53:14.778594",
     "status": "completed"
    },
    "tags": []
   },
   "outputs": [],
   "source": [
    "from sklearn.ensemble import GradientBoostingClassifier"
   ]
  },
  {
   "cell_type": "code",
   "execution_count": 42,
   "metadata": {
    "execution": {
     "iopub.execute_input": "2021-02-14T18:53:15.091264Z",
     "iopub.status.busy": "2021-02-14T18:53:15.090570Z",
     "iopub.status.idle": "2021-02-14T18:53:15.228608Z",
     "shell.execute_reply": "2021-02-14T18:53:15.227967Z"
    },
    "executionInfo": {
     "elapsed": 1512,
     "status": "ok",
     "timestamp": 1612645423572,
     "user": {
      "displayName": "Samuel S. Ferreira",
      "photoUrl": "https://lh3.googleusercontent.com/a-/AOh14GhMXcQbRtC5Q43vAXPtrgywOfemEDLbqQwWeOHB=s64",
      "userId": "04389966910635240145"
     },
     "user_tz": 180
    },
    "id": "ruqDm8SSVRUj",
    "outputId": "4792ef61-a5c7-4ac3-b5eb-76fc3f60b2d9",
    "papermill": {
     "duration": 0.234147,
     "end_time": "2021-02-14T18:53:15.228758",
     "exception": false,
     "start_time": "2021-02-14T18:53:14.994611",
     "status": "completed"
    },
    "tags": []
   },
   "outputs": [
    {
     "data": {
      "text/plain": [
       "GradientBoostingClassifier(learning_rate=0.3, random_state=2021)"
      ]
     },
     "execution_count": 42,
     "metadata": {},
     "output_type": "execute_result"
    }
   ],
   "source": [
    "#criando o modelo\n",
    "gradient_model = GradientBoostingClassifier(max_depth=3, learning_rate=0.3, random_state=SEED)\n",
    "\n",
    "gradient_model.fit(train,target)"
   ]
  },
  {
   "cell_type": "code",
   "execution_count": 43,
   "metadata": {
    "execution": {
     "iopub.execute_input": "2021-02-14T18:53:15.417636Z",
     "iopub.status.busy": "2021-02-14T18:53:15.414923Z",
     "iopub.status.idle": "2021-02-14T18:53:15.423547Z",
     "shell.execute_reply": "2021-02-14T18:53:15.424067Z"
    },
    "executionInfo": {
     "elapsed": 1848,
     "status": "ok",
     "timestamp": 1612645428836,
     "user": {
      "displayName": "Samuel S. Ferreira",
      "photoUrl": "https://lh3.googleusercontent.com/a-/AOh14GhMXcQbRtC5Q43vAXPtrgywOfemEDLbqQwWeOHB=s64",
      "userId": "04389966910635240145"
     },
     "user_tz": 180
    },
    "id": "cz7BVnyiVoxp",
    "outputId": "588eb9b5-e67f-41d5-e468-4352f654669a",
    "papermill": {
     "duration": 0.105876,
     "end_time": "2021-02-14T18:53:15.424244",
     "exception": false,
     "start_time": "2021-02-14T18:53:15.318368",
     "status": "completed"
    },
    "tags": []
   },
   "outputs": [
    {
     "data": {
      "text/plain": [
       "'A acurácia do modelo de Gradiente é de 94.39 %'"
      ]
     },
     "metadata": {},
     "output_type": "display_data"
    }
   ],
   "source": [
    "#verificando a acurácia do modelo\n",
    "acuracia_gradient = round(gradient_model.score(train, target)*100, 2)\n",
    "\n",
    "display(f\"A acurácia do modelo de Gradiente é de {acuracia_gradient} %\")"
   ]
  },
  {
   "cell_type": "code",
   "execution_count": 44,
   "metadata": {
    "execution": {
     "iopub.execute_input": "2021-02-14T18:53:15.616633Z",
     "iopub.status.busy": "2021-02-14T18:53:15.614793Z",
     "iopub.status.idle": "2021-02-14T18:53:15.620777Z",
     "shell.execute_reply": "2021-02-14T18:53:15.620046Z"
    },
    "id": "yfYXKGrJVk4M",
    "papermill": {
     "duration": 0.106297,
     "end_time": "2021-02-14T18:53:15.620941",
     "exception": false,
     "start_time": "2021-02-14T18:53:15.514644",
     "status": "completed"
    },
    "tags": []
   },
   "outputs": [],
   "source": [
    "#gerando as previsões\n",
    "y_pred_gradient = gradient_model.predict(test)\n",
    "\n",
    "submission = pd.DataFrame({\n",
    "    \"PassengerId\": passengerId,\n",
    "    \"Survived\": y_pred_gradient\n",
    "})\n",
    "\n",
    "# gerar arquivo csv\n",
    "submission.to_csv('./submission_gradient.csv', index=False)"
   ]
  },
  {
   "cell_type": "code",
   "execution_count": 45,
   "metadata": {
    "execution": {
     "iopub.execute_input": "2021-02-14T18:53:15.824043Z",
     "iopub.status.busy": "2021-02-14T18:53:15.823108Z",
     "iopub.status.idle": "2021-02-14T18:53:15.827425Z",
     "shell.execute_reply": "2021-02-14T18:53:15.826736Z"
    },
    "executionInfo": {
     "elapsed": 981,
     "status": "ok",
     "timestamp": 1612648289310,
     "user": {
      "displayName": "Samuel S. Ferreira",
      "photoUrl": "https://lh3.googleusercontent.com/a-/AOh14GhMXcQbRtC5Q43vAXPtrgywOfemEDLbqQwWeOHB=s64",
      "userId": "04389966910635240145"
     },
     "user_tz": 180
    },
    "id": "kqyZK51wSE3X",
    "outputId": "60a569be-0317-42d8-805d-f9a6e1136b0b",
    "papermill": {
     "duration": 0.111879,
     "end_time": "2021-02-14T18:53:15.827589",
     "exception": false,
     "start_time": "2021-02-14T18:53:15.715710",
     "status": "completed"
    },
    "tags": []
   },
   "outputs": [
    {
     "data": {
      "text/html": [
       "<div>\n",
       "<style scoped>\n",
       "    .dataframe tbody tr th:only-of-type {\n",
       "        vertical-align: middle;\n",
       "    }\n",
       "\n",
       "    .dataframe tbody tr th {\n",
       "        vertical-align: top;\n",
       "    }\n",
       "\n",
       "    .dataframe thead th {\n",
       "        text-align: right;\n",
       "    }\n",
       "</style>\n",
       "<table border=\"1\" class=\"dataframe\">\n",
       "  <thead>\n",
       "    <tr style=\"text-align: right;\">\n",
       "      <th></th>\n",
       "      <th>Modelo</th>\n",
       "      <th>Acurácia</th>\n",
       "    </tr>\n",
       "  </thead>\n",
       "  <tbody>\n",
       "    <tr>\n",
       "      <th>4</th>\n",
       "      <td>Gradient Boosting Model</td>\n",
       "      <td>94.39</td>\n",
       "    </tr>\n",
       "    <tr>\n",
       "      <th>0</th>\n",
       "      <td>Decision Tree Classifier</td>\n",
       "      <td>82.72</td>\n",
       "    </tr>\n",
       "    <tr>\n",
       "      <th>1</th>\n",
       "      <td>Regressão Logística</td>\n",
       "      <td>80.13</td>\n",
       "    </tr>\n",
       "    <tr>\n",
       "      <th>2</th>\n",
       "      <td>Dummy Classifier</td>\n",
       "      <td>61.62</td>\n",
       "    </tr>\n",
       "    <tr>\n",
       "      <th>3</th>\n",
       "      <td>Linear Regression</td>\n",
       "      <td>39.79</td>\n",
       "    </tr>\n",
       "  </tbody>\n",
       "</table>\n",
       "</div>"
      ],
      "text/plain": [
       "                     Modelo  Acurácia\n",
       "4   Gradient Boosting Model     94.39\n",
       "0  Decision Tree Classifier     82.72\n",
       "1       Regressão Logística     80.13\n",
       "2          Dummy Classifier     61.62\n",
       "3         Linear Regression     39.79"
      ]
     },
     "metadata": {},
     "output_type": "display_data"
    }
   ],
   "source": [
    "comparar(\"Gradient Boosting Model\", acuracia_gradient)"
   ]
  },
  {
   "cell_type": "markdown",
   "metadata": {
    "id": "UpPLCwxqrhA3",
    "papermill": {
     "duration": 0.092024,
     "end_time": "2021-02-14T18:53:16.011941",
     "exception": false,
     "start_time": "2021-02-14T18:53:15.919917",
     "status": "completed"
    },
    "tags": []
   },
   "source": [
    "## **4.6 - Random Forest Classifier**"
   ]
  },
  {
   "cell_type": "code",
   "execution_count": 46,
   "metadata": {
    "execution": {
     "iopub.execute_input": "2021-02-14T18:53:16.203925Z",
     "iopub.status.busy": "2021-02-14T18:53:16.202693Z",
     "iopub.status.idle": "2021-02-14T18:53:16.206558Z",
     "shell.execute_reply": "2021-02-14T18:53:16.205919Z"
    },
    "id": "AsmDqjKjq0RS",
    "papermill": {
     "duration": 0.103492,
     "end_time": "2021-02-14T18:53:16.206727",
     "exception": false,
     "start_time": "2021-02-14T18:53:16.103235",
     "status": "completed"
    },
    "tags": []
   },
   "outputs": [],
   "source": [
    "from sklearn.ensemble import RandomForestClassifier"
   ]
  },
  {
   "cell_type": "code",
   "execution_count": 47,
   "metadata": {
    "execution": {
     "iopub.execute_input": "2021-02-14T18:53:16.420254Z",
     "iopub.status.busy": "2021-02-14T18:53:16.398873Z",
     "iopub.status.idle": "2021-02-14T18:53:16.546547Z",
     "shell.execute_reply": "2021-02-14T18:53:16.545833Z"
    },
    "executionInfo": {
     "elapsed": 704,
     "status": "ok",
     "timestamp": 1612571261836,
     "user": {
      "displayName": "Samuel S. Ferreira",
      "photoUrl": "https://lh3.googleusercontent.com/a-/AOh14GhMXcQbRtC5Q43vAXPtrgywOfemEDLbqQwWeOHB=s64",
      "userId": "04389966910635240145"
     },
     "user_tz": 180
    },
    "id": "K0a8E-fkrwsO",
    "outputId": "199b7936-a701-44d3-d545-d9a24ccc592c",
    "papermill": {
     "duration": 0.246983,
     "end_time": "2021-02-14T18:53:16.546703",
     "exception": false,
     "start_time": "2021-02-14T18:53:16.299720",
     "status": "completed"
    },
    "tags": []
   },
   "outputs": [
    {
     "data": {
      "text/plain": [
       "RandomForestClassifier(n_estimators=55, random_state=2021)"
      ]
     },
     "execution_count": 47,
     "metadata": {},
     "output_type": "execute_result"
    }
   ],
   "source": [
    "#criando o Modelo\n",
    "random_forest_model = RandomForestClassifier(n_estimators=55, random_state=SEED)\n",
    "random_forest_model.fit(train, target)"
   ]
  },
  {
   "cell_type": "code",
   "execution_count": 48,
   "metadata": {
    "execution": {
     "iopub.execute_input": "2021-02-14T18:53:16.765774Z",
     "iopub.status.busy": "2021-02-14T18:53:16.763980Z",
     "iopub.status.idle": "2021-02-14T18:53:16.794675Z",
     "shell.execute_reply": "2021-02-14T18:53:16.796090Z"
    },
    "executionInfo": {
     "elapsed": 790,
     "status": "ok",
     "timestamp": 1612571265333,
     "user": {
      "displayName": "Samuel S. Ferreira",
      "photoUrl": "https://lh3.googleusercontent.com/a-/AOh14GhMXcQbRtC5Q43vAXPtrgywOfemEDLbqQwWeOHB=s64",
      "userId": "04389966910635240145"
     },
     "user_tz": 180
    },
    "id": "TMYUCU35sKj2",
    "outputId": "60bea240-3e2a-4ed3-be3e-506f8891bac0",
    "papermill": {
     "duration": 0.155376,
     "end_time": "2021-02-14T18:53:16.796428",
     "exception": false,
     "start_time": "2021-02-14T18:53:16.641052",
     "status": "completed"
    },
    "tags": []
   },
   "outputs": [
    {
     "data": {
      "text/plain": [
       "'A acurácia do modelo Random Forest é de 97.98 %'"
      ]
     },
     "metadata": {},
     "output_type": "display_data"
    }
   ],
   "source": [
    "#verificando a acurácia do modelo\n",
    "acuracia_random_forest = round(random_forest_model.score(train, target)*100, 2)\n",
    "\n",
    "display(f\"A acurácia do modelo Random Forest é de {acuracia_random_forest} %\")"
   ]
  },
  {
   "cell_type": "code",
   "execution_count": 49,
   "metadata": {
    "execution": {
     "iopub.execute_input": "2021-02-14T18:53:16.998945Z",
     "iopub.status.busy": "2021-02-14T18:53:16.998112Z",
     "iopub.status.idle": "2021-02-14T18:53:17.013218Z",
     "shell.execute_reply": "2021-02-14T18:53:17.013878Z"
    },
    "id": "J0snBjW5tDYg",
    "papermill": {
     "duration": 0.117404,
     "end_time": "2021-02-14T18:53:17.014092",
     "exception": false,
     "start_time": "2021-02-14T18:53:16.896688",
     "status": "completed"
    },
    "tags": []
   },
   "outputs": [],
   "source": [
    "#gerando as previsões\n",
    "y_pred_random_forest = random_forest_model.predict(test)\n",
    "\n",
    "submission = pd.DataFrame({\n",
    "    \"PassengerId\": passengerId,\n",
    "    \"Survived\": y_pred_random_forest\n",
    "})\n",
    "\n",
    "# gerar arquivo csv\n",
    "submission.to_csv('./submission_random_forest.csv', index=False)"
   ]
  },
  {
   "cell_type": "code",
   "execution_count": 50,
   "metadata": {
    "execution": {
     "iopub.execute_input": "2021-02-14T18:53:17.206405Z",
     "iopub.status.busy": "2021-02-14T18:53:17.205716Z",
     "iopub.status.idle": "2021-02-14T18:53:17.221879Z",
     "shell.execute_reply": "2021-02-14T18:53:17.221215Z"
    },
    "executionInfo": {
     "elapsed": 811,
     "status": "ok",
     "timestamp": 1612571271450,
     "user": {
      "displayName": "Samuel S. Ferreira",
      "photoUrl": "https://lh3.googleusercontent.com/a-/AOh14GhMXcQbRtC5Q43vAXPtrgywOfemEDLbqQwWeOHB=s64",
      "userId": "04389966910635240145"
     },
     "user_tz": 180
    },
    "id": "OXQ-58N-SyyX",
    "outputId": "10c19c80-df10-48de-8cfe-5f87ee414ecb",
    "papermill": {
     "duration": 0.113441,
     "end_time": "2021-02-14T18:53:17.222046",
     "exception": false,
     "start_time": "2021-02-14T18:53:17.108605",
     "status": "completed"
    },
    "tags": []
   },
   "outputs": [
    {
     "data": {
      "text/html": [
       "<div>\n",
       "<style scoped>\n",
       "    .dataframe tbody tr th:only-of-type {\n",
       "        vertical-align: middle;\n",
       "    }\n",
       "\n",
       "    .dataframe tbody tr th {\n",
       "        vertical-align: top;\n",
       "    }\n",
       "\n",
       "    .dataframe thead th {\n",
       "        text-align: right;\n",
       "    }\n",
       "</style>\n",
       "<table border=\"1\" class=\"dataframe\">\n",
       "  <thead>\n",
       "    <tr style=\"text-align: right;\">\n",
       "      <th></th>\n",
       "      <th>Modelo</th>\n",
       "      <th>Acurácia</th>\n",
       "    </tr>\n",
       "  </thead>\n",
       "  <tbody>\n",
       "    <tr>\n",
       "      <th>5</th>\n",
       "      <td>Random Forest Classifier</td>\n",
       "      <td>97.98</td>\n",
       "    </tr>\n",
       "    <tr>\n",
       "      <th>0</th>\n",
       "      <td>Gradient Boosting Model</td>\n",
       "      <td>94.39</td>\n",
       "    </tr>\n",
       "    <tr>\n",
       "      <th>1</th>\n",
       "      <td>Decision Tree Classifier</td>\n",
       "      <td>82.72</td>\n",
       "    </tr>\n",
       "    <tr>\n",
       "      <th>2</th>\n",
       "      <td>Regressão Logística</td>\n",
       "      <td>80.13</td>\n",
       "    </tr>\n",
       "    <tr>\n",
       "      <th>3</th>\n",
       "      <td>Dummy Classifier</td>\n",
       "      <td>61.62</td>\n",
       "    </tr>\n",
       "    <tr>\n",
       "      <th>4</th>\n",
       "      <td>Linear Regression</td>\n",
       "      <td>39.79</td>\n",
       "    </tr>\n",
       "  </tbody>\n",
       "</table>\n",
       "</div>"
      ],
      "text/plain": [
       "                     Modelo  Acurácia\n",
       "5  Random Forest Classifier     97.98\n",
       "0   Gradient Boosting Model     94.39\n",
       "1  Decision Tree Classifier     82.72\n",
       "2       Regressão Logística     80.13\n",
       "3          Dummy Classifier     61.62\n",
       "4         Linear Regression     39.79"
      ]
     },
     "metadata": {},
     "output_type": "display_data"
    }
   ],
   "source": [
    "comparar(\"Random Forest Classifier\", acuracia_random_forest)"
   ]
  },
  {
   "cell_type": "markdown",
   "metadata": {
    "id": "J7Z5-qtZqfEu",
    "papermill": {
     "duration": 0.092736,
     "end_time": "2021-02-14T18:53:17.408218",
     "exception": false,
     "start_time": "2021-02-14T18:53:17.315482",
     "status": "completed"
    },
    "tags": []
   },
   "source": [
    "**UAU!! 97,98% é um resultado incrível!! Será que há algo errado?**"
   ]
  },
  {
   "cell_type": "markdown",
   "metadata": {
    "id": "Ewdk2WQmC1Ct",
    "papermill": {
     "duration": 0.093317,
     "end_time": "2021-02-14T18:53:17.594786",
     "exception": false,
     "start_time": "2021-02-14T18:53:17.501469",
     "status": "completed"
    },
    "tags": []
   },
   "source": [
    "## **4.7 - Modelo XGB Classifier**"
   ]
  },
  {
   "cell_type": "code",
   "execution_count": 51,
   "metadata": {
    "execution": {
     "iopub.execute_input": "2021-02-14T18:53:17.784713Z",
     "iopub.status.busy": "2021-02-14T18:53:17.784015Z",
     "iopub.status.idle": "2021-02-14T18:53:18.087221Z",
     "shell.execute_reply": "2021-02-14T18:53:18.086528Z"
    },
    "id": "BxEJY2EJC8Vc",
    "papermill": {
     "duration": 0.399887,
     "end_time": "2021-02-14T18:53:18.087423",
     "exception": false,
     "start_time": "2021-02-14T18:53:17.687536",
     "status": "completed"
    },
    "tags": []
   },
   "outputs": [],
   "source": [
    "from xgboost import XGBClassifier"
   ]
  },
  {
   "cell_type": "code",
   "execution_count": 52,
   "metadata": {
    "execution": {
     "iopub.execute_input": "2021-02-14T18:53:18.281562Z",
     "iopub.status.busy": "2021-02-14T18:53:18.280866Z",
     "iopub.status.idle": "2021-02-14T18:53:19.228751Z",
     "shell.execute_reply": "2021-02-14T18:53:19.228185Z"
    },
    "executionInfo": {
     "elapsed": 1481,
     "status": "ok",
     "timestamp": 1612571347683,
     "user": {
      "displayName": "Samuel S. Ferreira",
      "photoUrl": "https://lh3.googleusercontent.com/a-/AOh14GhMXcQbRtC5Q43vAXPtrgywOfemEDLbqQwWeOHB=s64",
      "userId": "04389966910635240145"
     },
     "user_tz": 180
    },
    "id": "rZQoSn0xC48I",
    "outputId": "3af90dca-7b7d-4801-9f3d-ae5c3b2cf7f0",
    "papermill": {
     "duration": 1.046687,
     "end_time": "2021-02-14T18:53:19.228902",
     "exception": false,
     "start_time": "2021-02-14T18:53:18.182215",
     "status": "completed"
    },
    "tags": []
   },
   "outputs": [
    {
     "name": "stderr",
     "output_type": "stream",
     "text": [
      "/opt/conda/lib/python3.7/site-packages/xgboost/sklearn.py:888: UserWarning: The use of label encoder in XGBClassifier is deprecated and will be removed in a future release. To remove this warning, do the following: 1) Pass option use_label_encoder=False when constructing XGBClassifier object; and 2) Encode your labels (y) as integers starting with 0, i.e. 0, 1, 2, ..., [num_class - 1].\n",
      "  warnings.warn(label_encoder_deprecation_msg, UserWarning)\n"
     ]
    },
    {
     "data": {
      "text/plain": [
       "XGBClassifier(base_score=0.5, booster='gbtree', colsample_bylevel=1,\n",
       "              colsample_bynode=1, colsample_bytree=1,\n",
       "              eval_metric=['error', 'logloss'], gamma=0, gpu_id=-1,\n",
       "              importance_type='gain', interaction_constraints='',\n",
       "              learning_rate=0.01, max_delta_step=0, max_depth=15,\n",
       "              min_child_weight=1, missing=nan, monotone_constraints='()',\n",
       "              n_estimators=500, n_jobs=4, num_parallel_tree=1, random_state=42,\n",
       "              reg_alpha=0, reg_lambda=1, scale_pos_weight=1, subsample=1,\n",
       "              tree_method='exact', validate_parameters=1, verbosity=None)"
      ]
     },
     "execution_count": 52,
     "metadata": {},
     "output_type": "execute_result"
    }
   ],
   "source": [
    "xgbc_model = XGBClassifier(max_depth=15, min_child_weight=1, n_estimators=500, random_state=42, learning_rate=0.01,  \n",
    "                     eval_metric=[\"error\", \"logloss\"])\n",
    "xgbc_model.fit(train, target)"
   ]
  },
  {
   "cell_type": "code",
   "execution_count": 53,
   "metadata": {
    "execution": {
     "iopub.execute_input": "2021-02-14T18:53:19.424779Z",
     "iopub.status.busy": "2021-02-14T18:53:19.423909Z",
     "iopub.status.idle": "2021-02-14T18:53:19.445111Z",
     "shell.execute_reply": "2021-02-14T18:53:19.446001Z"
    },
    "executionInfo": {
     "elapsed": 1011,
     "status": "ok",
     "timestamp": 1612571352060,
     "user": {
      "displayName": "Samuel S. Ferreira",
      "photoUrl": "https://lh3.googleusercontent.com/a-/AOh14GhMXcQbRtC5Q43vAXPtrgywOfemEDLbqQwWeOHB=s64",
      "userId": "04389966910635240145"
     },
     "user_tz": 180
    },
    "id": "kOikyp-uDe5q",
    "outputId": "b71458bd-773c-44d7-b71e-3592732699fd",
    "papermill": {
     "duration": 0.1225,
     "end_time": "2021-02-14T18:53:19.446210",
     "exception": false,
     "start_time": "2021-02-14T18:53:19.323710",
     "status": "completed"
    },
    "tags": []
   },
   "outputs": [
    {
     "data": {
      "text/plain": [
       "'A acurácia do modelo XGBC  é de 92.93 %'"
      ]
     },
     "metadata": {},
     "output_type": "display_data"
    }
   ],
   "source": [
    "#verificando a acurácia do modelo\n",
    "acuracia_XGB = round(xgbc_model.score(train, target)*100, 2)\n",
    "\n",
    "display(f\"A acurácia do modelo XGBC  é de {acuracia_XGB} %\")"
   ]
  },
  {
   "cell_type": "code",
   "execution_count": 54,
   "metadata": {
    "execution": {
     "iopub.execute_input": "2021-02-14T18:53:19.654489Z",
     "iopub.status.busy": "2021-02-14T18:53:19.653508Z",
     "iopub.status.idle": "2021-02-14T18:53:19.656532Z",
     "shell.execute_reply": "2021-02-14T18:53:19.657034Z"
    },
    "id": "wm0rnzbBDQfa",
    "papermill": {
     "duration": 0.113862,
     "end_time": "2021-02-14T18:53:19.657252",
     "exception": false,
     "start_time": "2021-02-14T18:53:19.543390",
     "status": "completed"
    },
    "tags": []
   },
   "outputs": [],
   "source": [
    "#gerando as previsões\n",
    "y_pred_xbgc = xgbc_model.predict(test)\n",
    "\n",
    "submission = pd.DataFrame({\n",
    "    \"PassengerId\": passengerId,\n",
    "    \"Survived\": y_pred_xbgc\n",
    "})\n",
    "\n",
    "# gerar arquivo csv\n",
    "submission.to_csv('./submission_xbgc.csv', index=False)"
   ]
  },
  {
   "cell_type": "code",
   "execution_count": 55,
   "metadata": {
    "execution": {
     "iopub.execute_input": "2021-02-14T18:53:19.855543Z",
     "iopub.status.busy": "2021-02-14T18:53:19.854784Z",
     "iopub.status.idle": "2021-02-14T18:53:19.868053Z",
     "shell.execute_reply": "2021-02-14T18:53:19.867494Z"
    },
    "executionInfo": {
     "elapsed": 803,
     "status": "ok",
     "timestamp": 1612571360633,
     "user": {
      "displayName": "Samuel S. Ferreira",
      "photoUrl": "https://lh3.googleusercontent.com/a-/AOh14GhMXcQbRtC5Q43vAXPtrgywOfemEDLbqQwWeOHB=s64",
      "userId": "04389966910635240145"
     },
     "user_tz": 180
    },
    "id": "T-rb1OP9TtML",
    "outputId": "5f60513e-0a51-448e-be29-7a9d74a19898",
    "papermill": {
     "duration": 0.113742,
     "end_time": "2021-02-14T18:53:19.868214",
     "exception": false,
     "start_time": "2021-02-14T18:53:19.754472",
     "status": "completed"
    },
    "tags": []
   },
   "outputs": [
    {
     "data": {
      "text/html": [
       "<div>\n",
       "<style scoped>\n",
       "    .dataframe tbody tr th:only-of-type {\n",
       "        vertical-align: middle;\n",
       "    }\n",
       "\n",
       "    .dataframe tbody tr th {\n",
       "        vertical-align: top;\n",
       "    }\n",
       "\n",
       "    .dataframe thead th {\n",
       "        text-align: right;\n",
       "    }\n",
       "</style>\n",
       "<table border=\"1\" class=\"dataframe\">\n",
       "  <thead>\n",
       "    <tr style=\"text-align: right;\">\n",
       "      <th></th>\n",
       "      <th>Modelo</th>\n",
       "      <th>Acurácia</th>\n",
       "    </tr>\n",
       "  </thead>\n",
       "  <tbody>\n",
       "    <tr>\n",
       "      <th>0</th>\n",
       "      <td>Random Forest Classifier</td>\n",
       "      <td>97.98</td>\n",
       "    </tr>\n",
       "    <tr>\n",
       "      <th>1</th>\n",
       "      <td>Gradient Boosting Model</td>\n",
       "      <td>94.39</td>\n",
       "    </tr>\n",
       "    <tr>\n",
       "      <th>6</th>\n",
       "      <td>XGB Classifier</td>\n",
       "      <td>92.93</td>\n",
       "    </tr>\n",
       "    <tr>\n",
       "      <th>2</th>\n",
       "      <td>Decision Tree Classifier</td>\n",
       "      <td>82.72</td>\n",
       "    </tr>\n",
       "    <tr>\n",
       "      <th>3</th>\n",
       "      <td>Regressão Logística</td>\n",
       "      <td>80.13</td>\n",
       "    </tr>\n",
       "    <tr>\n",
       "      <th>4</th>\n",
       "      <td>Dummy Classifier</td>\n",
       "      <td>61.62</td>\n",
       "    </tr>\n",
       "    <tr>\n",
       "      <th>5</th>\n",
       "      <td>Linear Regression</td>\n",
       "      <td>39.79</td>\n",
       "    </tr>\n",
       "  </tbody>\n",
       "</table>\n",
       "</div>"
      ],
      "text/plain": [
       "                     Modelo  Acurácia\n",
       "0  Random Forest Classifier     97.98\n",
       "1   Gradient Boosting Model     94.39\n",
       "6            XGB Classifier     92.93\n",
       "2  Decision Tree Classifier     82.72\n",
       "3       Regressão Logística     80.13\n",
       "4          Dummy Classifier     61.62\n",
       "5         Linear Regression     39.79"
      ]
     },
     "metadata": {},
     "output_type": "display_data"
    }
   ],
   "source": [
    "comparar('XGB Classifier',acuracia_XGB)"
   ]
  },
  {
   "cell_type": "markdown",
   "metadata": {
    "id": "sqX-QjcGBBA8",
    "papermill": {
     "duration": 0.094922,
     "end_time": "2021-02-14T18:53:20.058327",
     "exception": false,
     "start_time": "2021-02-14T18:53:19.963405",
     "status": "completed"
    },
    "tags": []
   },
   "source": [
    "## **4.8 - Modelo SVC**\n"
   ]
  },
  {
   "cell_type": "code",
   "execution_count": 56,
   "metadata": {
    "execution": {
     "iopub.execute_input": "2021-02-14T18:53:20.255601Z",
     "iopub.status.busy": "2021-02-14T18:53:20.254788Z",
     "iopub.status.idle": "2021-02-14T18:53:20.257228Z",
     "shell.execute_reply": "2021-02-14T18:53:20.257791Z"
    },
    "id": "CV_Z0YN5A_4u",
    "papermill": {
     "duration": 0.10464,
     "end_time": "2021-02-14T18:53:20.257964",
     "exception": false,
     "start_time": "2021-02-14T18:53:20.153324",
     "status": "completed"
    },
    "tags": []
   },
   "outputs": [],
   "source": [
    "from sklearn.svm import SVC"
   ]
  },
  {
   "cell_type": "code",
   "execution_count": 57,
   "metadata": {
    "execution": {
     "iopub.execute_input": "2021-02-14T18:53:20.452949Z",
     "iopub.status.busy": "2021-02-14T18:53:20.452236Z",
     "iopub.status.idle": "2021-02-14T18:53:22.097282Z",
     "shell.execute_reply": "2021-02-14T18:53:22.097760Z"
    },
    "executionInfo": {
     "elapsed": 2390,
     "status": "ok",
     "timestamp": 1612571295101,
     "user": {
      "displayName": "Samuel S. Ferreira",
      "photoUrl": "https://lh3.googleusercontent.com/a-/AOh14GhMXcQbRtC5Q43vAXPtrgywOfemEDLbqQwWeOHB=s64",
      "userId": "04389966910635240145"
     },
     "user_tz": 180
    },
    "id": "H0gX8VCcB55y",
    "outputId": "cc5d4361-6ff5-496a-dd49-253c6904b532",
    "papermill": {
     "duration": 1.744463,
     "end_time": "2021-02-14T18:53:22.097960",
     "exception": false,
     "start_time": "2021-02-14T18:53:20.353497",
     "status": "completed"
    },
    "tags": []
   },
   "outputs": [
    {
     "data": {
      "text/plain": [
       "SVC(C=10000, random_state=2021)"
      ]
     },
     "execution_count": 57,
     "metadata": {},
     "output_type": "execute_result"
    }
   ],
   "source": [
    "#criando o Modelo\n",
    "svc_model = SVC(C=10000, random_state=SEED)\n",
    "svc_model.fit(train, target)"
   ]
  },
  {
   "cell_type": "code",
   "execution_count": 58,
   "metadata": {
    "execution": {
     "iopub.execute_input": "2021-02-14T18:53:22.303166Z",
     "iopub.status.busy": "2021-02-14T18:53:22.302455Z",
     "iopub.status.idle": "2021-02-14T18:53:22.319126Z",
     "shell.execute_reply": "2021-02-14T18:53:22.319609Z"
    },
    "executionInfo": {
     "elapsed": 869,
     "status": "ok",
     "timestamp": 1612571306280,
     "user": {
      "displayName": "Samuel S. Ferreira",
      "photoUrl": "https://lh3.googleusercontent.com/a-/AOh14GhMXcQbRtC5Q43vAXPtrgywOfemEDLbqQwWeOHB=s64",
      "userId": "04389966910635240145"
     },
     "user_tz": 180
    },
    "id": "FGoWWaxpFCfJ",
    "outputId": "1fb0d038-e918-41f8-94e2-f34093641ee7",
    "papermill": {
     "duration": 0.12249,
     "end_time": "2021-02-14T18:53:22.319806",
     "exception": false,
     "start_time": "2021-02-14T18:53:22.197316",
     "status": "completed"
    },
    "tags": []
   },
   "outputs": [
    {
     "data": {
      "text/plain": [
       "'A acurácia do modelo SVC  é de 84.18 %'"
      ]
     },
     "metadata": {},
     "output_type": "display_data"
    }
   ],
   "source": [
    "#verificando a acurácia do modelo\n",
    "acuracia_svc = round(svc_model.score(train, target)*100, 2)\n",
    "\n",
    "display(f\"A acurácia do modelo SVC  é de {acuracia_svc} %\")"
   ]
  },
  {
   "cell_type": "code",
   "execution_count": 59,
   "metadata": {
    "execution": {
     "iopub.execute_input": "2021-02-14T18:53:22.524862Z",
     "iopub.status.busy": "2021-02-14T18:53:22.524183Z",
     "iopub.status.idle": "2021-02-14T18:53:22.536287Z",
     "shell.execute_reply": "2021-02-14T18:53:22.535692Z"
    },
    "id": "G2EvbBVuF6pX",
    "papermill": {
     "duration": 0.118249,
     "end_time": "2021-02-14T18:53:22.536461",
     "exception": false,
     "start_time": "2021-02-14T18:53:22.418212",
     "status": "completed"
    },
    "tags": []
   },
   "outputs": [],
   "source": [
    "#gerando as previsões\n",
    "y_pred_svc = svc_model.predict(test)\n",
    "\n",
    "submission = pd.DataFrame({\n",
    "    \"PassengerId\": passengerId,\n",
    "    \"Survived\": y_pred_svc\n",
    "})\n",
    "\n",
    "# gerar arquivo csv\n",
    "submission.to_csv('./submission_svc.csv', index=False)"
   ]
  },
  {
   "cell_type": "code",
   "execution_count": 60,
   "metadata": {
    "execution": {
     "iopub.execute_input": "2021-02-14T18:53:22.738137Z",
     "iopub.status.busy": "2021-02-14T18:53:22.737347Z",
     "iopub.status.idle": "2021-02-14T18:53:22.754279Z",
     "shell.execute_reply": "2021-02-14T18:53:22.753735Z"
    },
    "executionInfo": {
     "elapsed": 744,
     "status": "ok",
     "timestamp": 1612571310972,
     "user": {
      "displayName": "Samuel S. Ferreira",
      "photoUrl": "https://lh3.googleusercontent.com/a-/AOh14GhMXcQbRtC5Q43vAXPtrgywOfemEDLbqQwWeOHB=s64",
      "userId": "04389966910635240145"
     },
     "user_tz": 180
    },
    "id": "el5KjctIThyo",
    "outputId": "0d036048-1d65-4300-c143-253853d9431a",
    "papermill": {
     "duration": 0.118855,
     "end_time": "2021-02-14T18:53:22.754449",
     "exception": false,
     "start_time": "2021-02-14T18:53:22.635594",
     "status": "completed"
    },
    "tags": []
   },
   "outputs": [
    {
     "data": {
      "text/html": [
       "<div>\n",
       "<style scoped>\n",
       "    .dataframe tbody tr th:only-of-type {\n",
       "        vertical-align: middle;\n",
       "    }\n",
       "\n",
       "    .dataframe tbody tr th {\n",
       "        vertical-align: top;\n",
       "    }\n",
       "\n",
       "    .dataframe thead th {\n",
       "        text-align: right;\n",
       "    }\n",
       "</style>\n",
       "<table border=\"1\" class=\"dataframe\">\n",
       "  <thead>\n",
       "    <tr style=\"text-align: right;\">\n",
       "      <th></th>\n",
       "      <th>Modelo</th>\n",
       "      <th>Acurácia</th>\n",
       "    </tr>\n",
       "  </thead>\n",
       "  <tbody>\n",
       "    <tr>\n",
       "      <th>0</th>\n",
       "      <td>Random Forest Classifier</td>\n",
       "      <td>97.98</td>\n",
       "    </tr>\n",
       "    <tr>\n",
       "      <th>1</th>\n",
       "      <td>Gradient Boosting Model</td>\n",
       "      <td>94.39</td>\n",
       "    </tr>\n",
       "    <tr>\n",
       "      <th>2</th>\n",
       "      <td>XGB Classifier</td>\n",
       "      <td>92.93</td>\n",
       "    </tr>\n",
       "    <tr>\n",
       "      <th>7</th>\n",
       "      <td>SVC</td>\n",
       "      <td>84.18</td>\n",
       "    </tr>\n",
       "    <tr>\n",
       "      <th>3</th>\n",
       "      <td>Decision Tree Classifier</td>\n",
       "      <td>82.72</td>\n",
       "    </tr>\n",
       "    <tr>\n",
       "      <th>4</th>\n",
       "      <td>Regressão Logística</td>\n",
       "      <td>80.13</td>\n",
       "    </tr>\n",
       "    <tr>\n",
       "      <th>5</th>\n",
       "      <td>Dummy Classifier</td>\n",
       "      <td>61.62</td>\n",
       "    </tr>\n",
       "    <tr>\n",
       "      <th>6</th>\n",
       "      <td>Linear Regression</td>\n",
       "      <td>39.79</td>\n",
       "    </tr>\n",
       "  </tbody>\n",
       "</table>\n",
       "</div>"
      ],
      "text/plain": [
       "                     Modelo  Acurácia\n",
       "0  Random Forest Classifier     97.98\n",
       "1   Gradient Boosting Model     94.39\n",
       "2            XGB Classifier     92.93\n",
       "7                       SVC     84.18\n",
       "3  Decision Tree Classifier     82.72\n",
       "4       Regressão Logística     80.13\n",
       "5          Dummy Classifier     61.62\n",
       "6         Linear Regression     39.79"
      ]
     },
     "metadata": {},
     "output_type": "display_data"
    }
   ],
   "source": [
    "comparar('SVC', acuracia_svc)"
   ]
  },
  {
   "cell_type": "markdown",
   "metadata": {
    "id": "MHU_mi-vHmRo",
    "papermill": {
     "duration": 0.101167,
     "end_time": "2021-02-14T18:53:22.957605",
     "exception": false,
     "start_time": "2021-02-14T18:53:22.856438",
     "status": "completed"
    },
    "tags": []
   },
   "source": [
    "## **4.9 - Modelo KNeighbor**"
   ]
  },
  {
   "cell_type": "code",
   "execution_count": 61,
   "metadata": {
    "execution": {
     "iopub.execute_input": "2021-02-14T18:53:23.165077Z",
     "iopub.status.busy": "2021-02-14T18:53:23.164411Z",
     "iopub.status.idle": "2021-02-14T18:53:23.167619Z",
     "shell.execute_reply": "2021-02-14T18:53:23.166875Z"
    },
    "id": "pekXtqyVHlc2",
    "papermill": {
     "duration": 0.107138,
     "end_time": "2021-02-14T18:53:23.167772",
     "exception": false,
     "start_time": "2021-02-14T18:53:23.060634",
     "status": "completed"
    },
    "tags": []
   },
   "outputs": [],
   "source": [
    "from sklearn.neighbors import KNeighborsClassifier"
   ]
  },
  {
   "cell_type": "code",
   "execution_count": 62,
   "metadata": {
    "execution": {
     "iopub.execute_input": "2021-02-14T18:53:23.373869Z",
     "iopub.status.busy": "2021-02-14T18:53:23.370229Z",
     "iopub.status.idle": "2021-02-14T18:53:23.378710Z",
     "shell.execute_reply": "2021-02-14T18:53:23.378019Z"
    },
    "executionInfo": {
     "elapsed": 883,
     "status": "ok",
     "timestamp": 1612571390197,
     "user": {
      "displayName": "Samuel S. Ferreira",
      "photoUrl": "https://lh3.googleusercontent.com/a-/AOh14GhMXcQbRtC5Q43vAXPtrgywOfemEDLbqQwWeOHB=s64",
      "userId": "04389966910635240145"
     },
     "user_tz": 180
    },
    "id": "ctZHB7DKH9JZ",
    "outputId": "694f16aa-8991-4cf6-bed6-8dc34c950867",
    "papermill": {
     "duration": 0.112586,
     "end_time": "2021-02-14T18:53:23.379041",
     "exception": false,
     "start_time": "2021-02-14T18:53:23.266455",
     "status": "completed"
    },
    "tags": []
   },
   "outputs": [
    {
     "data": {
      "text/plain": [
       "KNeighborsClassifier(n_neighbors=2)"
      ]
     },
     "execution_count": 62,
     "metadata": {},
     "output_type": "execute_result"
    }
   ],
   "source": [
    "#Criando o modelo\n",
    "knn_model = KNeighborsClassifier(n_neighbors=2)\n",
    "knn_model.fit(train, target)"
   ]
  },
  {
   "cell_type": "code",
   "execution_count": 63,
   "metadata": {
    "execution": {
     "iopub.execute_input": "2021-02-14T18:53:23.636390Z",
     "iopub.status.busy": "2021-02-14T18:53:23.635429Z",
     "iopub.status.idle": "2021-02-14T18:53:23.678981Z",
     "shell.execute_reply": "2021-02-14T18:53:23.678436Z"
    },
    "executionInfo": {
     "elapsed": 923,
     "status": "ok",
     "timestamp": 1612571395383,
     "user": {
      "displayName": "Samuel S. Ferreira",
      "photoUrl": "https://lh3.googleusercontent.com/a-/AOh14GhMXcQbRtC5Q43vAXPtrgywOfemEDLbqQwWeOHB=s64",
      "userId": "04389966910635240145"
     },
     "user_tz": 180
    },
    "id": "Dj-KUxL9IX5P",
    "outputId": "7887a347-49cb-48c9-cc1c-a619f8ae37e7",
    "papermill": {
     "duration": 0.150444,
     "end_time": "2021-02-14T18:53:23.679133",
     "exception": false,
     "start_time": "2021-02-14T18:53:23.528689",
     "status": "completed"
    },
    "tags": []
   },
   "outputs": [
    {
     "data": {
      "text/plain": [
       "'A acurácia do modelo KNeighborsClassifier  é de 84.51 %'"
      ]
     },
     "metadata": {},
     "output_type": "display_data"
    }
   ],
   "source": [
    "#verificando a acurácia do modelo\n",
    "acuracia_knn = round(knn_model.score(train, target)*100, 2)\n",
    "\n",
    "display(f\"A acurácia do modelo KNeighborsClassifier  é de {acuracia_knn} %\")"
   ]
  },
  {
   "cell_type": "code",
   "execution_count": 64,
   "metadata": {
    "execution": {
     "iopub.execute_input": "2021-02-14T18:53:23.887701Z",
     "iopub.status.busy": "2021-02-14T18:53:23.887002Z",
     "iopub.status.idle": "2021-02-14T18:53:23.909994Z",
     "shell.execute_reply": "2021-02-14T18:53:23.910521Z"
    },
    "id": "gNS3MIHPIpZq",
    "papermill": {
     "duration": 0.130662,
     "end_time": "2021-02-14T18:53:23.910721",
     "exception": false,
     "start_time": "2021-02-14T18:53:23.780059",
     "status": "completed"
    },
    "tags": []
   },
   "outputs": [],
   "source": [
    "#gerando as previsões\n",
    "y_pred_knn= knn_model.predict(test)\n",
    "\n",
    "submission = pd.DataFrame({\n",
    "    \"PassengerId\": passengerId,\n",
    "    \"Survived\": y_pred_knn\n",
    "})\n",
    "\n",
    "# gerar arquivo csv\n",
    "submission.to_csv('./submission_knn.csv', index=False)"
   ]
  },
  {
   "cell_type": "code",
   "execution_count": 65,
   "metadata": {
    "execution": {
     "iopub.execute_input": "2021-02-14T18:53:24.112787Z",
     "iopub.status.busy": "2021-02-14T18:53:24.111990Z",
     "iopub.status.idle": "2021-02-14T18:53:24.126677Z",
     "shell.execute_reply": "2021-02-14T18:53:24.127231Z"
    },
    "executionInfo": {
     "elapsed": 809,
     "status": "ok",
     "timestamp": 1612571401291,
     "user": {
      "displayName": "Samuel S. Ferreira",
      "photoUrl": "https://lh3.googleusercontent.com/a-/AOh14GhMXcQbRtC5Q43vAXPtrgywOfemEDLbqQwWeOHB=s64",
      "userId": "04389966910635240145"
     },
     "user_tz": 180
    },
    "id": "jjme9ytOUQNI",
    "outputId": "54cad9b8-ca31-4169-fdba-c78f42ec84fd",
    "papermill": {
     "duration": 0.117167,
     "end_time": "2021-02-14T18:53:24.127432",
     "exception": false,
     "start_time": "2021-02-14T18:53:24.010265",
     "status": "completed"
    },
    "tags": []
   },
   "outputs": [
    {
     "data": {
      "text/html": [
       "<div>\n",
       "<style scoped>\n",
       "    .dataframe tbody tr th:only-of-type {\n",
       "        vertical-align: middle;\n",
       "    }\n",
       "\n",
       "    .dataframe tbody tr th {\n",
       "        vertical-align: top;\n",
       "    }\n",
       "\n",
       "    .dataframe thead th {\n",
       "        text-align: right;\n",
       "    }\n",
       "</style>\n",
       "<table border=\"1\" class=\"dataframe\">\n",
       "  <thead>\n",
       "    <tr style=\"text-align: right;\">\n",
       "      <th></th>\n",
       "      <th>Modelo</th>\n",
       "      <th>Acurácia</th>\n",
       "    </tr>\n",
       "  </thead>\n",
       "  <tbody>\n",
       "    <tr>\n",
       "      <th>0</th>\n",
       "      <td>Random Forest Classifier</td>\n",
       "      <td>97.98</td>\n",
       "    </tr>\n",
       "    <tr>\n",
       "      <th>1</th>\n",
       "      <td>Gradient Boosting Model</td>\n",
       "      <td>94.39</td>\n",
       "    </tr>\n",
       "    <tr>\n",
       "      <th>2</th>\n",
       "      <td>XGB Classifier</td>\n",
       "      <td>92.93</td>\n",
       "    </tr>\n",
       "    <tr>\n",
       "      <th>8</th>\n",
       "      <td>KNeighbors Classifier</td>\n",
       "      <td>84.51</td>\n",
       "    </tr>\n",
       "    <tr>\n",
       "      <th>3</th>\n",
       "      <td>SVC</td>\n",
       "      <td>84.18</td>\n",
       "    </tr>\n",
       "    <tr>\n",
       "      <th>4</th>\n",
       "      <td>Decision Tree Classifier</td>\n",
       "      <td>82.72</td>\n",
       "    </tr>\n",
       "    <tr>\n",
       "      <th>5</th>\n",
       "      <td>Regressão Logística</td>\n",
       "      <td>80.13</td>\n",
       "    </tr>\n",
       "    <tr>\n",
       "      <th>6</th>\n",
       "      <td>Dummy Classifier</td>\n",
       "      <td>61.62</td>\n",
       "    </tr>\n",
       "    <tr>\n",
       "      <th>7</th>\n",
       "      <td>Linear Regression</td>\n",
       "      <td>39.79</td>\n",
       "    </tr>\n",
       "  </tbody>\n",
       "</table>\n",
       "</div>"
      ],
      "text/plain": [
       "                     Modelo  Acurácia\n",
       "0  Random Forest Classifier     97.98\n",
       "1   Gradient Boosting Model     94.39\n",
       "2            XGB Classifier     92.93\n",
       "8     KNeighbors Classifier     84.51\n",
       "3                       SVC     84.18\n",
       "4  Decision Tree Classifier     82.72\n",
       "5       Regressão Logística     80.13\n",
       "6          Dummy Classifier     61.62\n",
       "7         Linear Regression     39.79"
      ]
     },
     "metadata": {},
     "output_type": "display_data"
    }
   ],
   "source": [
    "comparar('KNeighbors Classifier', acuracia_knn)"
   ]
  },
  {
   "cell_type": "markdown",
   "metadata": {
    "id": "9FPKGRvCBYWZ",
    "papermill": {
     "duration": 0.100188,
     "end_time": "2021-02-14T18:53:24.327931",
     "exception": false,
     "start_time": "2021-02-14T18:53:24.227743",
     "status": "completed"
    },
    "tags": []
   },
   "source": [
    "## **4.10 - Comparando os modelos**\n",
    "\n",
    "Agora que comparamos a acurácia dos modelos e colocamos em ordem decrescente, temos uma noção dos que possuem melhor desempenho.\n",
    "\n",
    "Lembrando que as Acurácias são dos dados de treino, o que não quer dizer que eles terão o mesmo resultado nos dados de teste e 'real life'.\n",
    "A partir de agora usaremos os 3 modelos que se destacam para analisar  com   outros métodos: MAtriz de Confusão, e Validação Cruzada.\n",
    "\n",
    "Para saber mais, indico esse artigo em inglês: [Performance Metrics in ML- Part 1](https://towardsdatascience.com/performance-metrics-in-machine-learning-part-1-classification-6c6b8d8a8c92)."
   ]
  },
  {
   "cell_type": "code",
   "execution_count": 66,
   "metadata": {
    "execution": {
     "iopub.execute_input": "2021-02-14T18:53:24.539132Z",
     "iopub.status.busy": "2021-02-14T18:53:24.538441Z",
     "iopub.status.idle": "2021-02-14T18:53:24.541564Z",
     "shell.execute_reply": "2021-02-14T18:53:24.542035Z"
    },
    "executionInfo": {
     "elapsed": 844,
     "status": "ok",
     "timestamp": 1612571450745,
     "user": {
      "displayName": "Samuel S. Ferreira",
      "photoUrl": "https://lh3.googleusercontent.com/a-/AOh14GhMXcQbRtC5Q43vAXPtrgywOfemEDLbqQwWeOHB=s64",
      "userId": "04389966910635240145"
     },
     "user_tz": 180
    },
    "id": "MOt2In87RNwg",
    "outputId": "8708f100-9b55-468b-a79c-86acf8875ee1",
    "papermill": {
     "duration": 0.113016,
     "end_time": "2021-02-14T18:53:24.542212",
     "exception": false,
     "start_time": "2021-02-14T18:53:24.429196",
     "status": "completed"
    },
    "tags": []
   },
   "outputs": [
    {
     "data": {
      "text/html": [
       "<div>\n",
       "<style scoped>\n",
       "    .dataframe tbody tr th:only-of-type {\n",
       "        vertical-align: middle;\n",
       "    }\n",
       "\n",
       "    .dataframe tbody tr th {\n",
       "        vertical-align: top;\n",
       "    }\n",
       "\n",
       "    .dataframe thead th {\n",
       "        text-align: right;\n",
       "    }\n",
       "</style>\n",
       "<table border=\"1\" class=\"dataframe\">\n",
       "  <thead>\n",
       "    <tr style=\"text-align: right;\">\n",
       "      <th></th>\n",
       "      <th>Modelo</th>\n",
       "      <th>Acurácia</th>\n",
       "    </tr>\n",
       "  </thead>\n",
       "  <tbody>\n",
       "    <tr>\n",
       "      <th>0</th>\n",
       "      <td>Random Forest Classifier</td>\n",
       "      <td>97.98</td>\n",
       "    </tr>\n",
       "    <tr>\n",
       "      <th>1</th>\n",
       "      <td>Gradient Boosting Model</td>\n",
       "      <td>94.39</td>\n",
       "    </tr>\n",
       "    <tr>\n",
       "      <th>2</th>\n",
       "      <td>XGB Classifier</td>\n",
       "      <td>92.93</td>\n",
       "    </tr>\n",
       "  </tbody>\n",
       "</table>\n",
       "</div>"
      ],
      "text/plain": [
       "                     Modelo  Acurácia\n",
       "0  Random Forest Classifier     97.98\n",
       "1   Gradient Boosting Model     94.39\n",
       "2            XGB Classifier     92.93"
      ]
     },
     "execution_count": 66,
     "metadata": {},
     "output_type": "execute_result"
    }
   ],
   "source": [
    "tres_modelos = comparacao_modelos[:3].copy()\n",
    "tres_modelos"
   ]
  },
  {
   "cell_type": "markdown",
   "metadata": {
    "id": "XwJ-a3UW631E",
    "papermill": {
     "duration": 0.100275,
     "end_time": "2021-02-14T18:53:24.742341",
     "exception": false,
     "start_time": "2021-02-14T18:53:24.642066",
     "status": "completed"
    },
    "tags": []
   },
   "source": [
    "# **5 - Matriz de Confusão, Precisão, Recall, e F1-Score**\n",
    "\n",
    "Nesta seção calculamos e plotamos os gráficos da Matriz de Confusão. As funções zip e flatten  são brevemente explicadas, também indicamos um vídeo explicativo sobre o list conprehension.\n",
    "Os gráficos também poderiam ser plotados por meio de uma função. Optei por plotar as imagens lado a lado para facilitar a comparação dos resultados.\n"
   ]
  },
  {
   "cell_type": "markdown",
   "metadata": {
    "id": "j3fY7pzuKxbL",
    "papermill": {
     "duration": 0.100215,
     "end_time": "2021-02-14T18:53:24.942513",
     "exception": false,
     "start_time": "2021-02-14T18:53:24.842298",
     "status": "completed"
    },
    "tags": []
   },
   "source": [
    "## 5.1 - **Matriz de Confusão** \n",
    "é uma matriz/tabela  n x n onde n é o número de ***classes/categorias*** da variável alvo - ***target***. No caso do Titanic a variável alvo posui duas categorias: ***0*** se não sobreviveu e ***1*** se sobreviveu.\n",
    "Nos plots são mostrados 4 quadrantes descritos a seguir:\n",
    "\n",
    "\n",
    "*   **Verdadeiro Positivo ou True Positive - TP** : Quando o modelo prevê corretamente a variável alvo,p.e,  previu que um passageiro sobreviveria e sobreviveu. (1,1)\n",
    "*   **Falso Positivo ou False Positive - FP:** quando o modelo prevê incorretamente a classe alvo, p.e, previu que o passageiro sobreviveiria mas não sobreviveu,(1,0). Também é conhecido como ***Erro do tipo 1***\n",
    "*   **Verdadeiro Negativo ou True Negative - TN:** Quando o modelo prevê corretamente que não pertence a categoria que estamos tentando prever, p.e, previu que não sobreviveria e não sobreviveu. (0,0)\n",
    "*   **Falso Negativo ou False Negative - FN** : Quando o modelo prevê incorretamente que não pertence a clase alvo mas na verdade pertence, p.e, que não sobreviveria mas sobreviveu, (0,1). Também é conhecido como ***Erro do tipo 2***.\n",
    "\n",
    "A **Acurácia**, que foi calculada na seção anterior para a escolha dos melhores modelos, é a medida de todas as previsões corretas feitas pelo modelo em relação a todas as previsões. \n",
    "\n",
    "***Acurácia*** = **(TP + TN) / (TP + TN + FP + FN)**\n",
    "\n",
    "Para saber mais detalhes você pode acessar:\n",
    "\n",
    "[Artigo em português](https://medium.com/data-hackers/entendendo-o-que-%C3%A9-matriz-de-confus%C3%A3o-com-python-114e683ec509)\n",
    "\n",
    "[Artigo em Inglês](https://towardsdatascience.com/evaluation-metrics-18db24a91223)\n",
    "\n",
    "\n",
    "\n"
   ]
  },
  {
   "cell_type": "code",
   "execution_count": 67,
   "metadata": {
    "execution": {
     "iopub.execute_input": "2021-02-14T18:53:25.146567Z",
     "iopub.status.busy": "2021-02-14T18:53:25.145879Z",
     "iopub.status.idle": "2021-02-14T18:53:25.166015Z",
     "shell.execute_reply": "2021-02-14T18:53:25.166646Z"
    },
    "id": "e7pqIePi7Pxm",
    "papermill": {
     "duration": 0.123863,
     "end_time": "2021-02-14T18:53:25.166857",
     "exception": false,
     "start_time": "2021-02-14T18:53:25.042994",
     "status": "completed"
    },
    "tags": []
   },
   "outputs": [],
   "source": [
    "from sklearn.metrics import confusion_matrix \n",
    "\n",
    "# Usamos os mesmos dados de treino para previsão e calculamos a matriz de confusão\n",
    "xgbc_predict = xgbc_model.predict(train)\n",
    "xgbc_matrix = confusion_matrix(target,xgbc_predict )"
   ]
  },
  {
   "cell_type": "markdown",
   "metadata": {
    "id": "WxV9Fl32BDbP",
    "papermill": {
     "duration": 0.100871,
     "end_time": "2021-02-14T18:53:25.372164",
     "exception": false,
     "start_time": "2021-02-14T18:53:25.271293",
     "status": "completed"
    },
    "tags": []
   },
   "source": [
    "A **função flatten do pandas** retorna um array unidimensional.\n",
    "Por exemplo:\n",
    "a = [ [1,2], [3,4] ]\n",
    "\n",
    "a.flatten()\n",
    "\n",
    "retorna: \n",
    "[1,2,3,4]\n",
    "\n",
    "Aqui nós a usamos para transformar o retorno da confusion_matrix em uma lista para na sequência aplicarmos a função zip."
   ]
  },
  {
   "cell_type": "markdown",
   "metadata": {
    "id": "p0tiwZ832q_6",
    "papermill": {
     "duration": 0.099868,
     "end_time": "2021-02-14T18:53:25.572988",
     "exception": false,
     "start_time": "2021-02-14T18:53:25.473120",
     "status": "completed"
    },
    "tags": []
   },
   "source": [
    "A **Função zip do Python** retorna uma lista de tuplas de acordo com a posição. Por exemplo:\n",
    ">a = [1,2]\n",
    "\n",
    ">b = [4,5]\n",
    "\n",
    "> zip(a,b)\n",
    "\n",
    "Retorna:\n",
    "(1,4) \n",
    "(2,5)\n",
    "\n",
    "Aqui no código usamos para juntar em uma mesma tupla a classificação, contagem e percentual e posteriormente imprimir em cada quadrado do gráfico da matriz de confusão..\n",
    "\n",
    "\n",
    "\n"
   ]
  },
  {
   "cell_type": "markdown",
   "metadata": {
    "id": "0V4tQZ_lZD74",
    "papermill": {
     "duration": 0.100358,
     "end_time": "2021-02-14T18:53:25.773664",
     "exception": false,
     "start_time": "2021-02-14T18:53:25.673306",
     "status": "completed"
    },
    "tags": []
   },
   "source": [
    "**List Comprehension**  é um jeito de construir uma lista com uma simples linha em Python. Substitui o padrão de criar uma lista vazia, preenchê-la com um loop através de ifs. \n",
    "\n",
    "Para entender melhor indico o vídeo a seguir mas há muitos outros disponíveis gratuitamente no youtube: [Vídeo](https://youtu.be/j7pe5x2apBs)"
   ]
  },
  {
   "cell_type": "code",
   "execution_count": 68,
   "metadata": {
    "execution": {
     "iopub.execute_input": "2021-02-14T18:53:25.985128Z",
     "iopub.status.busy": "2021-02-14T18:53:25.984421Z",
     "iopub.status.idle": "2021-02-14T18:53:25.994212Z",
     "shell.execute_reply": "2021-02-14T18:53:25.993640Z"
    },
    "executionInfo": {
     "elapsed": 1106,
     "status": "ok",
     "timestamp": 1612570304388,
     "user": {
      "displayName": "Samuel S. Ferreira",
      "photoUrl": "https://lh3.googleusercontent.com/a-/AOh14GhMXcQbRtC5Q43vAXPtrgywOfemEDLbqQwWeOHB=s64",
      "userId": "04389966910635240145"
     },
     "user_tz": 180
    },
    "id": "9wviWHiGe2zf",
    "outputId": "7528204d-4570-4ac1-8921-2dc318b68c56",
    "papermill": {
     "duration": 0.119604,
     "end_time": "2021-02-14T18:53:25.994369",
     "exception": false,
     "start_time": "2021-02-14T18:53:25.874765",
     "status": "completed"
    },
    "tags": []
   },
   "outputs": [
    {
     "name": "stdout",
     "output_type": "stream",
     "text": [
      "['Verdadeiro Negativo', 'Falso Positivo', 'Falso Negativo', 'Verdadeiro Positivo']\n"
     ]
    },
    {
     "data": {
      "text/plain": [
       "['529', '20', '43', '299']"
      ]
     },
     "metadata": {},
     "output_type": "display_data"
    },
    {
     "data": {
      "text/plain": [
       "['59.37%', '2.24%', '4.83%', '33.56%']"
      ]
     },
     "metadata": {},
     "output_type": "display_data"
    },
    {
     "data": {
      "text/plain": [
       "array([['Verdadeiro Negativo\\n529\\n59.37%', 'Falso Positivo\\n20\\n2.24%'],\n",
       "       ['Falso Negativo\\n43\\n4.83%', 'Verdadeiro Positivo\\n299\\n33.56%']],\n",
       "      dtype='<U30')"
      ]
     },
     "metadata": {},
     "output_type": "display_data"
    }
   ],
   "source": [
    "#Será impresso no gráfico\n",
    "\n",
    "classificacao = ['Verdadeiro Negativo','Falso Positivo','Falso Negativo','Verdadeiro Positivo']\n",
    "\n",
    "contagem_xgbc = [\"{0:0.0f}\".format(value) for value in xgbc_matrix.flatten()] # list comprehension  que irá gerar uma lista da Matriz de confusão.\n",
    "\n",
    "percentual_xgbc = [\"{0:.2%}\".format(value) for value in xgbc_matrix.flatten()/np.sum(xgbc_matrix)] # list comprehension  que irá gerar uma lista com os % da Matriz de confusão.\n",
    "\n",
    "labels_xgbc = [f\"{v1}\\n{v2}\\n{v3}\" for v1, v2, v3 in zip(classificacao,contagem_xgbc,percentual_xgbc)] #reúne as informações acima \n",
    "\n",
    "labels_xgbc = np.asarray(labels_xgbc).reshape(2,2) # remodela o array unidimendional em um 2x2 que será impresso em cada quadrante da Matriz de Confusão\n",
    "\n",
    "print(classificacao)\n",
    "display(contagem_xgbc)\n",
    "display(percentual_xgbc)\n",
    "display(labels_xgbc)\n",
    "\n",
    "#sns.heatmap(xgbc_matrix, annot=labels_xgbc, fmt=\"\", cmap='Blues') # gráfico da matriz de confusão individual. Preferi lotar os 3 lado a lado para facilitar a comparação"
   ]
  },
  {
   "cell_type": "code",
   "execution_count": 69,
   "metadata": {
    "execution": {
     "iopub.execute_input": "2021-02-14T18:53:26.205690Z",
     "iopub.status.busy": "2021-02-14T18:53:26.204713Z",
     "iopub.status.idle": "2021-02-14T18:53:26.228972Z",
     "shell.execute_reply": "2021-02-14T18:53:26.229466Z"
    },
    "id": "UcELEpf4k-fi",
    "papermill": {
     "duration": 0.131675,
     "end_time": "2021-02-14T18:53:26.229661",
     "exception": false,
     "start_time": "2021-02-14T18:53:26.097986",
     "status": "completed"
    },
    "tags": []
   },
   "outputs": [],
   "source": [
    "# COnfigurando o gráfico para o modelo Random Forest\n",
    "random_predict = random_forest_model.predict(train)\n",
    "random_matrix = confusion_matrix(target,random_predict )\n",
    "\n",
    "\n",
    "classificacao = ['Verdadeiro Negativo','Falso Positivo','Falso Negativo','Verdadeiro Positivo']\n",
    "\n",
    "contagem_rf = [\"{0:0.0f}\".format(value) for value in random_matrix.flatten()] # list comprehension\n",
    "\n",
    "percentual_rf = [\"{0:.2%}\".format(value) for value in random_matrix.flatten()/np.sum(random_matrix)]\n",
    "\n",
    "labels_rf = [f\"{v1}\\n{v2}\\n{v3}\" for v1, v2, v3 in zip(classificacao,contagem_rf,percentual_rf)]\n",
    "\n",
    "labels_rf = np.asarray(labels_rf).reshape(2,2)\n",
    "\n",
    "#sns.heatmap(random_matrix, annot=labels_rf, fmt=\"\", cmap='Oranges')"
   ]
  },
  {
   "cell_type": "code",
   "execution_count": 70,
   "metadata": {
    "execution": {
     "iopub.execute_input": "2021-02-14T18:53:26.436474Z",
     "iopub.status.busy": "2021-02-14T18:53:26.435496Z",
     "iopub.status.idle": "2021-02-14T18:53:26.449948Z",
     "shell.execute_reply": "2021-02-14T18:53:26.449408Z"
    },
    "id": "FOAICGUSoL4Y",
    "papermill": {
     "duration": 0.119326,
     "end_time": "2021-02-14T18:53:26.450182",
     "exception": false,
     "start_time": "2021-02-14T18:53:26.330856",
     "status": "completed"
    },
    "tags": []
   },
   "outputs": [],
   "source": [
    "# COnfigurando o gráfico para o modelo Gradient boost Model\n",
    "gradient_predict = gradient_model.predict(train)\n",
    "gradient_matrix = confusion_matrix(target,gradient_predict )\n",
    "\n",
    "\n",
    "classificacao = ['Verdadeiro Negativo','Falso Positivo','Falso Negativo','Verdadeiro Positivo']\n",
    "\n",
    "contagem_gb = [\"{0:0.0f}\".format(value) for value in gradient_matrix.flatten()] # list comprehension\n",
    "\n",
    "percentual_gb = [\"{0:.2%}\".format(value) for value in gradient_matrix.flatten()/np.sum(gradient_matrix)]\n",
    "\n",
    "labels_gb = [f\"{v1}\\n{v2}\\n{v3}\" for v1, v2, v3 in zip(classificacao,contagem_gb,percentual_gb)]\n",
    "\n",
    "labels_gb = np.asarray(labels_gb).reshape(2,2)\n",
    "\n",
    "#sns.heatmap(gradient_matrix, annot=labels_gb, fmt=\"\", cmap='Greens')"
   ]
  },
  {
   "cell_type": "code",
   "execution_count": 71,
   "metadata": {
    "execution": {
     "iopub.execute_input": "2021-02-14T18:53:26.680724Z",
     "iopub.status.busy": "2021-02-14T18:53:26.679851Z",
     "iopub.status.idle": "2021-02-14T18:53:27.431609Z",
     "shell.execute_reply": "2021-02-14T18:53:27.431034Z"
    },
    "executionInfo": {
     "elapsed": 2512,
     "status": "ok",
     "timestamp": 1612570330611,
     "user": {
      "displayName": "Samuel S. Ferreira",
      "photoUrl": "https://lh3.googleusercontent.com/a-/AOh14GhMXcQbRtC5Q43vAXPtrgywOfemEDLbqQwWeOHB=s64",
      "userId": "04389966910635240145"
     },
     "user_tz": 180
    },
    "id": "OOyrblXAhOTw",
    "outputId": "6db9f921-71ed-4a21-da7f-bfe789949b26",
    "papermill": {
     "duration": 0.880102,
     "end_time": "2021-02-14T18:53:27.431752",
     "exception": false,
     "start_time": "2021-02-14T18:53:26.551650",
     "status": "completed"
    },
    "tags": []
   },
   "outputs": [
    {
     "data": {
      "text/plain": [
       "Text(1188.7058823529412, 0.5, 'Real')"
      ]
     },
     "execution_count": 71,
     "metadata": {},
     "output_type": "execute_result"
    },
    {
     "data": {
      "image/png": "[encoded data removed]",
      "text/plain": [
       "<Figure size 1800x360 with 6 Axes>"
      ]
     },
     "metadata": {
      "needs_background": "light"
     },
     "output_type": "display_data"
    }
   ],
   "source": [
    "#colocando os gráficos lado a lado para facilitar a comparação\n",
    "fig, (axis1, axis2, axis3) = plt.subplots(1,3, figsize=(25,5))\n",
    "\n",
    "#matrix de confusão do XBGC\n",
    "ax = sns.heatmap(xgbc_matrix, annot=labels_xgbc, fmt=\"\", cmap='Blues', ax=axis1)\n",
    "ax.set_title(\"XGBC Classifier\", fontsize=15,pad=20)\n",
    "ax.set_xlabel('Previsto', fontsize= 15)\n",
    "ax.set_ylabel('Real', fontsize=15)\n",
    "\n",
    "# #matrix de confusão do Random Forest\n",
    "ax = sns.heatmap(random_matrix, annot=labels_rf, fmt=\"\", cmap='Oranges', ax=axis2)\n",
    "ax.set_title(\"Random Forest\", fontsize=15,pad=20)\n",
    "ax.set_xlabel('Previsto', fontsize= 15)\n",
    "ax.set_ylabel('Real', fontsize=15)\n",
    "\n",
    "#matrix de confusão do Gradient Boost\n",
    "ax = sns.heatmap(gradient_matrix, annot=labels_gb, fmt=\"\", cmap='Greens', ax=axis3)\n",
    "ax.set_title(\"Gradient Boost Classifier\", fontsize=15,pad=20)\n",
    "ax.set_xlabel('Previsto', fontsize= 15)\n",
    "ax.set_ylabel('Real', fontsize=15)\n",
    "\n"
   ]
  },
  {
   "cell_type": "markdown",
   "metadata": {
    "id": "JklXmkcyXMzF",
    "papermill": {
     "duration": 0.103944,
     "end_time": "2021-02-14T18:53:27.640033",
     "exception": false,
     "start_time": "2021-02-14T18:53:27.536089",
     "status": "completed"
    },
    "tags": []
   },
   "source": [
    "As relações adquirem relevância de acordo com o que se está querendo prever. \n",
    "\n",
    "Por exemplo, ao prever se um paciente está com alguma doença terminal em caso de não tratamento os **Falsos Negativos** são importantes, pois o paciente depende do tratamento para sobreviver mas o modelo retorna que ele não está doente, portanto com diagnóstico que pode levar a morte.\n",
    "\n",
    "No caso do **Falso Positivo,** podemos citar uma empresa que quer saber o que manter em uma linha de produtos/serviços que trarão lucros, o modelo prevê que o item será lucrativo mas na verdade pode dar prejuízo para a empresa.\n"
   ]
  },
  {
   "cell_type": "markdown",
   "metadata": {
    "id": "DCUSkFmkalzp",
    "papermill": {
     "duration": 0.118258,
     "end_time": "2021-02-14T18:53:27.880045",
     "exception": false,
     "start_time": "2021-02-14T18:53:27.761787",
     "status": "completed"
    },
    "tags": []
   },
   "source": [
    "## **5.2 - Precisão**\n",
    "\n",
    "Para superar as limitações da acurácia a **Precision**  nos fala qual a proporção de previsões positivas estão corretas.\n",
    "\n",
    "![image.png](data:image/png;base64,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)"
   ]
  },
  {
   "cell_type": "code",
   "execution_count": 72,
   "metadata": {
    "execution": {
     "iopub.execute_input": "2021-02-14T18:53:28.096325Z",
     "iopub.status.busy": "2021-02-14T18:53:28.095493Z",
     "iopub.status.idle": "2021-02-14T18:53:28.099461Z",
     "shell.execute_reply": "2021-02-14T18:53:28.098883Z"
    },
    "id": "eYQHAKzsbHeS",
    "papermill": {
     "duration": 0.113646,
     "end_time": "2021-02-14T18:53:28.099607",
     "exception": false,
     "start_time": "2021-02-14T18:53:27.985961",
     "status": "completed"
    },
    "tags": []
   },
   "outputs": [],
   "source": [
    "from sklearn.metrics import precision_score"
   ]
  },
  {
   "cell_type": "code",
   "execution_count": 73,
   "metadata": {
    "execution": {
     "iopub.execute_input": "2021-02-14T18:53:28.322211Z",
     "iopub.status.busy": "2021-02-14T18:53:28.321233Z",
     "iopub.status.idle": "2021-02-14T18:53:28.327239Z",
     "shell.execute_reply": "2021-02-14T18:53:28.326702Z"
    },
    "executionInfo": {
     "elapsed": 920,
     "status": "ok",
     "timestamp": 1612571466655,
     "user": {
      "displayName": "Samuel S. Ferreira",
      "photoUrl": "https://lh3.googleusercontent.com/a-/AOh14GhMXcQbRtC5Q43vAXPtrgywOfemEDLbqQwWeOHB=s64",
      "userId": "04389966910635240145"
     },
     "user_tz": 180
    },
    "id": "qXnFou3wc9ZX",
    "outputId": "7da95747-64d7-4a71-f701-8ea496aa4b2c",
    "papermill": {
     "duration": 0.122241,
     "end_time": "2021-02-14T18:53:28.327414",
     "exception": false,
     "start_time": "2021-02-14T18:53:28.205173",
     "status": "completed"
    },
    "tags": []
   },
   "outputs": [
    {
     "data": {
      "text/html": [
       "<div>\n",
       "<style scoped>\n",
       "    .dataframe tbody tr th:only-of-type {\n",
       "        vertical-align: middle;\n",
       "    }\n",
       "\n",
       "    .dataframe tbody tr th {\n",
       "        vertical-align: top;\n",
       "    }\n",
       "\n",
       "    .dataframe thead th {\n",
       "        text-align: right;\n",
       "    }\n",
       "</style>\n",
       "<table border=\"1\" class=\"dataframe\">\n",
       "  <thead>\n",
       "    <tr style=\"text-align: right;\">\n",
       "      <th></th>\n",
       "      <th>Modelo</th>\n",
       "      <th>Acurácia</th>\n",
       "    </tr>\n",
       "  </thead>\n",
       "  <tbody>\n",
       "    <tr>\n",
       "      <th>0</th>\n",
       "      <td>Random Forest Classifier</td>\n",
       "      <td>97.98</td>\n",
       "    </tr>\n",
       "    <tr>\n",
       "      <th>1</th>\n",
       "      <td>Gradient Boosting Model</td>\n",
       "      <td>94.39</td>\n",
       "    </tr>\n",
       "    <tr>\n",
       "      <th>2</th>\n",
       "      <td>XGB Classifier</td>\n",
       "      <td>92.93</td>\n",
       "    </tr>\n",
       "  </tbody>\n",
       "</table>\n",
       "</div>"
      ],
      "text/plain": [
       "                     Modelo  Acurácia\n",
       "0  Random Forest Classifier     97.98\n",
       "1   Gradient Boosting Model     94.39\n",
       "2            XGB Classifier     92.93"
      ]
     },
     "execution_count": 73,
     "metadata": {},
     "output_type": "execute_result"
    }
   ],
   "source": [
    "tres_modelos"
   ]
  },
  {
   "cell_type": "code",
   "execution_count": 74,
   "metadata": {
    "execution": {
     "iopub.execute_input": "2021-02-14T18:53:28.542207Z",
     "iopub.status.busy": "2021-02-14T18:53:28.541565Z",
     "iopub.status.idle": "2021-02-14T18:53:28.544391Z",
     "shell.execute_reply": "2021-02-14T18:53:28.544902Z"
    },
    "id": "SIBnxNqGiTw_",
    "papermill": {
     "duration": 0.112601,
     "end_time": "2021-02-14T18:53:28.545087",
     "exception": false,
     "start_time": "2021-02-14T18:53:28.432486",
     "status": "completed"
    },
    "tags": []
   },
   "outputs": [],
   "source": [
    "#lista dos valores preditos respeitando a ordem  dos tres_modelos para inserir numa coluna e compararmos.\n",
    "lista_val_predict =[random_predict,gradient_predict,xgbc_predict] "
   ]
  },
  {
   "cell_type": "code",
   "execution_count": 75,
   "metadata": {
    "execution": {
     "iopub.execute_input": "2021-02-14T18:53:28.761075Z",
     "iopub.status.busy": "2021-02-14T18:53:28.760332Z",
     "iopub.status.idle": "2021-02-14T18:53:28.776473Z",
     "shell.execute_reply": "2021-02-14T18:53:28.775912Z"
    },
    "executionInfo": {
     "elapsed": 734,
     "status": "ok",
     "timestamp": 1612571505257,
     "user": {
      "displayName": "Samuel S. Ferreira",
      "photoUrl": "https://lh3.googleusercontent.com/a-/AOh14GhMXcQbRtC5Q43vAXPtrgywOfemEDLbqQwWeOHB=s64",
      "userId": "04389966910635240145"
     },
     "user_tz": 180
    },
    "id": "cEEfcj77g4jF",
    "outputId": "c53df97b-e1af-4f0b-be4c-0d8c42fa5d64",
    "papermill": {
     "duration": 0.126348,
     "end_time": "2021-02-14T18:53:28.776639",
     "exception": false,
     "start_time": "2021-02-14T18:53:28.650291",
     "status": "completed"
    },
    "tags": []
   },
   "outputs": [
    {
     "data": {
      "text/html": [
       "<div>\n",
       "<style scoped>\n",
       "    .dataframe tbody tr th:only-of-type {\n",
       "        vertical-align: middle;\n",
       "    }\n",
       "\n",
       "    .dataframe tbody tr th {\n",
       "        vertical-align: top;\n",
       "    }\n",
       "\n",
       "    .dataframe thead th {\n",
       "        text-align: right;\n",
       "    }\n",
       "</style>\n",
       "<table border=\"1\" class=\"dataframe\">\n",
       "  <thead>\n",
       "    <tr style=\"text-align: right;\">\n",
       "      <th></th>\n",
       "      <th>Modelo</th>\n",
       "      <th>Acurácia</th>\n",
       "      <th>Precisão</th>\n",
       "    </tr>\n",
       "  </thead>\n",
       "  <tbody>\n",
       "    <tr>\n",
       "      <th>0</th>\n",
       "      <td>Random Forest Classifier</td>\n",
       "      <td>97.98</td>\n",
       "      <td>97.93</td>\n",
       "    </tr>\n",
       "    <tr>\n",
       "      <th>1</th>\n",
       "      <td>Gradient Boosting Model</td>\n",
       "      <td>94.39</td>\n",
       "      <td>95.34</td>\n",
       "    </tr>\n",
       "    <tr>\n",
       "      <th>2</th>\n",
       "      <td>XGB Classifier</td>\n",
       "      <td>92.93</td>\n",
       "      <td>93.73</td>\n",
       "    </tr>\n",
       "  </tbody>\n",
       "</table>\n",
       "</div>"
      ],
      "text/plain": [
       "                     Modelo  Acurácia  Precisão\n",
       "0  Random Forest Classifier     97.98     97.93\n",
       "1   Gradient Boosting Model     94.39     95.34\n",
       "2            XGB Classifier     92.93     93.73"
      ]
     },
     "execution_count": 75,
     "metadata": {},
     "output_type": "execute_result"
    }
   ],
   "source": [
    "tres_modelos['Precisão'] = [(precision_score(target,x)*100).round(2) for x in lista_val_predict]\n",
    "tres_modelos"
   ]
  },
  {
   "cell_type": "markdown",
   "metadata": {
    "id": "PFiSjJrWiybK",
    "papermill": {
     "duration": 0.10558,
     "end_time": "2021-02-14T18:53:28.990036",
     "exception": false,
     "start_time": "2021-02-14T18:53:28.884456",
     "status": "completed"
    },
    "tags": []
   },
   "source": [
    "## **5.3 - Recall**\n",
    "\n",
    "Semelhante a precisão, o **Recall = Sensitivity = True Positive Rate = Hit Rate** calcula qual a proporção de positivos foi identificada corretamente.\n",
    "\n",
    "![image.png](data:image/png;base64,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)"
   ]
  },
  {
   "cell_type": "code",
   "execution_count": 76,
   "metadata": {
    "execution": {
     "iopub.execute_input": "2021-02-14T18:53:29.207274Z",
     "iopub.status.busy": "2021-02-14T18:53:29.206598Z",
     "iopub.status.idle": "2021-02-14T18:53:29.223281Z",
     "shell.execute_reply": "2021-02-14T18:53:29.222709Z"
    },
    "executionInfo": {
     "elapsed": 785,
     "status": "ok",
     "timestamp": 1612571519453,
     "user": {
      "displayName": "Samuel S. Ferreira",
      "photoUrl": "https://lh3.googleusercontent.com/a-/AOh14GhMXcQbRtC5Q43vAXPtrgywOfemEDLbqQwWeOHB=s64",
      "userId": "04389966910635240145"
     },
     "user_tz": 180
    },
    "id": "IIKbZVfOjbLo",
    "outputId": "c5c6c3e0-c0b0-42cc-f441-b12fecc3b1ff",
    "papermill": {
     "duration": 0.127879,
     "end_time": "2021-02-14T18:53:29.223441",
     "exception": false,
     "start_time": "2021-02-14T18:53:29.095562",
     "status": "completed"
    },
    "tags": []
   },
   "outputs": [
    {
     "data": {
      "text/html": [
       "<div>\n",
       "<style scoped>\n",
       "    .dataframe tbody tr th:only-of-type {\n",
       "        vertical-align: middle;\n",
       "    }\n",
       "\n",
       "    .dataframe tbody tr th {\n",
       "        vertical-align: top;\n",
       "    }\n",
       "\n",
       "    .dataframe thead th {\n",
       "        text-align: right;\n",
       "    }\n",
       "</style>\n",
       "<table border=\"1\" class=\"dataframe\">\n",
       "  <thead>\n",
       "    <tr style=\"text-align: right;\">\n",
       "      <th></th>\n",
       "      <th>Modelo</th>\n",
       "      <th>Acurácia</th>\n",
       "      <th>Precisão</th>\n",
       "      <th>Recall</th>\n",
       "    </tr>\n",
       "  </thead>\n",
       "  <tbody>\n",
       "    <tr>\n",
       "      <th>0</th>\n",
       "      <td>Random Forest Classifier</td>\n",
       "      <td>97.98</td>\n",
       "      <td>97.93</td>\n",
       "      <td>96.78</td>\n",
       "    </tr>\n",
       "    <tr>\n",
       "      <th>1</th>\n",
       "      <td>Gradient Boosting Model</td>\n",
       "      <td>94.39</td>\n",
       "      <td>95.34</td>\n",
       "      <td>89.77</td>\n",
       "    </tr>\n",
       "    <tr>\n",
       "      <th>2</th>\n",
       "      <td>XGB Classifier</td>\n",
       "      <td>92.93</td>\n",
       "      <td>93.73</td>\n",
       "      <td>87.43</td>\n",
       "    </tr>\n",
       "  </tbody>\n",
       "</table>\n",
       "</div>"
      ],
      "text/plain": [
       "                     Modelo  Acurácia  Precisão  Recall\n",
       "0  Random Forest Classifier     97.98     97.93   96.78\n",
       "1   Gradient Boosting Model     94.39     95.34   89.77\n",
       "2            XGB Classifier     92.93     93.73   87.43"
      ]
     },
     "execution_count": 76,
     "metadata": {},
     "output_type": "execute_result"
    }
   ],
   "source": [
    "from sklearn.metrics import recall_score\n",
    "\n",
    "tres_modelos['Recall']=[(recall_score(target,x)*100).round(2) for x in lista_val_predict]\n",
    "tres_modelos"
   ]
  },
  {
   "cell_type": "markdown",
   "metadata": {
    "id": "CLve9Qirw868",
    "papermill": {
     "duration": 0.106761,
     "end_time": "2021-02-14T18:53:29.438276",
     "exception": false,
     "start_time": "2021-02-14T18:53:29.331515",
     "status": "completed"
    },
    "tags": []
   },
   "source": [
    "A curva **Precision-Recall** pode ser plotada como podemos ver abaixo para cada um dos modelos.\n",
    "\n",
    "\"*A curva de recall de precisão plota a relação entre precisão e RECALL à medida que o limite de decisão é alterado. Recall é a capacidade de um modelo detectar todos os exemplos positivos e a precisão é a capacidade de um modelo evitar rotular amostras negativas como positivas. Alguns problemas de negócios podem exigir uma recall mais alta e uma precisão mais alta, dependendo da importância relativa de evitar falsos negativos versus falsos positivos.*\" Trecho retirado da documentação da Microsoft Azure."
   ]
  },
  {
   "cell_type": "code",
   "execution_count": 77,
   "metadata": {
    "execution": {
     "iopub.execute_input": "2021-02-14T18:53:29.661501Z",
     "iopub.status.busy": "2021-02-14T18:53:29.660384Z",
     "iopub.status.idle": "2021-02-14T18:53:30.192474Z",
     "shell.execute_reply": "2021-02-14T18:53:30.191029Z"
    },
    "executionInfo": {
     "elapsed": 1537,
     "status": "ok",
     "timestamp": 1612570418570,
     "user": {
      "displayName": "Samuel S. Ferreira",
      "photoUrl": "https://lh3.googleusercontent.com/a-/AOh14GhMXcQbRtC5Q43vAXPtrgywOfemEDLbqQwWeOHB=s64",
      "userId": "04389966910635240145"
     },
     "user_tz": 180
    },
    "id": "d0gc-0pFlGj_",
    "outputId": "20874387-82e3-45f3-c5c3-6d1a34fb3799",
    "papermill": {
     "duration": 0.647759,
     "end_time": "2021-02-14T18:53:30.192643",
     "exception": false,
     "start_time": "2021-02-14T18:53:29.544884",
     "status": "completed"
    },
    "tags": []
   },
   "outputs": [
    {
     "data": {
      "text/plain": [
       "<sklearn.metrics._plot.precision_recall_curve.PrecisionRecallDisplay at 0x7f88983be650>"
      ]
     },
     "execution_count": 77,
     "metadata": {},
     "output_type": "execute_result"
    },
    {
     "data": {
      "image/png": "[encoded data removed]",
      "text/plain": [
       "<Figure size 432x288 with 1 Axes>"
      ]
     },
     "metadata": {
      "needs_background": "light"
     },
     "output_type": "display_data"
    },
    {
     "data": {
      "image/png": "[encoded data removed]",
      "text/plain": [
       "<Figure size 432x288 with 1 Axes>"
      ]
     },
     "metadata": {
      "needs_background": "light"
     },
     "output_type": "display_data"
    },
    {
     "data": {
      "image/png": "[encoded data removed]",
      "text/plain": [
       "<Figure size 432x288 with 1 Axes>"
      ]
     },
     "metadata": {
      "needs_background": "light"
     },
     "output_type": "display_data"
    }
   ],
   "source": [
    "from sklearn.metrics import plot_precision_recall_curve\n",
    "\n",
    "plot_precision_recall_curve(random_forest_model, train,target)\n",
    "plot_precision_recall_curve(gradient_model, train, target)\n",
    "plot_precision_recall_curve(xgbc_model, train, target)"
   ]
  },
  {
   "cell_type": "markdown",
   "metadata": {
    "id": "69n1XWK-zEpO",
    "papermill": {
     "duration": 0.108818,
     "end_time": "2021-02-14T18:53:30.411784",
     "exception": false,
     "start_time": "2021-02-14T18:53:30.302966",
     "status": "completed"
    },
    "tags": []
   },
   "source": [
    "## **5.4 - F1 - Score**\n",
    "É uma média harmônica entre a Precisão e o Recall no intervalo entre 0 e 1\n",
    "\n",
    "1 - Indica precisão e recall perfeitos\n",
    "\n",
    "0 - Se precisão ou Recall for zero.\n",
    "\n",
    "![image.png](data:image/png;base64,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)"
   ]
  },
  {
   "cell_type": "code",
   "execution_count": 78,
   "metadata": {
    "execution": {
     "iopub.execute_input": "2021-02-14T18:53:30.636632Z",
     "iopub.status.busy": "2021-02-14T18:53:30.635873Z",
     "iopub.status.idle": "2021-02-14T18:53:30.639260Z",
     "shell.execute_reply": "2021-02-14T18:53:30.638656Z"
    },
    "id": "pXS-jijt0bFq",
    "papermill": {
     "duration": 0.118202,
     "end_time": "2021-02-14T18:53:30.639469",
     "exception": false,
     "start_time": "2021-02-14T18:53:30.521267",
     "status": "completed"
    },
    "tags": []
   },
   "outputs": [],
   "source": [
    "from sklearn.metrics import f1_score"
   ]
  },
  {
   "cell_type": "code",
   "execution_count": 79,
   "metadata": {
    "execution": {
     "iopub.execute_input": "2021-02-14T18:53:30.866581Z",
     "iopub.status.busy": "2021-02-14T18:53:30.865840Z",
     "iopub.status.idle": "2021-02-14T18:53:30.883470Z",
     "shell.execute_reply": "2021-02-14T18:53:30.882717Z"
    },
    "executionInfo": {
     "elapsed": 630,
     "status": "ok",
     "timestamp": 1612571532931,
     "user": {
      "displayName": "Samuel S. Ferreira",
      "photoUrl": "https://lh3.googleusercontent.com/a-/AOh14GhMXcQbRtC5Q43vAXPtrgywOfemEDLbqQwWeOHB=s64",
      "userId": "04389966910635240145"
     },
     "user_tz": 180
    },
    "id": "bXS_FUUCznRz",
    "outputId": "e834c5c4-e83f-4689-af47-8939a2ca8940",
    "papermill": {
     "duration": 0.132871,
     "end_time": "2021-02-14T18:53:30.883630",
     "exception": false,
     "start_time": "2021-02-14T18:53:30.750759",
     "status": "completed"
    },
    "tags": []
   },
   "outputs": [
    {
     "data": {
      "text/html": [
       "<div>\n",
       "<style scoped>\n",
       "    .dataframe tbody tr th:only-of-type {\n",
       "        vertical-align: middle;\n",
       "    }\n",
       "\n",
       "    .dataframe tbody tr th {\n",
       "        vertical-align: top;\n",
       "    }\n",
       "\n",
       "    .dataframe thead th {\n",
       "        text-align: right;\n",
       "    }\n",
       "</style>\n",
       "<table border=\"1\" class=\"dataframe\">\n",
       "  <thead>\n",
       "    <tr style=\"text-align: right;\">\n",
       "      <th></th>\n",
       "      <th>Modelo</th>\n",
       "      <th>Acurácia</th>\n",
       "      <th>Precisão</th>\n",
       "      <th>Recall</th>\n",
       "      <th>F1-Score</th>\n",
       "    </tr>\n",
       "  </thead>\n",
       "  <tbody>\n",
       "    <tr>\n",
       "      <th>0</th>\n",
       "      <td>Random Forest Classifier</td>\n",
       "      <td>97.98</td>\n",
       "      <td>97.93</td>\n",
       "      <td>96.78</td>\n",
       "      <td>97.35</td>\n",
       "    </tr>\n",
       "    <tr>\n",
       "      <th>1</th>\n",
       "      <td>Gradient Boosting Model</td>\n",
       "      <td>94.39</td>\n",
       "      <td>95.34</td>\n",
       "      <td>89.77</td>\n",
       "      <td>92.47</td>\n",
       "    </tr>\n",
       "    <tr>\n",
       "      <th>2</th>\n",
       "      <td>XGB Classifier</td>\n",
       "      <td>92.93</td>\n",
       "      <td>93.73</td>\n",
       "      <td>87.43</td>\n",
       "      <td>90.47</td>\n",
       "    </tr>\n",
       "  </tbody>\n",
       "</table>\n",
       "</div>"
      ],
      "text/plain": [
       "                     Modelo  Acurácia  Precisão  Recall  F1-Score\n",
       "0  Random Forest Classifier     97.98     97.93   96.78     97.35\n",
       "1   Gradient Boosting Model     94.39     95.34   89.77     92.47\n",
       "2            XGB Classifier     92.93     93.73   87.43     90.47"
      ]
     },
     "execution_count": 79,
     "metadata": {},
     "output_type": "execute_result"
    }
   ],
   "source": [
    "tres_modelos['F1-Score'] = [(f1_score(target,x)*100).round(2) for x in lista_val_predict]\n",
    "tres_modelos"
   ]
  },
  {
   "cell_type": "markdown",
   "metadata": {
    "id": "UZVBhdIS1v8c",
    "papermill": {
     "duration": 0.10962,
     "end_time": "2021-02-14T18:53:31.104073",
     "exception": false,
     "start_time": "2021-02-14T18:53:30.994453",
     "status": "completed"
    },
    "tags": []
   },
   "source": [
    "## **5.5 - Obtendo todas as métricas por meio do classification_report**\n",
    "Em vez de termos esse trabalho todo de calcularmos uma a um, a função classification report já retorna todos os valores.\n",
    "E com 3 linhas de código podemos calcular para todos os modelos."
   ]
  },
  {
   "cell_type": "code",
   "execution_count": 80,
   "metadata": {
    "execution": {
     "iopub.execute_input": "2021-02-14T18:53:31.331119Z",
     "iopub.status.busy": "2021-02-14T18:53:31.330438Z",
     "iopub.status.idle": "2021-02-14T18:53:31.333293Z",
     "shell.execute_reply": "2021-02-14T18:53:31.333948Z"
    },
    "id": "-WCNGj0b2EoJ",
    "papermill": {
     "duration": 0.119923,
     "end_time": "2021-02-14T18:53:31.334124",
     "exception": false,
     "start_time": "2021-02-14T18:53:31.214201",
     "status": "completed"
    },
    "tags": []
   },
   "outputs": [],
   "source": [
    "from sklearn.metrics import classification_report"
   ]
  },
  {
   "cell_type": "code",
   "execution_count": 81,
   "metadata": {
    "execution": {
     "iopub.execute_input": "2021-02-14T18:53:31.559968Z",
     "iopub.status.busy": "2021-02-14T18:53:31.559275Z",
     "iopub.status.idle": "2021-02-14T18:53:31.562844Z",
     "shell.execute_reply": "2021-02-14T18:53:31.562165Z"
    },
    "id": "8jpsN3qfDM6T",
    "papermill": {
     "duration": 0.117463,
     "end_time": "2021-02-14T18:53:31.562991",
     "exception": false,
     "start_time": "2021-02-14T18:53:31.445528",
     "status": "completed"
    },
    "tags": []
   },
   "outputs": [],
   "source": [
    "#Individualmente\n",
    "# y_true = target\n",
    "# y_pred = xgbc_predict\n",
    "# target_names = ['Não Sobreviventes', 'Sobreviventes']\n",
    "# print(classification_report(y_true, y_pred, target_names=target_names))"
   ]
  },
  {
   "cell_type": "code",
   "execution_count": 82,
   "metadata": {
    "execution": {
     "iopub.execute_input": "2021-02-14T18:53:31.791587Z",
     "iopub.status.busy": "2021-02-14T18:53:31.790066Z",
     "iopub.status.idle": "2021-02-14T18:53:31.816827Z",
     "shell.execute_reply": "2021-02-14T18:53:31.816217Z"
    },
    "executionInfo": {
     "elapsed": 927,
     "status": "ok",
     "timestamp": 1612571542239,
     "user": {
      "displayName": "Samuel S. Ferreira",
      "photoUrl": "https://lh3.googleusercontent.com/a-/AOh14GhMXcQbRtC5Q43vAXPtrgywOfemEDLbqQwWeOHB=s64",
      "userId": "04389966910635240145"
     },
     "user_tz": 180
    },
    "id": "lNwIqNxkE6NE",
    "outputId": "d46ae32e-ed62-42bb-dfed-2d9ff0e2a695",
    "papermill": {
     "duration": 0.143885,
     "end_time": "2021-02-14T18:53:31.816987",
     "exception": false,
     "start_time": "2021-02-14T18:53:31.673102",
     "status": "completed"
    },
    "tags": []
   },
   "outputs": [
    {
     "name": "stdout",
     "output_type": "stream",
     "text": [
      "                  precision    recall  f1-score   support\n",
      "\n",
      "Não Sobrevivente       0.98      0.99      0.98       549\n",
      "    Sobrevivente       0.98      0.97      0.97       342\n",
      "\n",
      "        accuracy                           0.98       891\n",
      "       macro avg       0.98      0.98      0.98       891\n",
      "    weighted avg       0.98      0.98      0.98       891\n",
      "\n",
      "                  precision    recall  f1-score   support\n",
      "\n",
      "Não Sobrevivente       0.94      0.97      0.96       549\n",
      "    Sobrevivente       0.95      0.90      0.92       342\n",
      "\n",
      "        accuracy                           0.94       891\n",
      "       macro avg       0.95      0.94      0.94       891\n",
      "    weighted avg       0.94      0.94      0.94       891\n",
      "\n",
      "                  precision    recall  f1-score   support\n",
      "\n",
      "Não Sobrevivente       0.92      0.96      0.94       549\n",
      "    Sobrevivente       0.94      0.87      0.90       342\n",
      "\n",
      "        accuracy                           0.93       891\n",
      "       macro avg       0.93      0.92      0.92       891\n",
      "    weighted avg       0.93      0.93      0.93       891\n",
      "\n"
     ]
    },
    {
     "data": {
      "text/plain": [
       "[None, None, None]"
      ]
     },
     "execution_count": 82,
     "metadata": {},
     "output_type": "execute_result"
    }
   ],
   "source": [
    "#Gerando os relatórios para os 3 modelos ao mesmo tempo\n",
    "lista_val_predict =[random_predict,gradient_predict,xgbc_predict] \n",
    "[print(classification_report(target,x,target_names=['Não Sobrevivente','Sobrevivente'])) for x in lista_val_predict]"
   ]
  },
  {
   "cell_type": "code",
   "execution_count": 83,
   "metadata": {
    "execution": {
     "iopub.execute_input": "2021-02-14T18:53:32.054913Z",
     "iopub.status.busy": "2021-02-14T18:53:32.053991Z",
     "iopub.status.idle": "2021-02-14T18:53:32.058775Z",
     "shell.execute_reply": "2021-02-14T18:53:32.058213Z"
    },
    "executionInfo": {
     "elapsed": 1151,
     "status": "ok",
     "timestamp": 1612570477132,
     "user": {
      "displayName": "Samuel S. Ferreira",
      "photoUrl": "https://lh3.googleusercontent.com/a-/AOh14GhMXcQbRtC5Q43vAXPtrgywOfemEDLbqQwWeOHB=s64",
      "userId": "04389966910635240145"
     },
     "user_tz": 180
    },
    "id": "9iPYXPH1KwLk",
    "outputId": "646c3ebe-7670-41b7-c454-3bd02580f1cc",
    "papermill": {
     "duration": 0.128818,
     "end_time": "2021-02-14T18:53:32.058917",
     "exception": false,
     "start_time": "2021-02-14T18:53:31.930099",
     "status": "completed"
    },
    "tags": []
   },
   "outputs": [
    {
     "data": {
      "text/html": [
       "<div>\n",
       "<style scoped>\n",
       "    .dataframe tbody tr th:only-of-type {\n",
       "        vertical-align: middle;\n",
       "    }\n",
       "\n",
       "    .dataframe tbody tr th {\n",
       "        vertical-align: top;\n",
       "    }\n",
       "\n",
       "    .dataframe thead th {\n",
       "        text-align: right;\n",
       "    }\n",
       "</style>\n",
       "<table border=\"1\" class=\"dataframe\">\n",
       "  <thead>\n",
       "    <tr style=\"text-align: right;\">\n",
       "      <th></th>\n",
       "      <th>Modelo</th>\n",
       "      <th>Acurácia</th>\n",
       "      <th>Precisão</th>\n",
       "      <th>Recall</th>\n",
       "      <th>F1-Score</th>\n",
       "    </tr>\n",
       "  </thead>\n",
       "  <tbody>\n",
       "    <tr>\n",
       "      <th>0</th>\n",
       "      <td>Random Forest Classifier</td>\n",
       "      <td>97.98</td>\n",
       "      <td>97.93</td>\n",
       "      <td>96.78</td>\n",
       "      <td>97.35</td>\n",
       "    </tr>\n",
       "    <tr>\n",
       "      <th>1</th>\n",
       "      <td>Gradient Boosting Model</td>\n",
       "      <td>94.39</td>\n",
       "      <td>95.34</td>\n",
       "      <td>89.77</td>\n",
       "      <td>92.47</td>\n",
       "    </tr>\n",
       "    <tr>\n",
       "      <th>2</th>\n",
       "      <td>XGB Classifier</td>\n",
       "      <td>92.93</td>\n",
       "      <td>93.73</td>\n",
       "      <td>87.43</td>\n",
       "      <td>90.47</td>\n",
       "    </tr>\n",
       "  </tbody>\n",
       "</table>\n",
       "</div>"
      ],
      "text/plain": [
       "                     Modelo  Acurácia  Precisão  Recall  F1-Score\n",
       "0  Random Forest Classifier     97.98     97.93   96.78     97.35\n",
       "1   Gradient Boosting Model     94.39     95.34   89.77     92.47\n",
       "2            XGB Classifier     92.93     93.73   87.43     90.47"
      ]
     },
     "execution_count": 83,
     "metadata": {},
     "output_type": "execute_result"
    }
   ],
   "source": [
    "tres_modelos #para comparação"
   ]
  },
  {
   "cell_type": "markdown",
   "metadata": {
    "id": "2YEDECM17ISZ",
    "papermill": {
     "duration": 0.112563,
     "end_time": "2021-02-14T18:53:32.283098",
     "exception": false,
     "start_time": "2021-02-14T18:53:32.170535",
     "status": "completed"
    },
    "tags": []
   },
   "source": [
    "## **5.6 - ROC Curve (Receiver Operating Characteristic Curve)**"
   ]
  },
  {
   "cell_type": "code",
   "execution_count": 84,
   "metadata": {
    "execution": {
     "iopub.execute_input": "2021-02-14T18:53:32.513328Z",
     "iopub.status.busy": "2021-02-14T18:53:32.512615Z",
     "iopub.status.idle": "2021-02-14T18:53:32.514774Z",
     "shell.execute_reply": "2021-02-14T18:53:32.515331Z"
    },
    "id": "tIsupSVT7NOF",
    "papermill": {
     "duration": 0.120329,
     "end_time": "2021-02-14T18:53:32.515550",
     "exception": false,
     "start_time": "2021-02-14T18:53:32.395221",
     "status": "completed"
    },
    "tags": []
   },
   "outputs": [],
   "source": [
    "from sklearn.metrics import plot_roc_curve"
   ]
  },
  {
   "cell_type": "code",
   "execution_count": 85,
   "metadata": {
    "execution": {
     "iopub.execute_input": "2021-02-14T18:53:32.747951Z",
     "iopub.status.busy": "2021-02-14T18:53:32.747180Z",
     "iopub.status.idle": "2021-02-14T18:53:33.261209Z",
     "shell.execute_reply": "2021-02-14T18:53:33.260518Z"
    },
    "executionInfo": {
     "elapsed": 1444,
     "status": "ok",
     "timestamp": 1612570497765,
     "user": {
      "displayName": "Samuel S. Ferreira",
      "photoUrl": "https://lh3.googleusercontent.com/a-/AOh14GhMXcQbRtC5Q43vAXPtrgywOfemEDLbqQwWeOHB=s64",
      "userId": "04389966910635240145"
     },
     "user_tz": 180
    },
    "id": "sOqyqWni7HtM",
    "outputId": "939af1dd-37d4-4509-8789-63725747e9f8",
    "papermill": {
     "duration": 0.632055,
     "end_time": "2021-02-14T18:53:33.261390",
     "exception": false,
     "start_time": "2021-02-14T18:53:32.629335",
     "status": "completed"
    },
    "tags": []
   },
   "outputs": [
    {
     "data": {
      "text/plain": [
       "<sklearn.metrics._plot.roc_curve.RocCurveDisplay at 0x7f88982e0fd0>"
      ]
     },
     "execution_count": 85,
     "metadata": {},
     "output_type": "execute_result"
    },
    {
     "data": {
      "image/png": "[encoded data removed]",
      "text/plain": [
       "<Figure size 432x288 with 1 Axes>"
      ]
     },
     "metadata": {
      "needs_background": "light"
     },
     "output_type": "display_data"
    },
    {
     "data": {
      "image/png": "[encoded data removed]",
      "text/plain": [
       "<Figure size 432x288 with 1 Axes>"
      ]
     },
     "metadata": {
      "needs_background": "light"
     },
     "output_type": "display_data"
    },
    {
     "data": {
      "image/png": "[encoded data removed]",
      "text/plain": [
       "<Figure size 432x288 with 1 Axes>"
      ]
     },
     "metadata": {
      "needs_background": "light"
     },
     "output_type": "display_data"
    }
   ],
   "source": [
    "plot_roc_curve(random_forest_model,train, random_predict)\n",
    "plot_roc_curve(gradient_model, train, gradient_predict)\n",
    "plot_roc_curve(xgbc_model, train,gradient_predict)\n",
    "\n",
    "  "
   ]
  },
  {
   "cell_type": "markdown",
   "metadata": {
    "id": "Be3KLYBCVfzE",
    "papermill": {
     "duration": 0.116743,
     "end_time": "2021-02-14T18:53:33.493966",
     "exception": false,
     "start_time": "2021-02-14T18:53:33.377223",
     "status": "completed"
    },
    "tags": []
   },
   "source": [
    "# **6 - Validação Cruzada**\n",
    "O quão confiável são as métricas obtidas nos modelos acima? Para isso faremos agora a etapa de validação, isto é, se os números são confiáveis ou se há algum enviesamento como o **overfitting**, que ocorre quando o modelo \"decora\" os dados e gera previsões ruins.\n",
    "\n",
    "Dentre as várias técnicas possíveis, aplicaremos o K-Fold e o cross-validation (Validação cruzada).\n",
    "\n",
    "o **K-fold cross-validation** divide aleatoriamente os dados em k grupos e em cada etapa etapa a validação é feita k vezes com os k grupos. Cada métrica final obtida é a média das métricas das k modelagens.\n",
    "Os valores mais usados, baseado em vidência empírica, é de k=5 ou k=10, mas pode-se realizar testes para obter o melhor resultado.\n",
    "\n",
    "Alguns artigos que consultei para compreender melhor:\n",
    "\n",
    "[Cross Validation Explained: Evaluating estimator performance.\n",
    "Improve your ML model using cross validation.](https://towardsdatascience.com/cross-validation-explained-evaluating-estimator-performance-e51e5430ff85)\n",
    "\n",
    "[Understanding Cross Validation\n",
    "How Cross Validation Helps Us Avoid The Pitfalls Of Overfitting](//https://towardsdatascience.com/understanding-cross-validation-419dbd47e9bd)\n",
    "\n",
    "[Cross-Validation\n",
    "Validating your Machine Learning Model Performance](https://towardsdatascience.com/cross-validation-c4fae714f1c5)\n",
    "\n",
    "[CrossValidation de maneira didática](https://medium.com/data-hackers/crossvalidation-de-maneira-did%C3%A1tica-79c9b080a6ec)\n",
    "\n",
    "[Cross-Validation in Machine Learning](https://towardsdatascience.com/cross-validation-in-machine-learning-72924a69872f)\n",
    "\n"
   ]
  },
  {
   "cell_type": "markdown",
   "metadata": {
    "id": "W4R06K5leNEr",
    "papermill": {
     "duration": 0.118815,
     "end_time": "2021-02-14T18:53:33.728832",
     "exception": false,
     "start_time": "2021-02-14T18:53:33.610017",
     "status": "completed"
    },
    "tags": []
   },
   "source": [
    "## **6.1 - Cross Validation para os modelos**\n",
    "Desenvolveremos uma função para fazer a validação dos modelos e em seguida colocar no nosso DataFrame para comparação."
   ]
  },
  {
   "cell_type": "code",
   "execution_count": 86,
   "metadata": {
    "execution": {
     "iopub.execute_input": "2021-02-14T18:53:33.967647Z",
     "iopub.status.busy": "2021-02-14T18:53:33.966947Z",
     "iopub.status.idle": "2021-02-14T18:53:33.970216Z",
     "shell.execute_reply": "2021-02-14T18:53:33.969556Z"
    },
    "id": "vWwRZcWOOUU8",
    "papermill": {
     "duration": 0.125708,
     "end_time": "2021-02-14T18:53:33.970386",
     "exception": false,
     "start_time": "2021-02-14T18:53:33.844678",
     "status": "completed"
    },
    "tags": []
   },
   "outputs": [],
   "source": [
    "from sklearn.model_selection import KFold, cross_val_score\n",
    "\n",
    "lista_de_modelos = [random_forest_model,gradient_model,xgbc_model]\n",
    "media = []\n",
    "desv_pad = []\n",
    "intervalo = []"
   ]
  },
  {
   "cell_type": "code",
   "execution_count": 87,
   "metadata": {
    "execution": {
     "iopub.execute_input": "2021-02-14T18:53:34.212765Z",
     "iopub.status.busy": "2021-02-14T18:53:34.211710Z",
     "iopub.status.idle": "2021-02-14T18:53:34.215308Z",
     "shell.execute_reply": "2021-02-14T18:53:34.214623Z"
    },
    "id": "-GVMk_l5ML3T",
    "papermill": {
     "duration": 0.128733,
     "end_time": "2021-02-14T18:53:34.215481",
     "exception": false,
     "start_time": "2021-02-14T18:53:34.086748",
     "status": "completed"
    },
    "tags": []
   },
   "outputs": [],
   "source": [
    "def validacao_cruzada(lista_de_modelos):\n",
    "  \n",
    "  #n_splits é a quantidade de divisão que será feita nos dados e testado\n",
    "  #shuffle se prefere que embaralha os dados na escolha dos n_splits\n",
    "\n",
    "  kfold  = KFold(n_splits=10, shuffle=True, random_state=2021)\n",
    "\n",
    "  for x in lista_de_modelos:\n",
    "    score = cross_val_score(x,train,target, cv=kfold, scoring='accuracy')\n",
    "    #print((score*100).round(2),(score.mean()*100).round(2),(score.std()*100).round(2))\n",
    "    media.append((score.mean()*100).round(2))\n",
    "    desv_pad.append((score.std()*100).round(2))\n",
    "    intervalo.append([(score.mean()*100).round(2) - (score.std()*100).round(2) , (score.mean()*100).round(2) + (score.std()*100).round(2)])\n",
    "\n",
    "\n",
    "  tres_modelos[\"Acuracia-CV\"]=media\n",
    "  tres_modelos['Desvio Padrão-CV'] = desv_pad\n",
    "  tres_modelos['Intervalo-CV'] =intervalo\n",
    "\n",
    "  "
   ]
  },
  {
   "cell_type": "code",
   "execution_count": 88,
   "metadata": {
    "execution": {
     "iopub.execute_input": "2021-02-14T18:53:34.454692Z",
     "iopub.status.busy": "2021-02-14T18:53:34.453092Z",
     "iopub.status.idle": "2021-02-14T18:53:44.981401Z",
     "shell.execute_reply": "2021-02-14T18:53:44.980839Z"
    },
    "executionInfo": {
     "elapsed": 11194,
     "status": "ok",
     "timestamp": 1612571800395,
     "user": {
      "displayName": "Samuel S. Ferreira",
      "photoUrl": "https://lh3.googleusercontent.com/a-/AOh14GhMXcQbRtC5Q43vAXPtrgywOfemEDLbqQwWeOHB=s64",
      "userId": "04389966910635240145"
     },
     "user_tz": 180
    },
    "id": "hOyxxuY-So8y",
    "outputId": "619dbe0d-8bf0-4a7e-c145-272293b378af",
    "papermill": {
     "duration": 10.650166,
     "end_time": "2021-02-14T18:53:44.981553",
     "exception": false,
     "start_time": "2021-02-14T18:53:34.331387",
     "status": "completed"
    },
    "tags": []
   },
   "outputs": [
    {
     "name": "stderr",
     "output_type": "stream",
     "text": [
      "/opt/conda/lib/python3.7/site-packages/xgboost/sklearn.py:888: UserWarning: The use of label encoder in XGBClassifier is deprecated and will be removed in a future release. To remove this warning, do the following: 1) Pass option use_label_encoder=False when constructing XGBClassifier object; and 2) Encode your labels (y) as integers starting with 0, i.e. 0, 1, 2, ..., [num_class - 1].\n",
      "  warnings.warn(label_encoder_deprecation_msg, UserWarning)\n"
     ]
    },
    {
     "data": {
      "text/html": [
       "<div>\n",
       "<style scoped>\n",
       "    .dataframe tbody tr th:only-of-type {\n",
       "        vertical-align: middle;\n",
       "    }\n",
       "\n",
       "    .dataframe tbody tr th {\n",
       "        vertical-align: top;\n",
       "    }\n",
       "\n",
       "    .dataframe thead th {\n",
       "        text-align: right;\n",
       "    }\n",
       "</style>\n",
       "<table border=\"1\" class=\"dataframe\">\n",
       "  <thead>\n",
       "    <tr style=\"text-align: right;\">\n",
       "      <th></th>\n",
       "      <th>Modelo</th>\n",
       "      <th>Acurácia</th>\n",
       "      <th>Precisão</th>\n",
       "      <th>Recall</th>\n",
       "      <th>F1-Score</th>\n",
       "      <th>Acuracia-CV</th>\n",
       "      <th>Desvio Padrão-CV</th>\n",
       "      <th>Intervalo-CV</th>\n",
       "    </tr>\n",
       "  </thead>\n",
       "  <tbody>\n",
       "    <tr>\n",
       "      <th>0</th>\n",
       "      <td>Random Forest Classifier</td>\n",
       "      <td>97.98</td>\n",
       "      <td>97.93</td>\n",
       "      <td>96.78</td>\n",
       "      <td>97.35</td>\n",
       "      <td>81.60</td>\n",
       "      <td>4.06</td>\n",
       "      <td>[77.53999999999999, 85.66]</td>\n",
       "    </tr>\n",
       "    <tr>\n",
       "      <th>1</th>\n",
       "      <td>Gradient Boosting Model</td>\n",
       "      <td>94.39</td>\n",
       "      <td>95.34</td>\n",
       "      <td>89.77</td>\n",
       "      <td>92.47</td>\n",
       "      <td>82.27</td>\n",
       "      <td>4.64</td>\n",
       "      <td>[77.63, 86.91]</td>\n",
       "    </tr>\n",
       "    <tr>\n",
       "      <th>2</th>\n",
       "      <td>XGB Classifier</td>\n",
       "      <td>92.93</td>\n",
       "      <td>93.73</td>\n",
       "      <td>87.43</td>\n",
       "      <td>90.47</td>\n",
       "      <td>82.38</td>\n",
       "      <td>3.86</td>\n",
       "      <td>[78.52, 86.24]</td>\n",
       "    </tr>\n",
       "  </tbody>\n",
       "</table>\n",
       "</div>"
      ],
      "text/plain": [
       "                     Modelo  Acurácia  Precisão  Recall  F1-Score  \\\n",
       "0  Random Forest Classifier     97.98     97.93   96.78     97.35   \n",
       "1   Gradient Boosting Model     94.39     95.34   89.77     92.47   \n",
       "2            XGB Classifier     92.93     93.73   87.43     90.47   \n",
       "\n",
       "   Acuracia-CV  Desvio Padrão-CV                Intervalo-CV  \n",
       "0        81.60              4.06  [77.53999999999999, 85.66]  \n",
       "1        82.27              4.64              [77.63, 86.91]  \n",
       "2        82.38              3.86              [78.52, 86.24]  "
      ]
     },
     "execution_count": 88,
     "metadata": {},
     "output_type": "execute_result"
    }
   ],
   "source": [
    "validacao_cruzada(lista_de_modelos)\n",
    "tres_modelos"
   ]
  },
  {
   "cell_type": "markdown",
   "metadata": {
    "id": "M5zsM7dlopIU",
    "papermill": {
     "duration": 0.115796,
     "end_time": "2021-02-14T18:53:45.214235",
     "exception": false,
     "start_time": "2021-02-14T18:53:45.098439",
     "status": "completed"
    },
    "tags": []
   },
   "source": [
    "**Notamos que com a validação cruzada a acurácia dos modelos diminuiu com média  inferior ao cálculo da acurácia, mas levando em conta os erros a partir dos desvio padrão, é mais provável que o valor esteja em algum ponto dentro do intervalo. Por exemplo, o Modelo XGB Classifier aplicado aos nossos dados tem uma acurácia entre 78,23% e 87,2%. Abaixo dos 92,93% calculado anteriormente**"
   ]
  },
  {
   "cell_type": "markdown",
   "metadata": {
    "id": "v5tTG3Gdr-ZO",
    "papermill": {
     "duration": 0.115469,
     "end_time": "2021-02-14T18:53:45.446330",
     "exception": false,
     "start_time": "2021-02-14T18:53:45.330861",
     "status": "completed"
    },
    "tags": []
   },
   "source": [
    "## **6.2 - Comparando com os resultados obtido no Kaggle**\n",
    "Submeti vários modelos desenvolvidos no Kaggle e obtivemos os resultados da imagem.\n",
    "![image.png](data:image/png;base64,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)\n"
   ]
  },
  {
   "cell_type": "code",
   "execution_count": 89,
   "metadata": {
    "execution": {
     "iopub.execute_input": "2021-02-14T18:53:45.699979Z",
     "iopub.status.busy": "2021-02-14T18:53:45.699244Z",
     "iopub.status.idle": "2021-02-14T18:53:45.703370Z",
     "shell.execute_reply": "2021-02-14T18:53:45.703837Z"
    },
    "executionInfo": {
     "elapsed": 809,
     "status": "ok",
     "timestamp": 1612571820952,
     "user": {
      "displayName": "Samuel S. Ferreira",
      "photoUrl": "https://lh3.googleusercontent.com/a-/AOh14GhMXcQbRtC5Q43vAXPtrgywOfemEDLbqQwWeOHB=s64",
      "userId": "04389966910635240145"
     },
     "user_tz": 180
    },
    "id": "xFkzSrIor9Gz",
    "outputId": "e4d146c1-a075-41d2-ef3b-7ddd9a33fd71",
    "papermill": {
     "duration": 0.14049,
     "end_time": "2021-02-14T18:53:45.704022",
     "exception": false,
     "start_time": "2021-02-14T18:53:45.563532",
     "status": "completed"
    },
    "tags": []
   },
   "outputs": [
    {
     "data": {
      "text/html": [
       "<div>\n",
       "<style scoped>\n",
       "    .dataframe tbody tr th:only-of-type {\n",
       "        vertical-align: middle;\n",
       "    }\n",
       "\n",
       "    .dataframe tbody tr th {\n",
       "        vertical-align: top;\n",
       "    }\n",
       "\n",
       "    .dataframe thead th {\n",
       "        text-align: right;\n",
       "    }\n",
       "</style>\n",
       "<table border=\"1\" class=\"dataframe\">\n",
       "  <thead>\n",
       "    <tr style=\"text-align: right;\">\n",
       "      <th></th>\n",
       "      <th>Modelo</th>\n",
       "      <th>Acurácia</th>\n",
       "      <th>Precisão</th>\n",
       "      <th>Recall</th>\n",
       "      <th>F1-Score</th>\n",
       "      <th>Acuracia-CV</th>\n",
       "      <th>Desvio Padrão-CV</th>\n",
       "      <th>Intervalo-CV</th>\n",
       "      <th>Resultado do Kaggle</th>\n",
       "    </tr>\n",
       "  </thead>\n",
       "  <tbody>\n",
       "    <tr>\n",
       "      <th>0</th>\n",
       "      <td>Gradient Boosting Model</td>\n",
       "      <td>94.39</td>\n",
       "      <td>95.34</td>\n",
       "      <td>89.77</td>\n",
       "      <td>92.47</td>\n",
       "      <td>82.27</td>\n",
       "      <td>4.64</td>\n",
       "      <td>[77.63, 86.91]</td>\n",
       "      <td>78.23</td>\n",
       "    </tr>\n",
       "    <tr>\n",
       "      <th>1</th>\n",
       "      <td>Random Forest Classifier</td>\n",
       "      <td>97.98</td>\n",
       "      <td>97.93</td>\n",
       "      <td>96.78</td>\n",
       "      <td>97.35</td>\n",
       "      <td>81.60</td>\n",
       "      <td>4.06</td>\n",
       "      <td>[77.53999999999999, 85.66]</td>\n",
       "      <td>76.77</td>\n",
       "    </tr>\n",
       "    <tr>\n",
       "      <th>2</th>\n",
       "      <td>XGB Classifier</td>\n",
       "      <td>92.93</td>\n",
       "      <td>93.73</td>\n",
       "      <td>87.43</td>\n",
       "      <td>90.47</td>\n",
       "      <td>82.38</td>\n",
       "      <td>3.86</td>\n",
       "      <td>[78.52, 86.24]</td>\n",
       "      <td>75.36</td>\n",
       "    </tr>\n",
       "  </tbody>\n",
       "</table>\n",
       "</div>"
      ],
      "text/plain": [
       "                     Modelo  Acurácia  Precisão  Recall  F1-Score  \\\n",
       "0   Gradient Boosting Model     94.39     95.34   89.77     92.47   \n",
       "1  Random Forest Classifier     97.98     97.93   96.78     97.35   \n",
       "2            XGB Classifier     92.93     93.73   87.43     90.47   \n",
       "\n",
       "   Acuracia-CV  Desvio Padrão-CV                Intervalo-CV  \\\n",
       "0        82.27              4.64              [77.63, 86.91]   \n",
       "1        81.60              4.06  [77.53999999999999, 85.66]   \n",
       "2        82.38              3.86              [78.52, 86.24]   \n",
       "\n",
       "   Resultado do Kaggle  \n",
       "0                78.23  \n",
       "1                76.77  \n",
       "2                75.36  "
      ]
     },
     "execution_count": 89,
     "metadata": {},
     "output_type": "execute_result"
    }
   ],
   "source": [
    "tres_modelos['Resultado do Kaggle'] = [76.77, 78.23, 75.36]\n",
    "tres_modelos.sort_values(ascending=False, by= 'Resultado do Kaggle', ignore_index=True)"
   ]
  },
  {
   "cell_type": "markdown",
   "metadata": {
    "id": "dDwQInx4ufpQ",
    "papermill": {
     "duration": 0.115704,
     "end_time": "2021-02-14T18:53:45.935938",
     "exception": false,
     "start_time": "2021-02-14T18:53:45.820234",
     "status": "completed"
    },
    "tags": []
   },
   "source": [
    "**Observamos que o modelo que obteve melhor score com os dados de Teste foi o *Gradient Boost Model* que obteve 78,23% de score**\n",
    "**Curiosamente, notamos que o score obtido no Kaggle está fora do intervalo, por uma pequena margem, da nossa validação obtida pelo K-Fold cross-validation para os modelos Gradient Boosting e XGB Classifier**\n"
   ]
  },
  {
   "cell_type": "markdown",
   "metadata": {
    "id": "-2y-0vJWKyUn",
    "papermill": {
     "duration": 0.115655,
     "end_time": "2021-02-14T18:53:46.169281",
     "exception": false,
     "start_time": "2021-02-14T18:53:46.053626",
     "status": "completed"
    },
    "tags": []
   },
   "source": [
    "# **7 - Se eu tivesse viajado no Titanic, sobreviveria?**\n",
    "## Conclusão\n",
    "\n",
    "Aprendi bastante com o dessafio do Titanic. Consultei materiais, outras resoluções e em cada uma incorporei algo no meu notebook. Tentei aplicar outras funções e conceitos que aprendi mas nem tudo foi possível devido a limitação do dataset e porquê já estava consumindo horas e horas, ficando muito longo e cansativo.\n",
    "\n",
    "Na Parte 1 - Seção 2 fizemos um reconhecimento do dataset train e tiramos algumas inferências sobre os passageiros do Titanic. Visualmente aferimos que alguns grupos tiveram maiores chances de sobreviver, por exemplo, mulheres, crianças, ser da 1ª Classe e viajar acompahado de um familiar. \n",
    "Posteriormente obtivemos a correlação entre as variáveis numéricas e concluimos que eram fracas e as mantivemos na confecção dos modelos.\n",
    "\n",
    "Na Parte 2 - Seção 3 tratamos os dados faltantes manipulandoos e deixando-os preparados para entradas da seção 4.\n",
    "Na Seção 4 Calculamos a acurácia de 9 modelos diferentes e as comparamos.Em sequência separamos os 3 com melhores desempenho e fizemos, na Seção 5, o cálculo das demais métricas e construímos o gráfico da Matriz de Confusão e curva ROC.\n",
    "\n",
    "Não seção 6 fizemos a validação com o K-Fold cross-validation, comparando na tabela os intervalos das métricas anteriormente calculada.\n",
    "Submetidas as previsões à competição do Kaggle, o melhor resultado obtido foi com o modelo GradientBooster que em nossas análises teve o segundo melhor desempenho.\n",
    "\n",
    "## **Com suas características atuais, você teria sobrevivido ao Titanic?**\n",
    "\n",
    "Vamos testar!\n",
    "\n"
   ]
  },
  {
   "cell_type": "code",
   "execution_count": 90,
   "metadata": {
    "execution": {
     "iopub.execute_input": "2021-02-14T18:53:46.404719Z",
     "iopub.status.busy": "2021-02-14T18:53:46.404055Z",
     "iopub.status.idle": "2021-02-14T18:53:46.411061Z",
     "shell.execute_reply": "2021-02-14T18:53:46.410330Z"
    },
    "executionInfo": {
     "elapsed": 765,
     "status": "ok",
     "timestamp": 1611783060400,
     "user": {
      "displayName": "Samuel S. Ferreira",
      "photoUrl": "https://lh3.googleusercontent.com/a-/AOh14GhMXcQbRtC5Q43vAXPtrgywOfemEDLbqQwWeOHB=s64",
      "userId": "04389966910635240145"
     },
     "user_tz": 180
    },
    "id": "q2sRCSp2K_IT",
    "outputId": "7ede1748-5053-4d47-e9df-817dbc62e81a",
    "papermill": {
     "duration": 0.125522,
     "end_time": "2021-02-14T18:53:46.411208",
     "exception": false,
     "start_time": "2021-02-14T18:53:46.285686",
     "status": "completed"
    },
    "tags": []
   },
   "outputs": [
    {
     "data": {
      "text/plain": [
       "Index(['Pclass', 'Sex', 'Age', 'SibSp', 'Parch', 'Fare', 'Embarked_914',\n",
       "       'Embarked_C', 'Embarked_Q', 'Embarked_S'],\n",
       "      dtype='object')"
      ]
     },
     "execution_count": 90,
     "metadata": {},
     "output_type": "execute_result"
    }
   ],
   "source": [
    "test.columns #para saber qual o vetor de características."
   ]
  },
  {
   "cell_type": "code",
   "execution_count": 91,
   "metadata": {
    "execution": {
     "iopub.execute_input": "2021-02-14T18:53:46.654394Z",
     "iopub.status.busy": "2021-02-14T18:53:46.653430Z",
     "iopub.status.idle": "2021-02-14T18:53:46.656769Z",
     "shell.execute_reply": "2021-02-14T18:53:46.657267Z"
    },
    "executionInfo": {
     "elapsed": 719,
     "status": "ok",
     "timestamp": 1611783078507,
     "user": {
      "displayName": "Samuel S. Ferreira",
      "photoUrl": "https://lh3.googleusercontent.com/a-/AOh14GhMXcQbRtC5Q43vAXPtrgywOfemEDLbqQwWeOHB=s64",
      "userId": "04389966910635240145"
     },
     "user_tz": 180
    },
    "id": "gyJi0vudKxkX",
    "outputId": "cc830c5d-8e13-4cb0-b9e8-62d4c4b98d42",
    "papermill": {
     "duration": 0.128766,
     "end_time": "2021-02-14T18:53:46.657463",
     "exception": false,
     "start_time": "2021-02-14T18:53:46.528697",
     "status": "completed"
    },
    "tags": []
   },
   "outputs": [
    {
     "name": "stdout",
     "output_type": "stream",
     "text": [
      "Você Sobreviveria ao Titanic!\n"
     ]
    }
   ],
   "source": [
    "Samuel = np.array([1,0 , 33, 0, 0, 100, 0, 1, 0, 0]).reshape((1, -1))\n",
    "\n",
    "\n",
    "# verificar se teríamos sobrevivido\n",
    "a = gradient_model.predict(Samuel) \n",
    "\n",
    "if a == 1: \n",
    "    print('Você Sobreviveria ao Titanic!')\n",
    "else:\n",
    "    print('Que pena, você não teria muitas chances de sobreviver ao desastre do Titanic.')\n",
    "     \n",
    "     \n"
   ]
  },
  {
   "cell_type": "markdown",
   "metadata": {
    "papermill": {
     "duration": 0.117734,
     "end_time": "2021-02-14T18:53:46.893276",
     "exception": false,
     "start_time": "2021-02-14T18:53:46.775542",
     "status": "completed"
    },
    "tags": []
   },
   "source": [
    "Se eu tivesse viajado sozinho na 1ª Classe, pago U$100 na época e embarcado em Cherbourg, teria dobrevivido."
   ]
  }
 ],
 "metadata": {
  "kernelspec": {
   "display_name": "Python 3",
   "language": "python",
   "name": "python3"
  },
  "language_info": {
   "codemirror_mode": {
    "name": "ipython",
    "version": 3
   },
   "file_extension": ".py",
   "mimetype": "text/x-python",
   "name": "python",
   "nbconvert_exporter": "python",
   "pygments_lexer": "ipython3",
   "version": "3.7.9"
  },
  "papermill": {
   "default_parameters": {},
   "duration": 50.662542,
   "end_time": "2021-02-14T18:53:47.721491",
   "environment_variables": {},
   "exception": null,
   "input_path": "__notebook__.ipynb",
   "output_path": "__notebook__.ipynb",
   "parameters": {},
   "start_time": "2021-02-14T18:52:57.058949",
   "version": "2.2.2"
  }
 },
 "nbformat": 4,
 "nbformat_minor": 4
}
