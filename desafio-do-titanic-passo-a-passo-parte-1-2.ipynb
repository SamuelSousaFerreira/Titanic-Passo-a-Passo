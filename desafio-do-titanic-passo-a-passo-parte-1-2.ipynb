{
 "cells": [
  {
   "cell_type": "markdown",
   "metadata": {
    "papermill": {
     "duration": 0.046023,
     "end_time": "2021-02-16T18:12:23.709909",
     "exception": false,
     "start_time": "2021-02-16T18:12:23.663886",
     "status": "completed"
    },
    "tags": []
   },
   "source": [
    "# Introdução\n",
    "Neste notebook resolvemos o desafio do Titanic no qual o objetivo é prever se os passageiros teriam sobrevivido ou não.\n",
    "Ao desenvolver o projeto, foram indicados links para consulta de bibliotecas ou artigos que foram de grande utilidade na aprendizagem. Sugestões de melhorias são sempre bem-vindas!\n",
    "\n",
    "Está dividido do seguinte modo:\n",
    "\n",
    "* Parte 1 - Foi onde conhecemos os dados, fazemos algumas inferências para chegar a conclusões com a visualização dos dados.\n",
    "\n",
    "* [Parte 2 -](https://www.kaggle.com/samuelsferreira/desafio-do-titanic-passo-a-passo-parte-2-2) Manipulamos, preparamos os dados de entrada, aplicamos os modelos, comparamos os resultados, escolhemos os 3  com melhores desempenhos para a etapa de validação. Por fim, foram submetidos à competição do Kaggle e comparados os resultados da competição com o nosso.\n",
    "\n",
    "## **Parte 1**\n",
    "### 1. Importando as Bibliotecas e Dados\n",
    "\n",
    "### 2. Explorando os Dados\n",
    "   #### 2.1 Entendendo as colunas\n",
    "   #### 2.2 Entendendo os dados faltantes\n",
    "   #### 2.3 Entendendo a distribuição dos dados   \n",
    "   #### 2.4 Visualização dos dados\n",
    "       2.4.1 Sobreviventes\n",
    "       2.4.2 Sobreviventes por sexo\n",
    "       2.4.3 Sobreviventes por classe\n",
    "       2.4.4 Sobreviventes por local de embarque\n",
    "       2.4.5 Sobreviventes por cônjuge e parentes\n",
    "       2.4.6 Sobreviventes por idade\n",
    "   #### 2.5 Correlação dos dados\n",
    "   \n",
    "   \n",
    "\n",
    "## **Parte 2**\n",
    "### 3. Preparação dos dados\n",
    "#### 3.1 Juntando os datasets train e test\n",
    "#### 3.2 Selecionando as features\n",
    "#### 3.3 Tratando os valores faltantes\n",
    "#### 3.4 Preparando as variáveis para os modelos\n",
    "#### 3.5 Separando os datasets de treino e teste\n",
    "\n",
    "### 4. Construção dos Modelos e Avaliação \n",
    "#### 4.1 Dummy Classifier\n",
    "#### 4.2 Regressão Logística\n",
    "#### 4.3 Decision Tree\n",
    "#### 4.4 Regressão Linear\n",
    "#### 4.5 Gradient Boosting Classifier\n",
    "#### 4.6 Random Forest Classifier\n",
    "#### 4.7 XGB Classifier\n",
    "#### 4.8 SVC\n",
    "#### 4.9 KNeighbors Classifier\n",
    "#### 4.10 Comparando os Modelos\n",
    "\n",
    "\n",
    "### 5. Matriz de Confusão, Precisão, Recall, e F1-Score \n",
    "#### 5.1 Matriz de Confusão\n",
    "#### 5.2 Precisão\n",
    "#### 5.3 Recall\n",
    "#### 5.4 F1-Score\n",
    "#### 5.5 Classification Report\n",
    "#### 5.6 ROC Curve (Receiver Operating Characteristic Curve)\n",
    "\n",
    "### 6. Validação cruzada \n",
    "#### 6.1 Cross Validation para os modelos\n",
    "#### 6.2 Comparando com os resultados obtido no Kaggle\n",
    "\n",
    "### 7. Conclusão - Você teria sobrevivido ao Titanic?\n"
   ]
  },
  {
   "cell_type": "markdown",
   "metadata": {
    "papermill": {
     "duration": 0.044091,
     "end_time": "2021-02-16T18:12:23.799204",
     "exception": false,
     "start_time": "2021-02-16T18:12:23.755113",
     "status": "completed"
    },
    "tags": []
   },
   "source": [
    "# **1 - Importando as Bibliotecas e Dados**"
   ]
  },
  {
   "cell_type": "code",
   "execution_count": 1,
   "metadata": {
    "execution": {
     "iopub.execute_input": "2021-02-16T18:12:23.897399Z",
     "iopub.status.busy": "2021-02-16T18:12:23.896605Z",
     "iopub.status.idle": "2021-02-16T18:12:24.978011Z",
     "shell.execute_reply": "2021-02-16T18:12:24.977340Z"
    },
    "papermill": {
     "duration": 1.133884,
     "end_time": "2021-02-16T18:12:24.978160",
     "exception": false,
     "start_time": "2021-02-16T18:12:23.844276",
     "status": "completed"
    },
    "tags": []
   },
   "outputs": [],
   "source": [
    "#importando as bibliotecas\n",
    "import pandas as pd\n",
    "import numpy as np\n",
    "import seaborn as sns\n",
    "import matplotlib.pyplot as plt\n",
    "import matplotlib.font_manager\n",
    "%matplotlib inline"
   ]
  },
  {
   "cell_type": "code",
   "execution_count": 2,
   "metadata": {
    "execution": {
     "iopub.execute_input": "2021-02-16T18:12:25.080352Z",
     "iopub.status.busy": "2021-02-16T18:12:25.079570Z",
     "iopub.status.idle": "2021-02-16T18:12:25.105849Z",
     "shell.execute_reply": "2021-02-16T18:12:25.105026Z"
    },
    "papermill": {
     "duration": 0.079589,
     "end_time": "2021-02-16T18:12:25.105989",
     "exception": false,
     "start_time": "2021-02-16T18:12:25.026400",
     "status": "completed"
    },
    "tags": []
   },
   "outputs": [],
   "source": [
    "#importando os dados\n",
    "train = pd.read_csv('../input/titanic/train.csv')\n",
    "test=pd.read_csv('../input/titanic/test.csv')"
   ]
  },
  {
   "cell_type": "markdown",
   "metadata": {
    "papermill": {
     "duration": 0.04584,
     "end_time": "2021-02-16T18:12:25.197766",
     "exception": false,
     "start_time": "2021-02-16T18:12:25.151926",
     "status": "completed"
    },
    "tags": []
   },
   "source": [
    "# **2 - Explorando os Dados**\n",
    "Nesta seção vamos conhecer como os dados se apresentam e buscar informações por meio da visualização de dados e a correlação entre eles."
   ]
  },
  {
   "cell_type": "code",
   "execution_count": 3,
   "metadata": {
    "_kg_hide-output": true,
    "execution": {
     "iopub.execute_input": "2021-02-16T18:12:25.293342Z",
     "iopub.status.busy": "2021-02-16T18:12:25.292257Z",
     "iopub.status.idle": "2021-02-16T18:12:25.321892Z",
     "shell.execute_reply": "2021-02-16T18:12:25.320980Z"
    },
    "papermill": {
     "duration": 0.078326,
     "end_time": "2021-02-16T18:12:25.322025",
     "exception": false,
     "start_time": "2021-02-16T18:12:25.243699",
     "status": "completed"
    },
    "tags": []
   },
   "outputs": [
    {
     "data": {
      "text/html": [
       "<div>\n",
       "<style scoped>\n",
       "    .dataframe tbody tr th:only-of-type {\n",
       "        vertical-align: middle;\n",
       "    }\n",
       "\n",
       "    .dataframe tbody tr th {\n",
       "        vertical-align: top;\n",
       "    }\n",
       "\n",
       "    .dataframe thead th {\n",
       "        text-align: right;\n",
       "    }\n",
       "</style>\n",
       "<table border=\"1\" class=\"dataframe\">\n",
       "  <thead>\n",
       "    <tr style=\"text-align: right;\">\n",
       "      <th></th>\n",
       "      <th>PassengerId</th>\n",
       "      <th>Survived</th>\n",
       "      <th>Pclass</th>\n",
       "      <th>Name</th>\n",
       "      <th>Sex</th>\n",
       "      <th>Age</th>\n",
       "      <th>SibSp</th>\n",
       "      <th>Parch</th>\n",
       "      <th>Ticket</th>\n",
       "      <th>Fare</th>\n",
       "      <th>Cabin</th>\n",
       "      <th>Embarked</th>\n",
       "    </tr>\n",
       "  </thead>\n",
       "  <tbody>\n",
       "    <tr>\n",
       "      <th>0</th>\n",
       "      <td>1</td>\n",
       "      <td>0</td>\n",
       "      <td>3</td>\n",
       "      <td>Braund, Mr. Owen Harris</td>\n",
       "      <td>male</td>\n",
       "      <td>22.0</td>\n",
       "      <td>1</td>\n",
       "      <td>0</td>\n",
       "      <td>A/5 21171</td>\n",
       "      <td>7.2500</td>\n",
       "      <td>NaN</td>\n",
       "      <td>S</td>\n",
       "    </tr>\n",
       "    <tr>\n",
       "      <th>1</th>\n",
       "      <td>2</td>\n",
       "      <td>1</td>\n",
       "      <td>1</td>\n",
       "      <td>Cumings, Mrs. John Bradley (Florence Briggs Th...</td>\n",
       "      <td>female</td>\n",
       "      <td>38.0</td>\n",
       "      <td>1</td>\n",
       "      <td>0</td>\n",
       "      <td>PC 17599</td>\n",
       "      <td>71.2833</td>\n",
       "      <td>C85</td>\n",
       "      <td>C</td>\n",
       "    </tr>\n",
       "    <tr>\n",
       "      <th>2</th>\n",
       "      <td>3</td>\n",
       "      <td>1</td>\n",
       "      <td>3</td>\n",
       "      <td>Heikkinen, Miss. Laina</td>\n",
       "      <td>female</td>\n",
       "      <td>26.0</td>\n",
       "      <td>0</td>\n",
       "      <td>0</td>\n",
       "      <td>STON/O2. 3101282</td>\n",
       "      <td>7.9250</td>\n",
       "      <td>NaN</td>\n",
       "      <td>S</td>\n",
       "    </tr>\n",
       "    <tr>\n",
       "      <th>3</th>\n",
       "      <td>4</td>\n",
       "      <td>1</td>\n",
       "      <td>1</td>\n",
       "      <td>Futrelle, Mrs. Jacques Heath (Lily May Peel)</td>\n",
       "      <td>female</td>\n",
       "      <td>35.0</td>\n",
       "      <td>1</td>\n",
       "      <td>0</td>\n",
       "      <td>113803</td>\n",
       "      <td>53.1000</td>\n",
       "      <td>C123</td>\n",
       "      <td>S</td>\n",
       "    </tr>\n",
       "    <tr>\n",
       "      <th>4</th>\n",
       "      <td>5</td>\n",
       "      <td>0</td>\n",
       "      <td>3</td>\n",
       "      <td>Allen, Mr. William Henry</td>\n",
       "      <td>male</td>\n",
       "      <td>35.0</td>\n",
       "      <td>0</td>\n",
       "      <td>0</td>\n",
       "      <td>373450</td>\n",
       "      <td>8.0500</td>\n",
       "      <td>NaN</td>\n",
       "      <td>S</td>\n",
       "    </tr>\n",
       "  </tbody>\n",
       "</table>\n",
       "</div>"
      ],
      "text/plain": [
       "   PassengerId  Survived  Pclass  \\\n",
       "0            1         0       3   \n",
       "1            2         1       1   \n",
       "2            3         1       3   \n",
       "3            4         1       1   \n",
       "4            5         0       3   \n",
       "\n",
       "                                                Name     Sex   Age  SibSp  \\\n",
       "0                            Braund, Mr. Owen Harris    male  22.0      1   \n",
       "1  Cumings, Mrs. John Bradley (Florence Briggs Th...  female  38.0      1   \n",
       "2                             Heikkinen, Miss. Laina  female  26.0      0   \n",
       "3       Futrelle, Mrs. Jacques Heath (Lily May Peel)  female  35.0      1   \n",
       "4                           Allen, Mr. William Henry    male  35.0      0   \n",
       "\n",
       "   Parch            Ticket     Fare Cabin Embarked  \n",
       "0      0         A/5 21171   7.2500   NaN        S  \n",
       "1      0          PC 17599  71.2833   C85        C  \n",
       "2      0  STON/O2. 3101282   7.9250   NaN        S  \n",
       "3      0            113803  53.1000  C123        S  \n",
       "4      0            373450   8.0500   NaN        S  "
      ]
     },
     "execution_count": 3,
     "metadata": {},
     "output_type": "execute_result"
    }
   ],
   "source": [
    "train.head()"
   ]
  },
  {
   "cell_type": "code",
   "execution_count": 4,
   "metadata": {
    "execution": {
     "iopub.execute_input": "2021-02-16T18:12:25.431284Z",
     "iopub.status.busy": "2021-02-16T18:12:25.430489Z",
     "iopub.status.idle": "2021-02-16T18:12:25.433502Z",
     "shell.execute_reply": "2021-02-16T18:12:25.434184Z"
    },
    "papermill": {
     "duration": 0.065596,
     "end_time": "2021-02-16T18:12:25.434348",
     "exception": false,
     "start_time": "2021-02-16T18:12:25.368752",
     "status": "completed"
    },
    "tags": []
   },
   "outputs": [
    {
     "data": {
      "text/html": [
       "<div>\n",
       "<style scoped>\n",
       "    .dataframe tbody tr th:only-of-type {\n",
       "        vertical-align: middle;\n",
       "    }\n",
       "\n",
       "    .dataframe tbody tr th {\n",
       "        vertical-align: top;\n",
       "    }\n",
       "\n",
       "    .dataframe thead th {\n",
       "        text-align: right;\n",
       "    }\n",
       "</style>\n",
       "<table border=\"1\" class=\"dataframe\">\n",
       "  <thead>\n",
       "    <tr style=\"text-align: right;\">\n",
       "      <th></th>\n",
       "      <th>PassengerId</th>\n",
       "      <th>Pclass</th>\n",
       "      <th>Name</th>\n",
       "      <th>Sex</th>\n",
       "      <th>Age</th>\n",
       "      <th>SibSp</th>\n",
       "      <th>Parch</th>\n",
       "      <th>Ticket</th>\n",
       "      <th>Fare</th>\n",
       "      <th>Cabin</th>\n",
       "      <th>Embarked</th>\n",
       "    </tr>\n",
       "  </thead>\n",
       "  <tbody>\n",
       "    <tr>\n",
       "      <th>0</th>\n",
       "      <td>892</td>\n",
       "      <td>3</td>\n",
       "      <td>Kelly, Mr. James</td>\n",
       "      <td>male</td>\n",
       "      <td>34.5</td>\n",
       "      <td>0</td>\n",
       "      <td>0</td>\n",
       "      <td>330911</td>\n",
       "      <td>7.8292</td>\n",
       "      <td>NaN</td>\n",
       "      <td>Q</td>\n",
       "    </tr>\n",
       "    <tr>\n",
       "      <th>1</th>\n",
       "      <td>893</td>\n",
       "      <td>3</td>\n",
       "      <td>Wilkes, Mrs. James (Ellen Needs)</td>\n",
       "      <td>female</td>\n",
       "      <td>47.0</td>\n",
       "      <td>1</td>\n",
       "      <td>0</td>\n",
       "      <td>363272</td>\n",
       "      <td>7.0000</td>\n",
       "      <td>NaN</td>\n",
       "      <td>S</td>\n",
       "    </tr>\n",
       "    <tr>\n",
       "      <th>2</th>\n",
       "      <td>894</td>\n",
       "      <td>2</td>\n",
       "      <td>Myles, Mr. Thomas Francis</td>\n",
       "      <td>male</td>\n",
       "      <td>62.0</td>\n",
       "      <td>0</td>\n",
       "      <td>0</td>\n",
       "      <td>240276</td>\n",
       "      <td>9.6875</td>\n",
       "      <td>NaN</td>\n",
       "      <td>Q</td>\n",
       "    </tr>\n",
       "    <tr>\n",
       "      <th>3</th>\n",
       "      <td>895</td>\n",
       "      <td>3</td>\n",
       "      <td>Wirz, Mr. Albert</td>\n",
       "      <td>male</td>\n",
       "      <td>27.0</td>\n",
       "      <td>0</td>\n",
       "      <td>0</td>\n",
       "      <td>315154</td>\n",
       "      <td>8.6625</td>\n",
       "      <td>NaN</td>\n",
       "      <td>S</td>\n",
       "    </tr>\n",
       "    <tr>\n",
       "      <th>4</th>\n",
       "      <td>896</td>\n",
       "      <td>3</td>\n",
       "      <td>Hirvonen, Mrs. Alexander (Helga E Lindqvist)</td>\n",
       "      <td>female</td>\n",
       "      <td>22.0</td>\n",
       "      <td>1</td>\n",
       "      <td>1</td>\n",
       "      <td>3101298</td>\n",
       "      <td>12.2875</td>\n",
       "      <td>NaN</td>\n",
       "      <td>S</td>\n",
       "    </tr>\n",
       "  </tbody>\n",
       "</table>\n",
       "</div>"
      ],
      "text/plain": [
       "   PassengerId  Pclass                                          Name     Sex  \\\n",
       "0          892       3                              Kelly, Mr. James    male   \n",
       "1          893       3              Wilkes, Mrs. James (Ellen Needs)  female   \n",
       "2          894       2                     Myles, Mr. Thomas Francis    male   \n",
       "3          895       3                              Wirz, Mr. Albert    male   \n",
       "4          896       3  Hirvonen, Mrs. Alexander (Helga E Lindqvist)  female   \n",
       "\n",
       "    Age  SibSp  Parch   Ticket     Fare Cabin Embarked  \n",
       "0  34.5      0      0   330911   7.8292   NaN        Q  \n",
       "1  47.0      1      0   363272   7.0000   NaN        S  \n",
       "2  62.0      0      0   240276   9.6875   NaN        Q  \n",
       "3  27.0      0      0   315154   8.6625   NaN        S  \n",
       "4  22.0      1      1  3101298  12.2875   NaN        S  "
      ]
     },
     "execution_count": 4,
     "metadata": {},
     "output_type": "execute_result"
    }
   ],
   "source": [
    "test.head()"
   ]
  },
  {
   "cell_type": "markdown",
   "metadata": {
    "papermill": {
     "duration": 0.046095,
     "end_time": "2021-02-16T18:12:25.527897",
     "exception": false,
     "start_time": "2021-02-16T18:12:25.481802",
     "status": "completed"
    },
    "tags": []
   },
   "source": [
    "## **2.1 - Entendendo as colunas**\n",
    "- **PassengerId** - é o número de identificação do passageiro\n",
    "- **Survived** - informa se o passageiro sobreviveu (1) ou não (0).\n",
    "- **Pclass** - Classe em que o passageiro embarcou: 1 é a 1ª classe, 2 é a 2ª classe e 3 é a 3ª classe.\n",
    "- **Name** - Nome do Passageiro\n",
    "- **Sex** - M para Masculino e F para Feminino\n",
    "- **Age** - Idade do Passageiro.\n",
    "- **SibSp** - quantidade de cônjuge e irmãos a bordo\n",
    "- **Parch** - Quantidade de Pais e Filhos a bordo.\n",
    "- **Ticket** - Número da passagem\n",
    "- **Fare** - Valor pago pela passagem\n",
    "- **Cabin** - Cabine que o passageiro estava alojado\n",
    "- **Embarked** - porto que o passageiro embarcou: C é Cherbourg, Q é Queenstown, S é Southampton"
   ]
  },
  {
   "cell_type": "code",
   "execution_count": 5,
   "metadata": {
    "execution": {
     "iopub.execute_input": "2021-02-16T18:12:25.625767Z",
     "iopub.status.busy": "2021-02-16T18:12:25.624799Z",
     "iopub.status.idle": "2021-02-16T18:12:25.637444Z",
     "shell.execute_reply": "2021-02-16T18:12:25.638486Z"
    },
    "papermill": {
     "duration": 0.064446,
     "end_time": "2021-02-16T18:12:25.638732",
     "exception": false,
     "start_time": "2021-02-16T18:12:25.574286",
     "status": "completed"
    },
    "tags": []
   },
   "outputs": [
    {
     "name": "stdout",
     "output_type": "stream",
     "text": [
      "(891, 12)\n",
      "(418, 11)\n"
     ]
    }
   ],
   "source": [
    "print(train.shape)\n",
    "print(test.shape)"
   ]
  },
  {
   "cell_type": "code",
   "execution_count": 6,
   "metadata": {
    "execution": {
     "iopub.execute_input": "2021-02-16T18:12:25.741436Z",
     "iopub.status.busy": "2021-02-16T18:12:25.740746Z",
     "iopub.status.idle": "2021-02-16T18:12:25.757453Z",
     "shell.execute_reply": "2021-02-16T18:12:25.756443Z"
    },
    "papermill": {
     "duration": 0.067544,
     "end_time": "2021-02-16T18:12:25.757654",
     "exception": false,
     "start_time": "2021-02-16T18:12:25.690110",
     "status": "completed"
    },
    "tags": []
   },
   "outputs": [
    {
     "name": "stdout",
     "output_type": "stream",
     "text": [
      "<class 'pandas.core.frame.DataFrame'>\n",
      "RangeIndex: 891 entries, 0 to 890\n",
      "Data columns (total 12 columns):\n",
      " #   Column       Non-Null Count  Dtype  \n",
      "---  ------       --------------  -----  \n",
      " 0   PassengerId  891 non-null    int64  \n",
      " 1   Survived     891 non-null    int64  \n",
      " 2   Pclass       891 non-null    int64  \n",
      " 3   Name         891 non-null    object \n",
      " 4   Sex          891 non-null    object \n",
      " 5   Age          714 non-null    float64\n",
      " 6   SibSp        891 non-null    int64  \n",
      " 7   Parch        891 non-null    int64  \n",
      " 8   Ticket       891 non-null    object \n",
      " 9   Fare         891 non-null    float64\n",
      " 10  Cabin        204 non-null    object \n",
      " 11  Embarked     889 non-null    object \n",
      "dtypes: float64(2), int64(5), object(5)\n",
      "memory usage: 83.7+ KB\n"
     ]
    }
   ],
   "source": [
    "train.info()"
   ]
  },
  {
   "cell_type": "markdown",
   "metadata": {
    "papermill": {
     "duration": 0.049307,
     "end_time": "2021-02-16T18:12:25.857151",
     "exception": false,
     "start_time": "2021-02-16T18:12:25.807844",
     "status": "completed"
    },
    "tags": []
   },
   "source": [
    "### **Entendendo os tipos de Variáveis de cada coluna**\n",
    "\n",
    "**Variáveis categóricas:** Name, Sex, Ticket, Cabin, Embarked\n",
    "\n",
    "**Variáveis numéricas:** PassengerId, Survived, PClass, Age, SibSp, Parch, Fare\n",
    "\n",
    "O dataset de treino possui 12 colunas e 891 linhas, enquanto o dataset de teste possui 11 colunas e 418 linhas. A coluna a menos é a coluna alvo, Survived, que é o o bjetivo da competição: prever a sobrevivência dos passageiros do dataset test.\n",
    "\n",
    "Notamos que a quantidade de dados não-nulos nas colunas são diferentes, isso significa que futuramente precisaremos tomar uma decisão em relação a eles."
   ]
  },
  {
   "cell_type": "markdown",
   "metadata": {
    "papermill": {
     "duration": 0.048525,
     "end_time": "2021-02-16T18:12:25.954753",
     "exception": false,
     "start_time": "2021-02-16T18:12:25.906228",
     "status": "completed"
    },
    "tags": []
   },
   "source": [
    "## **2.2 - Entendendo os dados faltantes**"
   ]
  },
  {
   "cell_type": "code",
   "execution_count": 7,
   "metadata": {
    "execution": {
     "iopub.execute_input": "2021-02-16T18:12:26.060512Z",
     "iopub.status.busy": "2021-02-16T18:12:26.059876Z",
     "iopub.status.idle": "2021-02-16T18:12:26.065209Z",
     "shell.execute_reply": "2021-02-16T18:12:26.064574Z"
    },
    "papermill": {
     "duration": 0.062237,
     "end_time": "2021-02-16T18:12:26.065328",
     "exception": false,
     "start_time": "2021-02-16T18:12:26.003091",
     "status": "completed"
    },
    "tags": []
   },
   "outputs": [
    {
     "data": {
      "text/plain": [
       "PassengerId      0\n",
       "Survived         0\n",
       "Pclass           0\n",
       "Name             0\n",
       "Sex              0\n",
       "Age            177\n",
       "SibSp            0\n",
       "Parch            0\n",
       "Ticket           0\n",
       "Fare             0\n",
       "Cabin          687\n",
       "Embarked         2\n",
       "dtype: int64"
      ]
     },
     "execution_count": 7,
     "metadata": {},
     "output_type": "execute_result"
    }
   ],
   "source": [
    "train.isna().sum() #vemos que qa colunas Age, Cabin e Embarked possuem dados faltantes, mas o quanto isso representa do total?"
   ]
  },
  {
   "cell_type": "code",
   "execution_count": 8,
   "metadata": {
    "execution": {
     "iopub.execute_input": "2021-02-16T18:12:26.171822Z",
     "iopub.status.busy": "2021-02-16T18:12:26.170917Z",
     "iopub.status.idle": "2021-02-16T18:12:26.193902Z",
     "shell.execute_reply": "2021-02-16T18:12:26.194503Z"
    },
    "papermill": {
     "duration": 0.079872,
     "end_time": "2021-02-16T18:12:26.194678",
     "exception": false,
     "start_time": "2021-02-16T18:12:26.114806",
     "status": "completed"
    },
    "tags": []
   },
   "outputs": [
    {
     "data": {
      "text/plain": [
       "Cabin          77.104377\n",
       "Age            19.865320\n",
       "Embarked        0.224467\n",
       "Fare            0.000000\n",
       "Ticket          0.000000\n",
       "Parch           0.000000\n",
       "SibSp           0.000000\n",
       "Sex             0.000000\n",
       "Name            0.000000\n",
       "Pclass          0.000000\n",
       "Survived        0.000000\n",
       "PassengerId     0.000000\n",
       "dtype: float64"
      ]
     },
     "execution_count": 8,
     "metadata": {},
     "output_type": "execute_result"
    }
   ],
   "source": [
    "# Em porcentagem\n",
    "((train.isna().sum()/train.shape[0]).sort_values(ascending=False)) *100"
   ]
  },
  {
   "cell_type": "markdown",
   "metadata": {
    "papermill": {
     "duration": 0.050735,
     "end_time": "2021-02-16T18:12:26.296398",
     "exception": false,
     "start_time": "2021-02-16T18:12:26.245663",
     "status": "completed"
    },
    "tags": []
   },
   "source": [
    "**A variável Cabin tem 77% dos dados faltando, a Age 19,86% e a Embarked apenas 0,22%. Na Seção 3 trataremos esses dados faltantes.**"
   ]
  },
  {
   "cell_type": "markdown",
   "metadata": {
    "papermill": {
     "duration": 0.049806,
     "end_time": "2021-02-16T18:12:26.396173",
     "exception": false,
     "start_time": "2021-02-16T18:12:26.346367",
     "status": "completed"
    },
    "tags": []
   },
   "source": [
    "## **2.3 - Entendendo a Distribuição dos dados**\n",
    "\n",
    "Iremos agora ter uma ideia de média, mediana, quartis das variáveis numéricas do dataset train.\n",
    "\n",
    "    \n"
   ]
  },
  {
   "cell_type": "code",
   "execution_count": 9,
   "metadata": {
    "execution": {
     "iopub.execute_input": "2021-02-16T18:12:26.500195Z",
     "iopub.status.busy": "2021-02-16T18:12:26.499441Z",
     "iopub.status.idle": "2021-02-16T18:12:26.534439Z",
     "shell.execute_reply": "2021-02-16T18:12:26.533769Z"
    },
    "papermill": {
     "duration": 0.088286,
     "end_time": "2021-02-16T18:12:26.534575",
     "exception": false,
     "start_time": "2021-02-16T18:12:26.446289",
     "status": "completed"
    },
    "tags": []
   },
   "outputs": [
    {
     "data": {
      "text/html": [
       "<div>\n",
       "<style scoped>\n",
       "    .dataframe tbody tr th:only-of-type {\n",
       "        vertical-align: middle;\n",
       "    }\n",
       "\n",
       "    .dataframe tbody tr th {\n",
       "        vertical-align: top;\n",
       "    }\n",
       "\n",
       "    .dataframe thead th {\n",
       "        text-align: right;\n",
       "    }\n",
       "</style>\n",
       "<table border=\"1\" class=\"dataframe\">\n",
       "  <thead>\n",
       "    <tr style=\"text-align: right;\">\n",
       "      <th></th>\n",
       "      <th>PassengerId</th>\n",
       "      <th>Survived</th>\n",
       "      <th>Pclass</th>\n",
       "      <th>Age</th>\n",
       "      <th>SibSp</th>\n",
       "      <th>Parch</th>\n",
       "      <th>Fare</th>\n",
       "    </tr>\n",
       "  </thead>\n",
       "  <tbody>\n",
       "    <tr>\n",
       "      <th>count</th>\n",
       "      <td>891.000000</td>\n",
       "      <td>891.000000</td>\n",
       "      <td>891.000000</td>\n",
       "      <td>714.000000</td>\n",
       "      <td>891.000000</td>\n",
       "      <td>891.000000</td>\n",
       "      <td>891.000000</td>\n",
       "    </tr>\n",
       "    <tr>\n",
       "      <th>mean</th>\n",
       "      <td>446.000000</td>\n",
       "      <td>0.383838</td>\n",
       "      <td>2.308642</td>\n",
       "      <td>29.699118</td>\n",
       "      <td>0.523008</td>\n",
       "      <td>0.381594</td>\n",
       "      <td>32.204208</td>\n",
       "    </tr>\n",
       "    <tr>\n",
       "      <th>std</th>\n",
       "      <td>257.353842</td>\n",
       "      <td>0.486592</td>\n",
       "      <td>0.836071</td>\n",
       "      <td>14.526497</td>\n",
       "      <td>1.102743</td>\n",
       "      <td>0.806057</td>\n",
       "      <td>49.693429</td>\n",
       "    </tr>\n",
       "    <tr>\n",
       "      <th>min</th>\n",
       "      <td>1.000000</td>\n",
       "      <td>0.000000</td>\n",
       "      <td>1.000000</td>\n",
       "      <td>0.420000</td>\n",
       "      <td>0.000000</td>\n",
       "      <td>0.000000</td>\n",
       "      <td>0.000000</td>\n",
       "    </tr>\n",
       "    <tr>\n",
       "      <th>25%</th>\n",
       "      <td>223.500000</td>\n",
       "      <td>0.000000</td>\n",
       "      <td>2.000000</td>\n",
       "      <td>20.125000</td>\n",
       "      <td>0.000000</td>\n",
       "      <td>0.000000</td>\n",
       "      <td>7.910400</td>\n",
       "    </tr>\n",
       "    <tr>\n",
       "      <th>50%</th>\n",
       "      <td>446.000000</td>\n",
       "      <td>0.000000</td>\n",
       "      <td>3.000000</td>\n",
       "      <td>28.000000</td>\n",
       "      <td>0.000000</td>\n",
       "      <td>0.000000</td>\n",
       "      <td>14.454200</td>\n",
       "    </tr>\n",
       "    <tr>\n",
       "      <th>75%</th>\n",
       "      <td>668.500000</td>\n",
       "      <td>1.000000</td>\n",
       "      <td>3.000000</td>\n",
       "      <td>38.000000</td>\n",
       "      <td>1.000000</td>\n",
       "      <td>0.000000</td>\n",
       "      <td>31.000000</td>\n",
       "    </tr>\n",
       "    <tr>\n",
       "      <th>max</th>\n",
       "      <td>891.000000</td>\n",
       "      <td>1.000000</td>\n",
       "      <td>3.000000</td>\n",
       "      <td>80.000000</td>\n",
       "      <td>8.000000</td>\n",
       "      <td>6.000000</td>\n",
       "      <td>512.329200</td>\n",
       "    </tr>\n",
       "  </tbody>\n",
       "</table>\n",
       "</div>"
      ],
      "text/plain": [
       "       PassengerId    Survived      Pclass         Age       SibSp  \\\n",
       "count   891.000000  891.000000  891.000000  714.000000  891.000000   \n",
       "mean    446.000000    0.383838    2.308642   29.699118    0.523008   \n",
       "std     257.353842    0.486592    0.836071   14.526497    1.102743   \n",
       "min       1.000000    0.000000    1.000000    0.420000    0.000000   \n",
       "25%     223.500000    0.000000    2.000000   20.125000    0.000000   \n",
       "50%     446.000000    0.000000    3.000000   28.000000    0.000000   \n",
       "75%     668.500000    1.000000    3.000000   38.000000    1.000000   \n",
       "max     891.000000    1.000000    3.000000   80.000000    8.000000   \n",
       "\n",
       "            Parch        Fare  \n",
       "count  891.000000  891.000000  \n",
       "mean     0.381594   32.204208  \n",
       "std      0.806057   49.693429  \n",
       "min      0.000000    0.000000  \n",
       "25%      0.000000    7.910400  \n",
       "50%      0.000000   14.454200  \n",
       "75%      0.000000   31.000000  \n",
       "max      6.000000  512.329200  "
      ]
     },
     "execution_count": 9,
     "metadata": {},
     "output_type": "execute_result"
    }
   ],
   "source": [
    "train.describe()"
   ]
  },
  {
   "cell_type": "markdown",
   "metadata": {
    "papermill": {
     "duration": 0.049707,
     "end_time": "2021-02-16T18:12:26.633826",
     "exception": false,
     "start_time": "2021-02-16T18:12:26.584119",
     "status": "completed"
    },
    "tags": []
   },
   "source": [
    "A média de idade foi de de 29,6 anos com 20% dos passageiros abaixo dos 21 anos e 25 %acima dos 38 anos. O passageiro com  mais idade na viagem tinha 80 anos!\n",
    "\n",
    "Sobre o valor monetário das passagens: variaram entre 0 e 512, talvez o 0 seja referente aos tripulantes; 75% dos passageiros pagaram valor igual ou menor a 31 e os outros 25% pagaram entre 31 e 512. Valores provavelmente relacionados as classes.\n",
    "\n",
    "Mais de 75% não viajaram como pais e filhos e mais da metade do passageiros não tinham parentes ou cônjuge a bordo.\n",
    "\n",
    "Menos de 25% dos passageiros viajaram na 1ªClasse e mais de 50% dos passageiros viajaram na 3ªclasse."
   ]
  },
  {
   "cell_type": "markdown",
   "metadata": {
    "papermill": {
     "duration": 0.066892,
     "end_time": "2021-02-16T18:12:26.763930",
     "exception": false,
     "start_time": "2021-02-16T18:12:26.697038",
     "status": "completed"
    },
    "tags": []
   },
   "source": [
    "## **2.4 - Visualização dos Dados**"
   ]
  },
  {
   "cell_type": "code",
   "execution_count": 10,
   "metadata": {
    "execution": {
     "iopub.execute_input": "2021-02-16T18:12:26.875101Z",
     "iopub.status.busy": "2021-02-16T18:12:26.874284Z",
     "iopub.status.idle": "2021-02-16T18:12:28.276912Z",
     "shell.execute_reply": "2021-02-16T18:12:28.276102Z"
    },
    "papermill": {
     "duration": 1.459076,
     "end_time": "2021-02-16T18:12:28.277038",
     "exception": false,
     "start_time": "2021-02-16T18:12:26.817962",
     "status": "completed"
    },
    "tags": []
   },
   "outputs": [
    {
     "data": {
      "text/plain": [
       "array([[<matplotlib.axes._subplots.AxesSubplot object at 0x7f3f22327f50>,\n",
       "        <matplotlib.axes._subplots.AxesSubplot object at 0x7f3f20121390>,\n",
       "        <matplotlib.axes._subplots.AxesSubplot object at 0x7f3f200e6e90>],\n",
       "       [<matplotlib.axes._subplots.AxesSubplot object at 0x7f3f200a6550>,\n",
       "        <matplotlib.axes._subplots.AxesSubplot object at 0x7f3f20059bd0>,\n",
       "        <matplotlib.axes._subplots.AxesSubplot object at 0x7f3f2001c290>],\n",
       "       [<matplotlib.axes._subplots.AxesSubplot object at 0x7f3f1ffd2990>,\n",
       "        <matplotlib.axes._subplots.AxesSubplot object at 0x7f3f20008f90>,\n",
       "        <matplotlib.axes._subplots.AxesSubplot object at 0x7f3f1ff95050>]],\n",
       "      dtype=object)"
      ]
     },
     "execution_count": 10,
     "metadata": {},
     "output_type": "execute_result"
    },
    {
     "data": {
      "image/png": "[encoded data removed]",
      "text/plain": [
       "<Figure size 1440x1152 with 9 Axes>"
      ]
     },
     "metadata": {
      "needs_background": "light"
     },
     "output_type": "display_data"
    }
   ],
   "source": [
    "#histograma das variáveis numéricas\n",
    "train.hist(figsize=(20,16))"
   ]
  },
  {
   "cell_type": "markdown",
   "metadata": {
    "papermill": {
     "duration": 0.052597,
     "end_time": "2021-02-16T18:12:28.382649",
     "exception": false,
     "start_time": "2021-02-16T18:12:28.330052",
     "status": "completed"
    },
    "tags": []
   },
   "source": [
    "Podemos concluir ao analisar os gráficos que:\n",
    "- Visualmente a chance de não sobreviver é maior do que a de sobreviver.\n",
    "- Há mais pessoas na 3ª classe que nas demais juntas, talvez nesse número deva estar incluso os tripulantes.\n",
    "- Há bastante passageiros entre 20 e 50 anos. Será que isso influência na taxa de sobrevivência?\n",
    "- A maioria das pessoas estão viajando sozinhas, ou seja, sem parentes ou conjuge. Será que estar acompanhados parentes ou conjuge aumenta a chance de sobrevivência.\n",
    "-Como a maioria é de 3ªClasse é esperado um pagamento menor no valor da passagem, assim como os membros da tripulação devem ter pago $0.\n",
    "\n",
    "A seguir iremos detalhar os dados dos gráficos acima e responder essas questões visualmente."
   ]
  },
  {
   "cell_type": "markdown",
   "metadata": {
    "papermill": {
     "duration": 0.051792,
     "end_time": "2021-02-16T18:12:28.486235",
     "exception": false,
     "start_time": "2021-02-16T18:12:28.434443",
     "status": "completed"
    },
    "tags": []
   },
   "source": [
    "### **2.4.1 - Sobreviventes**\n",
    "\n",
    "Qual o número de sobreviventes do Titanic? Qual a taxa de sobreviventes sem levar em conta outros fatores?\n",
    "\n",
    "Se você tivesse feito a viagem do Titanic qual seria sua chance de sobreviver?\n",
    "É o que vamos descobrir baseado-se nos dados do dataset train."
   ]
  },
  {
   "cell_type": "code",
   "execution_count": 11,
   "metadata": {
    "execution": {
     "iopub.execute_input": "2021-02-16T18:12:28.602237Z",
     "iopub.status.busy": "2021-02-16T18:12:28.601510Z",
     "iopub.status.idle": "2021-02-16T18:12:28.618603Z",
     "shell.execute_reply": "2021-02-16T18:12:28.617920Z"
    },
    "papermill": {
     "duration": 0.08002,
     "end_time": "2021-02-16T18:12:28.618720",
     "exception": false,
     "start_time": "2021-02-16T18:12:28.538700",
     "status": "completed"
    },
    "tags": []
   },
   "outputs": [
    {
     "data": {
      "text/html": [
       "<div>\n",
       "<style scoped>\n",
       "    .dataframe tbody tr th:only-of-type {\n",
       "        vertical-align: middle;\n",
       "    }\n",
       "\n",
       "    .dataframe tbody tr th {\n",
       "        vertical-align: top;\n",
       "    }\n",
       "\n",
       "    .dataframe thead th {\n",
       "        text-align: right;\n",
       "    }\n",
       "</style>\n",
       "<table border=\"1\" class=\"dataframe\">\n",
       "  <thead>\n",
       "    <tr style=\"text-align: right;\">\n",
       "      <th></th>\n",
       "      <th>Contagem</th>\n",
       "      <th>Taxa de Sobrevivência(%)</th>\n",
       "    </tr>\n",
       "  </thead>\n",
       "  <tbody>\n",
       "    <tr>\n",
       "      <th>Não Sobreviventes</th>\n",
       "      <td>549</td>\n",
       "      <td>61.6</td>\n",
       "    </tr>\n",
       "    <tr>\n",
       "      <th>Sobreviventes</th>\n",
       "      <td>342</td>\n",
       "      <td>38.4</td>\n",
       "    </tr>\n",
       "  </tbody>\n",
       "</table>\n",
       "</div>"
      ],
      "text/plain": [
       "                   Contagem  Taxa de Sobrevivência(%)\n",
       "Não Sobreviventes       549                      61.6\n",
       "Sobreviventes           342                      38.4"
      ]
     },
     "execution_count": 11,
     "metadata": {},
     "output_type": "execute_result"
    }
   ],
   "source": [
    "#definindo os dados que aparecerão no gráfico\n",
    "\n",
    "labels = ['Não Sobreviventes', \"Sobreviventes\"] \n",
    "\n",
    "contagem = pd.cut(x=train.Survived, bins=2,labels= labels, include_lowest=True).value_counts() #nº de sobreviventes\n",
    "\n",
    "taxa_de_sobreviventes = (pd.value_counts(pd.cut(x=train.Survived, bins=2,labels= labels, \n",
    "                                                include_lowest=True),normalize=True) * 100).round(1) #taxa de Sobreviventes\n",
    "quant_sobrevi = pd.DataFrame({\"Contagem\":contagem, \n",
    "                              'Taxa de Sobrevivência(%)':taxa_de_sobreviventes}) #criando um DataFrame para facilitar a visualização dos dados\n",
    "                              \n",
    "quant_sobrevi"
   ]
  },
  {
   "cell_type": "code",
   "execution_count": 12,
   "metadata": {
    "execution": {
     "iopub.execute_input": "2021-02-16T18:12:28.741448Z",
     "iopub.status.busy": "2021-02-16T18:12:28.740056Z",
     "iopub.status.idle": "2021-02-16T18:12:28.822826Z",
     "shell.execute_reply": "2021-02-16T18:12:28.822071Z"
    },
    "papermill": {
     "duration": 0.151225,
     "end_time": "2021-02-16T18:12:28.822943",
     "exception": false,
     "start_time": "2021-02-16T18:12:28.671718",
     "status": "completed"
    },
    "tags": []
   },
   "outputs": [
    {
     "data": {
      "text/plain": [
       "Text(0.5, 1.0, 'Taxa de Sobreviventes do Titanic')"
      ]
     },
     "execution_count": 12,
     "metadata": {},
     "output_type": "execute_result"
    },
    {
     "data": {
      "image/png": "[encoded data removed]",
      "text/plain": [
       "<Figure size 720x576 with 1 Axes>"
      ]
     },
     "metadata": {},
     "output_type": "display_data"
    }
   ],
   "source": [
    "plt.figure(figsize=(10,8))\n",
    "\n",
    "plt.rcParams['font.sans-serif'] = 'Arial'\n",
    "plt.rcParams['font.family'] = 'sans-serif'\n",
    "plt.rcParams['text.color'] = 'gray'\n",
    "plt.rcParams['axes.labelcolor']= 'gray'\n",
    "plt.rcParams['xtick.color'] = 'gray'\n",
    "plt.rcParams['ytick.color'] = 'gray'\n",
    "plt.rcParams['font.size']=15\n",
    "\n",
    "\n",
    "cores= ['#009ACD', '#ADD8E6']\n",
    "percentages = list(quant_sobrevi['Taxa de Sobrevivência(%)'])\n",
    "explode=(0.1,0)\n",
    "\n",
    "plt.pie(percentages, explode=explode, \n",
    "       labels=labels,\n",
    "       colors = cores,\n",
    "       autopct='%1.0f%%',\n",
    "       shadow=True, startangle=0,   \n",
    "       pctdistance=0.5,labeldistance=1.1)\n",
    "plt.title(\"Taxa de Sobreviventes do Titanic\", fontsize=20, pad=20)"
   ]
  },
  {
   "cell_type": "markdown",
   "metadata": {
    "papermill": {
     "duration": 0.053674,
     "end_time": "2021-02-16T18:12:28.931486",
     "exception": false,
     "start_time": "2021-02-16T18:12:28.877812",
     "status": "completed"
    },
    "tags": []
   },
   "source": [
    "Infelizmente a maioria dos passageiros não sobreviveram.\n",
    "Se você estivesse lá a chance de ter sobrevivido seria de aproximadamente de 38%. \n",
    "\n",
    "**Mas será que essa chance foi a mesma para todos a bordo?** \n",
    "\n",
    "**Algum grupo foi privilegiado?**  É o que vamos investigar nas próximas seções!"
   ]
  },
  {
   "cell_type": "markdown",
   "metadata": {
    "papermill": {
     "duration": 0.053711,
     "end_time": "2021-02-16T18:12:29.038615",
     "exception": false,
     "start_time": "2021-02-16T18:12:28.984904",
     "status": "completed"
    },
    "tags": []
   },
   "source": [
    "### **2.4.2 - Sobrevivência por Sexo**\n",
    "\n",
    "Vimos na seção anterior que no geral a taxa de sobrevivência está em torno de 40%. \n",
    "Será que esse valor foi o mesmo tanto para  o sexo masculino quanto para o sexo feminino? "
   ]
  },
  {
   "cell_type": "code",
   "execution_count": 13,
   "metadata": {
    "execution": {
     "iopub.execute_input": "2021-02-16T18:12:29.167633Z",
     "iopub.status.busy": "2021-02-16T18:12:29.166819Z",
     "iopub.status.idle": "2021-02-16T18:12:29.171618Z",
     "shell.execute_reply": "2021-02-16T18:12:29.170904Z"
    },
    "papermill": {
     "duration": 0.079655,
     "end_time": "2021-02-16T18:12:29.171738",
     "exception": false,
     "start_time": "2021-02-16T18:12:29.092083",
     "status": "completed"
    },
    "tags": []
   },
   "outputs": [
    {
     "data": {
      "text/html": [
       "<div>\n",
       "<style scoped>\n",
       "    .dataframe tbody tr th:only-of-type {\n",
       "        vertical-align: middle;\n",
       "    }\n",
       "\n",
       "    .dataframe tbody tr th {\n",
       "        vertical-align: top;\n",
       "    }\n",
       "\n",
       "    .dataframe thead th {\n",
       "        text-align: right;\n",
       "    }\n",
       "</style>\n",
       "<table border=\"1\" class=\"dataframe\">\n",
       "  <thead>\n",
       "    <tr style=\"text-align: right;\">\n",
       "      <th></th>\n",
       "      <th>Sex</th>\n",
       "      <th>Sex em %</th>\n",
       "      <th>Nº Sobreviventes por Sexo</th>\n",
       "      <th>Taxa de Sobreviventes por Sexo em %</th>\n",
       "    </tr>\n",
       "  </thead>\n",
       "  <tbody>\n",
       "    <tr>\n",
       "      <th>male</th>\n",
       "      <td>577</td>\n",
       "      <td>64.76</td>\n",
       "      <td>109</td>\n",
       "      <td>18.89</td>\n",
       "    </tr>\n",
       "    <tr>\n",
       "      <th>female</th>\n",
       "      <td>314</td>\n",
       "      <td>35.24</td>\n",
       "      <td>233</td>\n",
       "      <td>74.20</td>\n",
       "    </tr>\n",
       "  </tbody>\n",
       "</table>\n",
       "</div>"
      ],
      "text/plain": [
       "        Sex  Sex em %  Nº Sobreviventes por Sexo  \\\n",
       "male    577     64.76                        109   \n",
       "female  314     35.24                        233   \n",
       "\n",
       "        Taxa de Sobreviventes por Sexo em %  \n",
       "male                                  18.89  \n",
       "female                                74.20  "
      ]
     },
     "execution_count": 13,
     "metadata": {},
     "output_type": "execute_result"
    }
   ],
   "source": [
    "#Quantidade de pessoas por sexo\n",
    "quant_sex=pd.DataFrame(train['Sex'].value_counts())\n",
    "quant_sex['Sex em %'] = (quant_sex/(quant_sex.Sex.sum()) *100).round(2)\n",
    "quant_sex['Nº Sobreviventes por Sexo']= train.groupby('Sex')['Survived'].sum()\n",
    "quant_sex['Taxa de Sobreviventes por Sexo em %'] = (quant_sex['Nº Sobreviventes por Sexo']/quant_sex['Sex'] *100).round(2)\n",
    "\n",
    "quant_sex"
   ]
  },
  {
   "cell_type": "code",
   "execution_count": 14,
   "metadata": {
    "execution": {
     "iopub.execute_input": "2021-02-16T18:12:29.302737Z",
     "iopub.status.busy": "2021-02-16T18:12:29.301337Z",
     "iopub.status.idle": "2021-02-16T18:12:29.583781Z",
     "shell.execute_reply": "2021-02-16T18:12:29.583216Z"
    },
    "papermill": {
     "duration": 0.357737,
     "end_time": "2021-02-16T18:12:29.583903",
     "exception": false,
     "start_time": "2021-02-16T18:12:29.226166",
     "status": "completed"
    },
    "tags": []
   },
   "outputs": [
    {
     "data": {
      "image/png": "[encoded data removed]",
      "text/plain": [
       "<Figure size 1440x576 with 2 Axes>"
      ]
     },
     "metadata": {
      "needs_background": "dark"
     },
     "output_type": "display_data"
    },
    {
     "data": {
      "text/plain": [
       "<Figure size 720x576 with 0 Axes>"
      ]
     },
     "metadata": {},
     "output_type": "display_data"
    },
    {
     "data": {
      "text/plain": [
       "<Figure size 720x576 with 0 Axes>"
      ]
     },
     "metadata": {},
     "output_type": "display_data"
    }
   ],
   "source": [
    "fig, (axis1, axis2) = plt.subplots(1,2, figsize=(20,8))\n",
    "\n",
    "plt.rcParams['font.sans-serif'] = 'Arial'\n",
    "plt.rcParams['font.family'] = 'sans-serif'\n",
    "plt.rcParams['text.color'] = 'black'\n",
    "plt.rcParams['axes.labelcolor']= 'black'\n",
    "plt.rcParams['xtick.color'] = 'black'\n",
    "plt.rcParams['ytick.color'] = 'black'\n",
    "plt.rcParams['font.size']=15\n",
    "\n",
    "plt.figure(figsize=(10,8))\n",
    "ax = sns.barplot(x=quant_sex.index, y=\"Sex em %\", data=quant_sex, ax=axis1, palette = 'Blues_r')\n",
    "ax.set_title(\"Percentual de Passageiros a Bordo por Sexo\", fontsize=20,pad=20)\n",
    "ax.set_xlabel('Sexo', fontsize=15)\n",
    "ax.set_ylabel('Percentual de Passageiros', fontsize=15)\n",
    "ax.set_xticklabels(labels=['Masculino', 'Feminino'])\n",
    "plt.tight_layout()\n",
    "\n",
    "\n",
    "\n",
    "plt.figure(figsize=(10,8))\n",
    "ax = sns.barplot(x=quant_sex.index, y='Taxa de Sobreviventes por Sexo em %', data=quant_sex, ax=axis2, palette = 'Blues_r')\n",
    "ax.set_title(\"Percentual de Sobreviventes por Sexo\", fontsize=20,pad=20)\n",
    "ax.set_xlabel('Sexo', fontsize=15)\n",
    "ax.set_ylabel('Taxa de Sobreviventes em %', fontsize=15)\n",
    "ax.set_xticklabels(labels=['Masculino', 'Feminino'])\n",
    "plt.tight_layout()\n"
   ]
  },
  {
   "cell_type": "markdown",
   "metadata": {
    "papermill": {
     "duration": 0.057428,
     "end_time": "2021-02-16T18:12:29.699720",
     "exception": false,
     "start_time": "2021-02-16T18:12:29.642292",
     "status": "completed"
    },
    "tags": []
   },
   "source": [
    "No navio 65% dos passageiros eram  do sexo masculino e 35%  do sexo feminino, uma relação de aproximadamente 2 para 1.\n",
    "\n",
    "No entanto a taxa de sobreviventes no Sexo Feminino foi próxima dos 75% enquanto do Sexo Masculino foi de 20%.\n",
    "\n",
    "Isso sugere que as mulheres tiveram 2,5 vezes mais chances de sobreviverem ao desastre do Titanic do que os homens."
   ]
  },
  {
   "cell_type": "markdown",
   "metadata": {
    "papermill": {
     "duration": 0.057233,
     "end_time": "2021-02-16T18:12:29.814583",
     "exception": false,
     "start_time": "2021-02-16T18:12:29.757350",
     "status": "completed"
    },
    "tags": []
   },
   "source": [
    "### **2.4.3 - Sobreviventes por Classe**\n",
    "\n",
    "O Navio estava dividido em 3 Classes que provavelmente estão relacionadas o poder aquisitivo dos passageiros. \n",
    "Isso também influênciou na arquitetura e layout do navio pois as classes tinham localizações diferentes como pode ser visto neste artigo: [Titanic a fundo.](https://https://titanicosemacao.wordpress.com/2012/03/10/titanic-a-fundo/)\n",
    "\n",
    "Alguma classe teria tido maiores chances de sobrevivência?"
   ]
  },
  {
   "cell_type": "code",
   "execution_count": 15,
   "metadata": {
    "execution": {
     "iopub.execute_input": "2021-02-16T18:12:29.945045Z",
     "iopub.status.busy": "2021-02-16T18:12:29.944010Z",
     "iopub.status.idle": "2021-02-16T18:12:29.955371Z",
     "shell.execute_reply": "2021-02-16T18:12:29.954837Z"
    },
    "papermill": {
     "duration": 0.083474,
     "end_time": "2021-02-16T18:12:29.955492",
     "exception": false,
     "start_time": "2021-02-16T18:12:29.872018",
     "status": "completed"
    },
    "tags": []
   },
   "outputs": [
    {
     "data": {
      "text/html": [
       "<div>\n",
       "<style scoped>\n",
       "    .dataframe tbody tr th:only-of-type {\n",
       "        vertical-align: middle;\n",
       "    }\n",
       "\n",
       "    .dataframe tbody tr th {\n",
       "        vertical-align: top;\n",
       "    }\n",
       "\n",
       "    .dataframe thead th {\n",
       "        text-align: right;\n",
       "    }\n",
       "</style>\n",
       "<table border=\"1\" class=\"dataframe\">\n",
       "  <thead>\n",
       "    <tr style=\"text-align: right;\">\n",
       "      <th></th>\n",
       "      <th>Pclass</th>\n",
       "      <th>% de passageiros por Classe</th>\n",
       "      <th>Nº de sobreviventes por Classe</th>\n",
       "      <th>Taxa de Sobreviventes por Classe em %</th>\n",
       "    </tr>\n",
       "  </thead>\n",
       "  <tbody>\n",
       "    <tr>\n",
       "      <th>3</th>\n",
       "      <td>491</td>\n",
       "      <td>55.11</td>\n",
       "      <td>119</td>\n",
       "      <td>24.24</td>\n",
       "    </tr>\n",
       "    <tr>\n",
       "      <th>1</th>\n",
       "      <td>216</td>\n",
       "      <td>24.24</td>\n",
       "      <td>136</td>\n",
       "      <td>62.96</td>\n",
       "    </tr>\n",
       "    <tr>\n",
       "      <th>2</th>\n",
       "      <td>184</td>\n",
       "      <td>20.65</td>\n",
       "      <td>87</td>\n",
       "      <td>47.28</td>\n",
       "    </tr>\n",
       "  </tbody>\n",
       "</table>\n",
       "</div>"
      ],
      "text/plain": [
       "   Pclass  % de passageiros por Classe  Nº de sobreviventes por Classe  \\\n",
       "3     491                        55.11                             119   \n",
       "1     216                        24.24                             136   \n",
       "2     184                        20.65                              87   \n",
       "\n",
       "   Taxa de Sobreviventes por Classe em %  \n",
       "3                                  24.24  \n",
       "1                                  62.96  \n",
       "2                                  47.28  "
      ]
     },
     "execution_count": 15,
     "metadata": {},
     "output_type": "execute_result"
    }
   ],
   "source": [
    "quant_class = pd.DataFrame(train.Pclass.value_counts()) #Quantidade por Classe\n",
    "\n",
    "quant_class['% de passageiros por Classe']= np.round(((quant_class['Pclass']/train.shape[0])*100),2)\n",
    "\n",
    "quant_class['Nº de sobreviventes por Classe'] = train.groupby('Pclass')['Survived'].sum()\n",
    "\n",
    "quant_class['Taxa de Sobreviventes por Classe em %'] = (quant_class['Nº de sobreviventes por Classe']/quant_class['Pclass'] *100).round(2)\n",
    "\n",
    "quant_class"
   ]
  },
  {
   "cell_type": "code",
   "execution_count": 16,
   "metadata": {
    "execution": {
     "iopub.execute_input": "2021-02-16T18:12:30.087125Z",
     "iopub.status.busy": "2021-02-16T18:12:30.081994Z",
     "iopub.status.idle": "2021-02-16T18:12:30.362394Z",
     "shell.execute_reply": "2021-02-16T18:12:30.361820Z"
    },
    "papermill": {
     "duration": 0.349295,
     "end_time": "2021-02-16T18:12:30.362509",
     "exception": false,
     "start_time": "2021-02-16T18:12:30.013214",
     "status": "completed"
    },
    "tags": []
   },
   "outputs": [
    {
     "data": {
      "image/png": "[encoded data removed]",
      "text/plain": [
       "<Figure size 1440x576 with 2 Axes>"
      ]
     },
     "metadata": {
      "needs_background": "light"
     },
     "output_type": "display_data"
    },
    {
     "data": {
      "text/plain": [
       "<Figure size 720x576 with 0 Axes>"
      ]
     },
     "metadata": {},
     "output_type": "display_data"
    },
    {
     "data": {
      "text/plain": [
       "<Figure size 720x576 with 0 Axes>"
      ]
     },
     "metadata": {},
     "output_type": "display_data"
    }
   ],
   "source": [
    "fig, (axis1, axis2) = plt.subplots(1,2, figsize=(20,8))\n",
    "\n",
    "plt.figure(figsize=(10,8))\n",
    "ax = sns.barplot(x=quant_class.index, y='% de passageiros por Classe', data=quant_class,\n",
    "                 ax= axis1, palette='Greys')\n",
    "ax.set_xlabel('Classe', fontsize=15)\n",
    "ax.set_ylabel('Passageiros por Classe em %', fontsize=15)\n",
    "ax.set_title('Percentual de Passageiros por Classe', fontsize=20, pad=20 )\n",
    "plt.tight_layout()\n",
    "\n",
    "\n",
    "plt.figure(figsize=(10,8))\n",
    "ax = sns.barplot(x=quant_class.index, y='Taxa de Sobreviventes por Classe em %', data=quant_class,\n",
    "                 ax= axis2, palette='Greys')\n",
    "ax.set_xlabel('Classe', fontsize=15)\n",
    "ax.set_ylabel('Taxa de Sobreviventes em %', fontsize=15)\n",
    "ax.set_title('Relação de Sobreviventes por Classe', fontsize=20, pad=20 )\n",
    "plt.tight_layout()"
   ]
  },
  {
   "cell_type": "markdown",
   "metadata": {
    "papermill": {
     "duration": 0.059552,
     "end_time": "2021-02-16T18:12:30.482246",
     "exception": false,
     "start_time": "2021-02-16T18:12:30.422694",
     "status": "completed"
    },
    "tags": []
   },
   "source": [
    "A quantidade de passageiros da classe 3 é maior do que as classes 1 e 2 somadas, não obstante, estar na classe 1 teria 2,5 vezes mais chances de sobreviver do que quem estva alojado na classe 3.\n",
    "\n",
    "Já os passageiros da classe 2 tem 2 x mais chances de sobreviver aos da classe 1.\n",
    "\n",
    "Parece que ter viajado na classe 3 foi uma 'desvantagem' na hora de se salvar.\n",
    "\n",
    "Será que a distribuição de equipamentos de segurança levavam em conta, por algum motivo, a classe do passageiro? Ou talvez tais equipamentos estavam alojados nas proximidades das classes 1 e 2?\n"
   ]
  },
  {
   "cell_type": "markdown",
   "metadata": {
    "papermill": {
     "duration": 0.058677,
     "end_time": "2021-02-16T18:12:30.600114",
     "exception": false,
     "start_time": "2021-02-16T18:12:30.541437",
     "status": "completed"
    },
    "tags": []
   },
   "source": [
    "### **2.4.4 - Sobreviventes por Local de Embarque**\n",
    "\n",
    "Os passageiros e tripulantes do Titanic embarcaram em 3 portos diferentes, onde, **C é Cherbourg, Q é Queenstown, S é Southampton**.\n",
    "\n",
    "Houve alguma influência nas chances de sobrevivência de acordo com o local de embarque?"
   ]
  },
  {
   "cell_type": "code",
   "execution_count": 17,
   "metadata": {
    "execution": {
     "iopub.execute_input": "2021-02-16T18:12:30.742268Z",
     "iopub.status.busy": "2021-02-16T18:12:30.741204Z",
     "iopub.status.idle": "2021-02-16T18:12:30.746404Z",
     "shell.execute_reply": "2021-02-16T18:12:30.745756Z"
    },
    "papermill": {
     "duration": 0.086009,
     "end_time": "2021-02-16T18:12:30.746517",
     "exception": false,
     "start_time": "2021-02-16T18:12:30.660508",
     "status": "completed"
    },
    "tags": []
   },
   "outputs": [
    {
     "data": {
      "text/html": [
       "<div>\n",
       "<style scoped>\n",
       "    .dataframe tbody tr th:only-of-type {\n",
       "        vertical-align: middle;\n",
       "    }\n",
       "\n",
       "    .dataframe tbody tr th {\n",
       "        vertical-align: top;\n",
       "    }\n",
       "\n",
       "    .dataframe thead th {\n",
       "        text-align: right;\n",
       "    }\n",
       "</style>\n",
       "<table border=\"1\" class=\"dataframe\">\n",
       "  <thead>\n",
       "    <tr style=\"text-align: right;\">\n",
       "      <th></th>\n",
       "      <th>Embarked</th>\n",
       "      <th>% passageiros por local de Embarque</th>\n",
       "      <th>Nº de Sobreviventes por Local de Embarque</th>\n",
       "      <th>Taxa de Sobreviventes por Local em %</th>\n",
       "    </tr>\n",
       "  </thead>\n",
       "  <tbody>\n",
       "    <tr>\n",
       "      <th>S</th>\n",
       "      <td>644</td>\n",
       "      <td>72.28</td>\n",
       "      <td>217</td>\n",
       "      <td>33.70</td>\n",
       "    </tr>\n",
       "    <tr>\n",
       "      <th>C</th>\n",
       "      <td>168</td>\n",
       "      <td>18.86</td>\n",
       "      <td>93</td>\n",
       "      <td>55.36</td>\n",
       "    </tr>\n",
       "    <tr>\n",
       "      <th>Q</th>\n",
       "      <td>77</td>\n",
       "      <td>8.64</td>\n",
       "      <td>30</td>\n",
       "      <td>38.96</td>\n",
       "    </tr>\n",
       "  </tbody>\n",
       "</table>\n",
       "</div>"
      ],
      "text/plain": [
       "   Embarked  % passageiros por local de Embarque  \\\n",
       "S       644                                72.28   \n",
       "C       168                                18.86   \n",
       "Q        77                                 8.64   \n",
       "\n",
       "   Nº de Sobreviventes por Local de Embarque  \\\n",
       "S                                        217   \n",
       "C                                         93   \n",
       "Q                                         30   \n",
       "\n",
       "   Taxa de Sobreviventes por Local em %  \n",
       "S                                 33.70  \n",
       "C                                 55.36  \n",
       "Q                                 38.96  "
      ]
     },
     "execution_count": 17,
     "metadata": {},
     "output_type": "execute_result"
    }
   ],
   "source": [
    "quant_emb = pd.DataFrame(train.Embarked.value_counts()) #quantidade de pessoas que embarcaram em cada porto\n",
    "\n",
    "quant_emb['% passageiros por local de Embarque'] = (train.Embarked.value_counts()*100/train.shape[0]).round(2)\n",
    "\n",
    "quant_emb['Nº de Sobreviventes por Local de Embarque'] = train.groupby('Embarked')['Survived'].sum()\n",
    "\n",
    "quant_emb['Taxa de Sobreviventes por Local em %'] = (quant_emb['Nº de Sobreviventes por Local de Embarque']/quant_emb['Embarked'] *100).round(2).round(2)\n",
    "\n",
    "quant_emb"
   ]
  },
  {
   "cell_type": "code",
   "execution_count": 18,
   "metadata": {
    "execution": {
     "iopub.execute_input": "2021-02-16T18:12:30.885845Z",
     "iopub.status.busy": "2021-02-16T18:12:30.883502Z",
     "iopub.status.idle": "2021-02-16T18:12:31.162639Z",
     "shell.execute_reply": "2021-02-16T18:12:31.162035Z"
    },
    "papermill": {
     "duration": 0.356354,
     "end_time": "2021-02-16T18:12:31.162782",
     "exception": false,
     "start_time": "2021-02-16T18:12:30.806428",
     "status": "completed"
    },
    "tags": []
   },
   "outputs": [
    {
     "data": {
      "image/png": "[encoded data removed]",
      "text/plain": [
       "<Figure size 1440x576 with 2 Axes>"
      ]
     },
     "metadata": {
      "needs_background": "light"
     },
     "output_type": "display_data"
    },
    {
     "data": {
      "text/plain": [
       "<Figure size 720x576 with 0 Axes>"
      ]
     },
     "metadata": {},
     "output_type": "display_data"
    },
    {
     "data": {
      "text/plain": [
       "<Figure size 720x576 with 0 Axes>"
      ]
     },
     "metadata": {},
     "output_type": "display_data"
    }
   ],
   "source": [
    "fig, (axis1, axis2) = plt.subplots(1,2, figsize=(20,8))\n",
    "\n",
    "plt.figure(figsize=(10,8))\n",
    "ax = sns.barplot(x=quant_emb.index,y='% passageiros por local de Embarque',data=quant_emb, \n",
    "                 ax=axis1, palette='Greys_r' )\n",
    "\n",
    "ax.set_title(\"Percentual de passageiros por Local de Embarque\", fontsize=20,pad=20,)\n",
    "ax.set_xlabel('Local de Embarque', fontsize=15)\n",
    "ax.set_ylabel('Passageiros (%)', fontsize=15)\n",
    "plt.tight_layout()\n",
    "\n",
    "plt.figure(figsize=(10,8))\n",
    "ax = sns.barplot(x=quant_emb.index, y='Taxa de Sobreviventes por Local em %', data=quant_emb,\n",
    "                 ax= axis2, palette='Greys_r')\n",
    "ax.set_xlabel('Local de Embarque', fontsize=15)\n",
    "ax.set_ylabel('Taxa de Sobreviventes (%)', fontsize=15)\n",
    "ax.set_title('Relação de Sobreviventes por Local de Embarque', fontsize=20, pad=20 )\n",
    "plt.tight_layout()"
   ]
  },
  {
   "cell_type": "markdown",
   "metadata": {
    "papermill": {
     "duration": 0.061837,
     "end_time": "2021-02-16T18:12:31.286924",
     "exception": false,
     "start_time": "2021-02-16T18:12:31.225087",
     "status": "completed"
    },
    "tags": []
   },
   "source": [
    "Majoritariamente o embarque foi realizado em Southampton e é onde a taxa de sobrevivência é menor. Particularmente não acredito que o local de embarque esteja relacionado diretamente a taxa de mortes, isto é, suspeito que outros fatores já investigados anteriormente, possam te correlação como:\n",
    "- um maior número da Classe 3 embarcou em Southampton\n",
    "- os embarque dos tripulantes pode ter acontecido em Southpton\n",
    "- maior número de homens embarcado em Southpton.\n",
    "\n",
    "**Vamos investigar outros fatores em conjunto com o local de embarque para ver se minha desconfiança faz sentido e poserá ser explicada**.\n"
   ]
  },
  {
   "cell_type": "code",
   "execution_count": 19,
   "metadata": {
    "execution": {
     "iopub.execute_input": "2021-02-16T18:12:31.417924Z",
     "iopub.status.busy": "2021-02-16T18:12:31.417207Z",
     "iopub.status.idle": "2021-02-16T18:12:31.435924Z",
     "shell.execute_reply": "2021-02-16T18:12:31.435082Z"
    },
    "papermill": {
     "duration": 0.087311,
     "end_time": "2021-02-16T18:12:31.436068",
     "exception": false,
     "start_time": "2021-02-16T18:12:31.348757",
     "status": "completed"
    },
    "tags": []
   },
   "outputs": [
    {
     "data": {
      "text/html": [
       "<div>\n",
       "<style scoped>\n",
       "    .dataframe tbody tr th:only-of-type {\n",
       "        vertical-align: middle;\n",
       "    }\n",
       "\n",
       "    .dataframe tbody tr th {\n",
       "        vertical-align: top;\n",
       "    }\n",
       "\n",
       "    .dataframe thead tr th {\n",
       "        text-align: left;\n",
       "    }\n",
       "</style>\n",
       "<table border=\"1\" class=\"dataframe\">\n",
       "  <thead>\n",
       "    <tr>\n",
       "      <th>Embarked</th>\n",
       "      <th colspan=\"3\" halign=\"left\">C</th>\n",
       "      <th colspan=\"3\" halign=\"left\">Q</th>\n",
       "      <th colspan=\"3\" halign=\"left\">S</th>\n",
       "    </tr>\n",
       "    <tr>\n",
       "      <th>Pclass</th>\n",
       "      <th>1</th>\n",
       "      <th>3</th>\n",
       "      <th>2</th>\n",
       "      <th>3</th>\n",
       "      <th>2</th>\n",
       "      <th>1</th>\n",
       "      <th>3</th>\n",
       "      <th>2</th>\n",
       "      <th>1</th>\n",
       "    </tr>\n",
       "  </thead>\n",
       "  <tbody>\n",
       "    <tr>\n",
       "      <th>Pclass</th>\n",
       "      <td>85</td>\n",
       "      <td>66</td>\n",
       "      <td>17</td>\n",
       "      <td>72</td>\n",
       "      <td>3</td>\n",
       "      <td>2</td>\n",
       "      <td>353</td>\n",
       "      <td>164</td>\n",
       "      <td>127</td>\n",
       "    </tr>\n",
       "  </tbody>\n",
       "</table>\n",
       "</div>"
      ],
      "text/plain": [
       "Embarked   C           Q          S          \n",
       "Pclass     1   3   2   3  2  1    3    2    1\n",
       "Pclass    85  66  17  72  3  2  353  164  127"
      ]
     },
     "execution_count": 19,
     "metadata": {},
     "output_type": "execute_result"
    }
   ],
   "source": [
    "sus_1 = pd.DataFrame(train.groupby('Embarked')['Pclass'].value_counts()).T #susspeita 1\n",
    "sus_1"
   ]
  },
  {
   "cell_type": "code",
   "execution_count": 20,
   "metadata": {
    "execution": {
     "iopub.execute_input": "2021-02-16T18:12:31.569842Z",
     "iopub.status.busy": "2021-02-16T18:12:31.569128Z",
     "iopub.status.idle": "2021-02-16T18:12:31.635374Z",
     "shell.execute_reply": "2021-02-16T18:12:31.636024Z"
    },
    "papermill": {
     "duration": 0.134936,
     "end_time": "2021-02-16T18:12:31.636193",
     "exception": false,
     "start_time": "2021-02-16T18:12:31.501257",
     "status": "completed"
    },
    "tags": []
   },
   "outputs": [
    {
     "ename": "NameError",
     "evalue": "name 'embar_s' is not defined",
     "output_type": "error",
     "traceback": [
      "\u001b[0;31m---------------------------------------------------------------------------\u001b[0m",
      "\u001b[0;31mNameError\u001b[0m                                 Traceback (most recent call last)",
      "\u001b[0;32m<ipython-input-20-b9e22cf26ddd>\u001b[0m in \u001b[0;36m<module>\u001b[0;34m\u001b[0m\n\u001b[0;32m----> 1\u001b[0;31m \u001b[0membar_s\u001b[0m\u001b[0;34m\u001b[0m\u001b[0;34m\u001b[0m\u001b[0m\n\u001b[0m\u001b[1;32m      2\u001b[0m \u001b[0;34m\u001b[0m\u001b[0m\n",
      "\u001b[0;31mNameError\u001b[0m: name 'embar_s' is not defined"
     ]
    }
   ],
   "source": [
    "embar_s\n",
    "\n"
   ]
  },
  {
   "cell_type": "code",
   "execution_count": 21,
   "metadata": {
    "execution": {
     "iopub.execute_input": "2021-02-16T18:12:31.770571Z",
     "iopub.status.busy": "2021-02-16T18:12:31.769706Z",
     "iopub.status.idle": "2021-02-16T18:12:31.974444Z",
     "shell.execute_reply": "2021-02-16T18:12:31.975024Z"
    },
    "papermill": {
     "duration": 0.273846,
     "end_time": "2021-02-16T18:12:31.975203",
     "exception": false,
     "start_time": "2021-02-16T18:12:31.701357",
     "status": "completed"
    },
    "tags": []
   },
   "outputs": [
    {
     "data": {
      "image/png": "[encoded data removed]",
      "text/plain": [
       "<Figure size 720x576 with 1 Axes>"
      ]
     },
     "metadata": {
      "needs_background": "light"
     },
     "output_type": "display_data"
    }
   ],
   "source": [
    "embar_s = pd.DataFrame(train.query('Embarked == \"S\"')['Pclass'].value_counts()/ train.shape[0] *100)\n",
    "\n",
    "\n",
    "plt.figure(figsize=(10,8))\n",
    "ax = sns.barplot(x=embar_s.index, y='Pclass', data=embar_s,\n",
    "                  palette='Blues_r')\n",
    "ax.set_xlabel('Classe', fontsize=15)\n",
    "ax.set_ylabel('Passageiros(%)', fontsize=15)\n",
    "ax.set_title('Embarques em Southpton por Classe', fontsize=20, pad=20 )\n",
    "plt.tight_layout()\n",
    "\n"
   ]
  },
  {
   "cell_type": "markdown",
   "metadata": {
    "papermill": {
     "duration": 0.064514,
     "end_time": "2021-02-16T18:12:32.105061",
     "exception": false,
     "start_time": "2021-02-16T18:12:32.040547",
     "status": "completed"
    },
    "tags": []
   },
   "source": [
    "**Como suspeitávamos, em Southpton houve um embarque da maior parte da passageiros da classe 3, equivalente a 39% de todos os passageiros do navio**"
   ]
  },
  {
   "cell_type": "code",
   "execution_count": 22,
   "metadata": {
    "execution": {
     "iopub.execute_input": "2021-02-16T18:12:32.238021Z",
     "iopub.status.busy": "2021-02-16T18:12:32.237297Z",
     "iopub.status.idle": "2021-02-16T18:12:32.253338Z",
     "shell.execute_reply": "2021-02-16T18:12:32.252617Z"
    },
    "papermill": {
     "duration": 0.083542,
     "end_time": "2021-02-16T18:12:32.253460",
     "exception": false,
     "start_time": "2021-02-16T18:12:32.169918",
     "status": "completed"
    },
    "tags": []
   },
   "outputs": [
    {
     "data": {
      "text/html": [
       "<div>\n",
       "<style scoped>\n",
       "    .dataframe tbody tr th:only-of-type {\n",
       "        vertical-align: middle;\n",
       "    }\n",
       "\n",
       "    .dataframe tbody tr th {\n",
       "        vertical-align: top;\n",
       "    }\n",
       "\n",
       "    .dataframe thead tr th {\n",
       "        text-align: left;\n",
       "    }\n",
       "</style>\n",
       "<table border=\"1\" class=\"dataframe\">\n",
       "  <thead>\n",
       "    <tr>\n",
       "      <th>Embarked</th>\n",
       "      <th colspan=\"2\" halign=\"left\">C</th>\n",
       "      <th colspan=\"2\" halign=\"left\">Q</th>\n",
       "      <th colspan=\"2\" halign=\"left\">S</th>\n",
       "    </tr>\n",
       "    <tr>\n",
       "      <th>Sex</th>\n",
       "      <th>male</th>\n",
       "      <th>female</th>\n",
       "      <th>male</th>\n",
       "      <th>female</th>\n",
       "      <th>male</th>\n",
       "      <th>female</th>\n",
       "    </tr>\n",
       "  </thead>\n",
       "  <tbody>\n",
       "    <tr>\n",
       "      <th>Sex</th>\n",
       "      <td>95</td>\n",
       "      <td>73</td>\n",
       "      <td>41</td>\n",
       "      <td>36</td>\n",
       "      <td>441</td>\n",
       "      <td>203</td>\n",
       "    </tr>\n",
       "  </tbody>\n",
       "</table>\n",
       "</div>"
      ],
      "text/plain": [
       "Embarked    C           Q           S       \n",
       "Sex      male female male female male female\n",
       "Sex        95     73   41     36  441    203"
      ]
     },
     "execution_count": 22,
     "metadata": {},
     "output_type": "execute_result"
    }
   ],
   "source": [
    "sus_2 = pd.DataFrame(train.groupby('Embarked')['Sex'].value_counts()).T #suspeita 2\n",
    "sus_2"
   ]
  },
  {
   "cell_type": "code",
   "execution_count": 23,
   "metadata": {
    "execution": {
     "iopub.execute_input": "2021-02-16T18:12:32.395670Z",
     "iopub.status.busy": "2021-02-16T18:12:32.394631Z",
     "iopub.status.idle": "2021-02-16T18:12:32.398653Z",
     "shell.execute_reply": "2021-02-16T18:12:32.399193Z"
    },
    "papermill": {
     "duration": 0.079428,
     "end_time": "2021-02-16T18:12:32.399339",
     "exception": false,
     "start_time": "2021-02-16T18:12:32.319911",
     "status": "completed"
    },
    "tags": []
   },
   "outputs": [
    {
     "data": {
      "text/plain": [
       "male      577\n",
       "female    314\n",
       "Name: Sex, dtype: int64"
      ]
     },
     "execution_count": 23,
     "metadata": {},
     "output_type": "execute_result"
    }
   ],
   "source": [
    "train.Sex.value_counts()"
   ]
  },
  {
   "cell_type": "code",
   "execution_count": 24,
   "metadata": {
    "execution": {
     "iopub.execute_input": "2021-02-16T18:12:32.536037Z",
     "iopub.status.busy": "2021-02-16T18:12:32.534990Z",
     "iopub.status.idle": "2021-02-16T18:12:32.553925Z",
     "shell.execute_reply": "2021-02-16T18:12:32.554392Z"
    },
    "papermill": {
     "duration": 0.089038,
     "end_time": "2021-02-16T18:12:32.554549",
     "exception": false,
     "start_time": "2021-02-16T18:12:32.465511",
     "status": "completed"
    },
    "tags": []
   },
   "outputs": [
    {
     "data": {
      "text/html": [
       "<div>\n",
       "<style scoped>\n",
       "    .dataframe tbody tr th:only-of-type {\n",
       "        vertical-align: middle;\n",
       "    }\n",
       "\n",
       "    .dataframe tbody tr th {\n",
       "        vertical-align: top;\n",
       "    }\n",
       "\n",
       "    .dataframe thead th {\n",
       "        text-align: right;\n",
       "    }\n",
       "</style>\n",
       "<table border=\"1\" class=\"dataframe\">\n",
       "  <thead>\n",
       "    <tr style=\"text-align: right;\">\n",
       "      <th></th>\n",
       "      <th>Sex</th>\n",
       "      <th>H e M</th>\n",
       "      <th>% H e M</th>\n",
       "    </tr>\n",
       "  </thead>\n",
       "  <tbody>\n",
       "    <tr>\n",
       "      <th>male</th>\n",
       "      <td>441</td>\n",
       "      <td>577</td>\n",
       "      <td>76.429809</td>\n",
       "    </tr>\n",
       "    <tr>\n",
       "      <th>female</th>\n",
       "      <td>203</td>\n",
       "      <td>314</td>\n",
       "      <td>64.649682</td>\n",
       "    </tr>\n",
       "  </tbody>\n",
       "</table>\n",
       "</div>"
      ],
      "text/plain": [
       "        Sex  H e M    % H e M\n",
       "male    441    577  76.429809\n",
       "female  203    314  64.649682"
      ]
     },
     "execution_count": 24,
     "metadata": {},
     "output_type": "execute_result"
    }
   ],
   "source": [
    "embar_s = pd.DataFrame(train.query('Embarked == \"S\"')['Sex'].value_counts())\n",
    "embar_s['H e M'] = train.Sex.value_counts()\n",
    "embar_s['% H e M']= embar_s['Sex']/embar_s['H e M'] *100\n",
    "embar_s"
   ]
  },
  {
   "cell_type": "code",
   "execution_count": 25,
   "metadata": {
    "execution": {
     "iopub.execute_input": "2021-02-16T18:12:32.715270Z",
     "iopub.status.busy": "2021-02-16T18:12:32.714537Z",
     "iopub.status.idle": "2021-02-16T18:12:32.864621Z",
     "shell.execute_reply": "2021-02-16T18:12:32.863942Z"
    },
    "papermill": {
     "duration": 0.242967,
     "end_time": "2021-02-16T18:12:32.864751",
     "exception": false,
     "start_time": "2021-02-16T18:12:32.621784",
     "status": "completed"
    },
    "tags": []
   },
   "outputs": [
    {
     "data": {
      "image/png": "[encoded data removed]",
      "text/plain": [
       "<Figure size 720x576 with 1 Axes>"
      ]
     },
     "metadata": {
      "needs_background": "light"
     },
     "output_type": "display_data"
    }
   ],
   "source": [
    "plt.figure(figsize=(10,8))\n",
    "ax = sns.barplot(x=embar_s.index, y='% H e M', data=embar_s,\n",
    "                  palette='Blues_r')\n",
    "ax.set_xlabel('Sexo', fontsize=15)\n",
    "ax.set_ylabel('Passageiros por Sexo (%)', fontsize=15)\n",
    "ax.set_title('Embarques em Southpton por Sexo', fontsize=20, pad=20 )\n",
    "ax.set_xticklabels(labels=['Masculino', 'Feminino'])\n",
    "plt.tight_layout()"
   ]
  },
  {
   "cell_type": "markdown",
   "metadata": {
    "papermill": {
     "duration": 0.06746,
     "end_time": "2021-02-16T18:12:33.000498",
     "exception": false,
     "start_time": "2021-02-16T18:12:32.933038",
     "status": "completed"
    },
    "tags": []
   },
   "source": [
    "* **Outra Suspeita confirmada, aproximadamente 75% dos homens e 65% das mulheres a bordo embarcaram em Southpton.**"
   ]
  },
  {
   "cell_type": "markdown",
   "metadata": {
    "papermill": {
     "duration": 0.067557,
     "end_time": "2021-02-16T18:12:33.135935",
     "exception": false,
     "start_time": "2021-02-16T18:12:33.068378",
     "status": "completed"
    },
    "tags": []
   },
   "source": [
    "### **2.4.5 - Cônjuge e parentes**\n",
    "\n",
    "Viajar acompanhado de parentes influência nas chances de sobrevivência?\n",
    "Intuitivamente acreditamos que sim, já que pode ter ajuda principalmente na hora de compartilhar os equipamentos de salva-vidas. Nossa intuição está correta?"
   ]
  },
  {
   "cell_type": "markdown",
   "metadata": {
    "papermill": {
     "duration": 0.067353,
     "end_time": "2021-02-16T18:12:33.271085",
     "exception": false,
     "start_time": "2021-02-16T18:12:33.203732",
     "status": "completed"
    },
    "tags": []
   },
   "source": [
    "#### **2.4.5.1 SibSp - Irmãos e Esposas a bordo do Titanic**"
   ]
  },
  {
   "cell_type": "code",
   "execution_count": 26,
   "metadata": {
    "execution": {
     "iopub.execute_input": "2021-02-16T18:12:33.429098Z",
     "iopub.status.busy": "2021-02-16T18:12:33.428355Z",
     "iopub.status.idle": "2021-02-16T18:12:33.433493Z",
     "shell.execute_reply": "2021-02-16T18:12:33.432854Z"
    },
    "papermill": {
     "duration": 0.095266,
     "end_time": "2021-02-16T18:12:33.433626",
     "exception": false,
     "start_time": "2021-02-16T18:12:33.338360",
     "status": "completed"
    },
    "tags": []
   },
   "outputs": [
    {
     "data": {
      "text/html": [
       "<div>\n",
       "<style scoped>\n",
       "    .dataframe tbody tr th:only-of-type {\n",
       "        vertical-align: middle;\n",
       "    }\n",
       "\n",
       "    .dataframe tbody tr th {\n",
       "        vertical-align: top;\n",
       "    }\n",
       "\n",
       "    .dataframe thead th {\n",
       "        text-align: right;\n",
       "    }\n",
       "</style>\n",
       "<table border=\"1\" class=\"dataframe\">\n",
       "  <thead>\n",
       "    <tr style=\"text-align: right;\">\n",
       "      <th></th>\n",
       "      <th>SibSp</th>\n",
       "      <th>% Percentual</th>\n",
       "      <th>Nº de sobreviventes por SibSp</th>\n",
       "      <th>Taxa de Sobreviventes por SibSp em %</th>\n",
       "    </tr>\n",
       "  </thead>\n",
       "  <tbody>\n",
       "    <tr>\n",
       "      <th>0</th>\n",
       "      <td>608</td>\n",
       "      <td>68.24</td>\n",
       "      <td>210</td>\n",
       "      <td>34.54</td>\n",
       "    </tr>\n",
       "    <tr>\n",
       "      <th>1</th>\n",
       "      <td>209</td>\n",
       "      <td>23.46</td>\n",
       "      <td>112</td>\n",
       "      <td>53.59</td>\n",
       "    </tr>\n",
       "    <tr>\n",
       "      <th>2</th>\n",
       "      <td>28</td>\n",
       "      <td>3.14</td>\n",
       "      <td>13</td>\n",
       "      <td>46.43</td>\n",
       "    </tr>\n",
       "    <tr>\n",
       "      <th>4</th>\n",
       "      <td>18</td>\n",
       "      <td>2.02</td>\n",
       "      <td>3</td>\n",
       "      <td>16.67</td>\n",
       "    </tr>\n",
       "    <tr>\n",
       "      <th>3</th>\n",
       "      <td>16</td>\n",
       "      <td>1.80</td>\n",
       "      <td>4</td>\n",
       "      <td>25.00</td>\n",
       "    </tr>\n",
       "    <tr>\n",
       "      <th>8</th>\n",
       "      <td>7</td>\n",
       "      <td>0.79</td>\n",
       "      <td>0</td>\n",
       "      <td>0.00</td>\n",
       "    </tr>\n",
       "    <tr>\n",
       "      <th>5</th>\n",
       "      <td>5</td>\n",
       "      <td>0.56</td>\n",
       "      <td>0</td>\n",
       "      <td>0.00</td>\n",
       "    </tr>\n",
       "  </tbody>\n",
       "</table>\n",
       "</div>"
      ],
      "text/plain": [
       "   SibSp  % Percentual  Nº de sobreviventes por SibSp  \\\n",
       "0    608         68.24                            210   \n",
       "1    209         23.46                            112   \n",
       "2     28          3.14                             13   \n",
       "4     18          2.02                              3   \n",
       "3     16          1.80                              4   \n",
       "8      7          0.79                              0   \n",
       "5      5          0.56                              0   \n",
       "\n",
       "   Taxa de Sobreviventes por SibSp em %  \n",
       "0                                 34.54  \n",
       "1                                 53.59  \n",
       "2                                 46.43  \n",
       "4                                 16.67  \n",
       "3                                 25.00  \n",
       "8                                  0.00  \n",
       "5                                  0.00  "
      ]
     },
     "execution_count": 26,
     "metadata": {},
     "output_type": "execute_result"
    }
   ],
   "source": [
    "quant_sibsp = pd.DataFrame(train.SibSp.value_counts())\n",
    "quant_sibsp['% Percentual'] = (quant_sibsp/train.shape[0] *100).round(2)\n",
    "quant_sibsp['Nº de sobreviventes por SibSp'] = train.groupby('SibSp')['Survived'].sum()\n",
    "quant_sibsp['Taxa de Sobreviventes por SibSp em %'] = (quant_sibsp['Nº de sobreviventes por SibSp']/quant_sibsp['SibSp'] *100).round(2)\n",
    "\n",
    "quant_sibsp"
   ]
  },
  {
   "cell_type": "code",
   "execution_count": 27,
   "metadata": {
    "execution": {
     "iopub.execute_input": "2021-02-16T18:12:33.597300Z",
     "iopub.status.busy": "2021-02-16T18:12:33.595327Z",
     "iopub.status.idle": "2021-02-16T18:12:33.928878Z",
     "shell.execute_reply": "2021-02-16T18:12:33.928218Z"
    },
    "papermill": {
     "duration": 0.426904,
     "end_time": "2021-02-16T18:12:33.928998",
     "exception": false,
     "start_time": "2021-02-16T18:12:33.502094",
     "status": "completed"
    },
    "tags": []
   },
   "outputs": [
    {
     "data": {
      "image/png": "[encoded data removed]",
      "text/plain": [
       "<Figure size 1440x576 with 2 Axes>"
      ]
     },
     "metadata": {
      "needs_background": "light"
     },
     "output_type": "display_data"
    },
    {
     "data": {
      "text/plain": [
       "<Figure size 720x576 with 0 Axes>"
      ]
     },
     "metadata": {},
     "output_type": "display_data"
    },
    {
     "data": {
      "text/plain": [
       "<Figure size 720x576 with 0 Axes>"
      ]
     },
     "metadata": {},
     "output_type": "display_data"
    }
   ],
   "source": [
    "fig, (axis1, axis2) = plt.subplots(1,2, figsize=(20,8))\n",
    "\n",
    "plt.figure(figsize=(10,8))\n",
    "ax = sns.barplot(x=quant_sibsp.index,y='SibSp',data=quant_sibsp, \n",
    "                 ax=axis1, palette='Greens_r' )\n",
    "\n",
    "ax.set_title(\"Quantidade de pessoas com cônjuge e/ou irmãos\", fontsize=20,pad=20,)\n",
    "ax.set_xlabel('Quantidade de conj/irm', fontsize=15)\n",
    "ax.set_ylabel('Quantidade de passageiros', fontsize=15)\n",
    "plt.tight_layout()\n",
    "\n",
    "plt.figure(figsize=(10,8))\n",
    "ax = sns.barplot(x=quant_sibsp.index, y=\"Taxa de Sobreviventes por SibSp em %\", data=quant_sibsp,\n",
    "                 ax= axis2, palette='Greens_r')\n",
    "ax.set_xlabel('Classe', fontsize=15)\n",
    "ax.set_ylabel('Taxa de Sobreviventes em %', fontsize=15)\n",
    "ax.set_title('Relação de Sobreviventes por quantidade de conj/irm', fontsize=20, pad=20 )\n",
    "plt.tight_layout()"
   ]
  },
  {
   "cell_type": "markdown",
   "metadata": {
    "papermill": {
     "duration": 0.074653,
     "end_time": "2021-02-16T18:12:34.074980",
     "exception": false,
     "start_time": "2021-02-16T18:12:34.000327",
     "status": "completed"
    },
    "tags": []
   },
   "source": [
    "A maioria dos passageiros (68%) viajou sem o conjuge ou irmãos, mas os sobreviventes que foram nessas condições é de 34%, enquanto dos que viajavam apenas com um irmão ou o cônjuge  sobreviveram em 53%.\n",
    "\n",
    "Viajar sem companhia só foi  melhor do que viajar com 3 ou mais pessoas-irmãos ou cônjuge."
   ]
  },
  {
   "cell_type": "markdown",
   "metadata": {
    "papermill": {
     "duration": 0.070808,
     "end_time": "2021-02-16T18:12:34.216547",
     "exception": false,
     "start_time": "2021-02-16T18:12:34.145739",
     "status": "completed"
    },
    "tags": []
   },
   "source": [
    "#### **2.4.5.2 Parch - Pais e filhos a bordo do Titanic**"
   ]
  },
  {
   "cell_type": "code",
   "execution_count": 28,
   "metadata": {
    "execution": {
     "iopub.execute_input": "2021-02-16T18:12:34.380926Z",
     "iopub.status.busy": "2021-02-16T18:12:34.379914Z",
     "iopub.status.idle": "2021-02-16T18:12:34.385201Z",
     "shell.execute_reply": "2021-02-16T18:12:34.384648Z"
    },
    "papermill": {
     "duration": 0.097886,
     "end_time": "2021-02-16T18:12:34.385328",
     "exception": false,
     "start_time": "2021-02-16T18:12:34.287442",
     "status": "completed"
    },
    "tags": []
   },
   "outputs": [
    {
     "data": {
      "text/html": [
       "<div>\n",
       "<style scoped>\n",
       "    .dataframe tbody tr th:only-of-type {\n",
       "        vertical-align: middle;\n",
       "    }\n",
       "\n",
       "    .dataframe tbody tr th {\n",
       "        vertical-align: top;\n",
       "    }\n",
       "\n",
       "    .dataframe thead th {\n",
       "        text-align: right;\n",
       "    }\n",
       "</style>\n",
       "<table border=\"1\" class=\"dataframe\">\n",
       "  <thead>\n",
       "    <tr style=\"text-align: right;\">\n",
       "      <th></th>\n",
       "      <th>Parch</th>\n",
       "      <th>% Percentual</th>\n",
       "      <th>Nº de sobreviventes por Parch</th>\n",
       "      <th>Taxa de Sobreviventes por Parch em %</th>\n",
       "    </tr>\n",
       "  </thead>\n",
       "  <tbody>\n",
       "    <tr>\n",
       "      <th>0</th>\n",
       "      <td>678</td>\n",
       "      <td>76.09</td>\n",
       "      <td>210.0</td>\n",
       "      <td>30.97</td>\n",
       "    </tr>\n",
       "    <tr>\n",
       "      <th>1</th>\n",
       "      <td>118</td>\n",
       "      <td>13.24</td>\n",
       "      <td>112.0</td>\n",
       "      <td>94.92</td>\n",
       "    </tr>\n",
       "    <tr>\n",
       "      <th>2</th>\n",
       "      <td>80</td>\n",
       "      <td>8.98</td>\n",
       "      <td>13.0</td>\n",
       "      <td>16.25</td>\n",
       "    </tr>\n",
       "    <tr>\n",
       "      <th>5</th>\n",
       "      <td>5</td>\n",
       "      <td>0.56</td>\n",
       "      <td>0.0</td>\n",
       "      <td>0.00</td>\n",
       "    </tr>\n",
       "    <tr>\n",
       "      <th>3</th>\n",
       "      <td>5</td>\n",
       "      <td>0.56</td>\n",
       "      <td>4.0</td>\n",
       "      <td>80.00</td>\n",
       "    </tr>\n",
       "    <tr>\n",
       "      <th>4</th>\n",
       "      <td>4</td>\n",
       "      <td>0.45</td>\n",
       "      <td>3.0</td>\n",
       "      <td>75.00</td>\n",
       "    </tr>\n",
       "    <tr>\n",
       "      <th>6</th>\n",
       "      <td>1</td>\n",
       "      <td>0.11</td>\n",
       "      <td>NaN</td>\n",
       "      <td>NaN</td>\n",
       "    </tr>\n",
       "  </tbody>\n",
       "</table>\n",
       "</div>"
      ],
      "text/plain": [
       "   Parch  % Percentual  Nº de sobreviventes por Parch  \\\n",
       "0    678         76.09                          210.0   \n",
       "1    118         13.24                          112.0   \n",
       "2     80          8.98                           13.0   \n",
       "5      5          0.56                            0.0   \n",
       "3      5          0.56                            4.0   \n",
       "4      4          0.45                            3.0   \n",
       "6      1          0.11                            NaN   \n",
       "\n",
       "   Taxa de Sobreviventes por Parch em %  \n",
       "0                                 30.97  \n",
       "1                                 94.92  \n",
       "2                                 16.25  \n",
       "5                                  0.00  \n",
       "3                                 80.00  \n",
       "4                                 75.00  \n",
       "6                                   NaN  "
      ]
     },
     "execution_count": 28,
     "metadata": {},
     "output_type": "execute_result"
    }
   ],
   "source": [
    "quant_parch = pd.DataFrame(train.Parch.value_counts())\n",
    "quant_parch['% Percentual'] = (quant_parch/train.shape[0] *100).round(2)\n",
    "quant_parch['Nº de sobreviventes por Parch'] = train.groupby('SibSp')['Survived'].sum()\n",
    "quant_parch['Taxa de Sobreviventes por Parch em %'] = (quant_parch['Nº de sobreviventes por Parch']/quant_parch['Parch'] *100).round(2)\n",
    "\n",
    "quant_parch"
   ]
  },
  {
   "cell_type": "code",
   "execution_count": 29,
   "metadata": {
    "execution": {
     "iopub.execute_input": "2021-02-16T18:12:34.542027Z",
     "iopub.status.busy": "2021-02-16T18:12:34.537861Z",
     "iopub.status.idle": "2021-02-16T18:12:34.895316Z",
     "shell.execute_reply": "2021-02-16T18:12:34.894726Z"
    },
    "papermill": {
     "duration": 0.438191,
     "end_time": "2021-02-16T18:12:34.895429",
     "exception": false,
     "start_time": "2021-02-16T18:12:34.457238",
     "status": "completed"
    },
    "tags": []
   },
   "outputs": [
    {
     "data": {
      "image/png": "[encoded data removed]",
      "text/plain": [
       "<Figure size 1440x576 with 2 Axes>"
      ]
     },
     "metadata": {
      "needs_background": "light"
     },
     "output_type": "display_data"
    },
    {
     "data": {
      "text/plain": [
       "<Figure size 720x576 with 0 Axes>"
      ]
     },
     "metadata": {},
     "output_type": "display_data"
    },
    {
     "data": {
      "text/plain": [
       "<Figure size 720x576 with 0 Axes>"
      ]
     },
     "metadata": {},
     "output_type": "display_data"
    }
   ],
   "source": [
    "fig, (axis1, axis2) = plt.subplots(1,2, figsize=(20,8))\n",
    "\n",
    "plt.figure(figsize=(10,8))\n",
    "ax = sns.barplot(x=quant_parch.index,y='Parch',data=quant_parch, \n",
    "                 ax=axis1, palette='Oranges_r' )\n",
    "\n",
    "ax.set_title(\"Quantidade de pessoas como Pais &Filhos\", fontsize=20,pad=20,)\n",
    "ax.set_xlabel('Quantidade de Pai/Filhos', fontsize=15)\n",
    "ax.set_ylabel('Quantidade de passageiros', fontsize=15)\n",
    "plt.tight_layout()\n",
    "\n",
    "plt.figure(figsize=(10,8))\n",
    "ax = sns.barplot(x=quant_parch.index, y='Taxa de Sobreviventes por Parch em %', data=quant_parch,\n",
    "                 ax= axis2, palette='Oranges_r')\n",
    "ax.set_xlabel('Quantidade de Pais/Filhos', fontsize=15)\n",
    "ax.set_ylabel('Taxa de Sobreviventes em %', fontsize=15)\n",
    "ax.set_title('Relação de Sobreviventes por quantidade de Pais & Filhos', fontsize=20, pad=20 )\n",
    "plt.tight_layout()"
   ]
  },
  {
   "cell_type": "markdown",
   "metadata": {
    "papermill": {
     "duration": 0.074338,
     "end_time": "2021-02-16T18:12:35.045383",
     "exception": false,
     "start_time": "2021-02-16T18:12:34.971045",
     "status": "completed"
    },
    "tags": []
   },
   "source": [
    "76% dos passageiros viajaram sem filhos e aproximadamente 20% tinham entre um e 2 filhos. \n",
    "\n",
    "Interessante notar que 94% dos que tinham 1 filho ou 1 dos pais a bordo sobreviveram. \n",
    "\n",
    "Definitivamente viajar com os pais e filhos aumentaram as chances de sobreviver. :D "
   ]
  },
  {
   "cell_type": "markdown",
   "metadata": {
    "papermill": {
     "duration": 0.073282,
     "end_time": "2021-02-16T18:12:35.192271",
     "exception": false,
     "start_time": "2021-02-16T18:12:35.118989",
     "status": "completed"
    },
    "tags": []
   },
   "source": [
    "### **2.4.6 - Sobreviventes por idade**"
   ]
  },
  {
   "cell_type": "code",
   "execution_count": 30,
   "metadata": {
    "execution": {
     "iopub.execute_input": "2021-02-16T18:12:35.345776Z",
     "iopub.status.busy": "2021-02-16T18:12:35.344811Z",
     "iopub.status.idle": "2021-02-16T18:12:35.357898Z",
     "shell.execute_reply": "2021-02-16T18:12:35.357285Z"
    },
    "papermill": {
     "duration": 0.092192,
     "end_time": "2021-02-16T18:12:35.358024",
     "exception": false,
     "start_time": "2021-02-16T18:12:35.265832",
     "status": "completed"
    },
    "tags": []
   },
   "outputs": [
    {
     "data": {
      "text/html": [
       "<div>\n",
       "<style scoped>\n",
       "    .dataframe tbody tr th:only-of-type {\n",
       "        vertical-align: middle;\n",
       "    }\n",
       "\n",
       "    .dataframe tbody tr th {\n",
       "        vertical-align: top;\n",
       "    }\n",
       "\n",
       "    .dataframe thead th {\n",
       "        text-align: right;\n",
       "    }\n",
       "</style>\n",
       "<table border=\"1\" class=\"dataframe\">\n",
       "  <thead>\n",
       "    <tr style=\"text-align: right;\">\n",
       "      <th></th>\n",
       "      <th>Age</th>\n",
       "    </tr>\n",
       "  </thead>\n",
       "  <tbody>\n",
       "    <tr>\n",
       "      <th>count</th>\n",
       "      <td>714.000000</td>\n",
       "    </tr>\n",
       "    <tr>\n",
       "      <th>mean</th>\n",
       "      <td>29.699118</td>\n",
       "    </tr>\n",
       "    <tr>\n",
       "      <th>std</th>\n",
       "      <td>14.526497</td>\n",
       "    </tr>\n",
       "    <tr>\n",
       "      <th>min</th>\n",
       "      <td>0.420000</td>\n",
       "    </tr>\n",
       "    <tr>\n",
       "      <th>25%</th>\n",
       "      <td>20.125000</td>\n",
       "    </tr>\n",
       "    <tr>\n",
       "      <th>50%</th>\n",
       "      <td>28.000000</td>\n",
       "    </tr>\n",
       "    <tr>\n",
       "      <th>75%</th>\n",
       "      <td>38.000000</td>\n",
       "    </tr>\n",
       "    <tr>\n",
       "      <th>max</th>\n",
       "      <td>80.000000</td>\n",
       "    </tr>\n",
       "  </tbody>\n",
       "</table>\n",
       "</div>"
      ],
      "text/plain": [
       "              Age\n",
       "count  714.000000\n",
       "mean    29.699118\n",
       "std     14.526497\n",
       "min      0.420000\n",
       "25%     20.125000\n",
       "50%     28.000000\n",
       "75%     38.000000\n",
       "max     80.000000"
      ]
     },
     "execution_count": 30,
     "metadata": {},
     "output_type": "execute_result"
    }
   ],
   "source": [
    "pd.DataFrame(train.Age.describe())"
   ]
  },
  {
   "cell_type": "code",
   "execution_count": 31,
   "metadata": {
    "execution": {
     "iopub.execute_input": "2021-02-16T18:12:35.515024Z",
     "iopub.status.busy": "2021-02-16T18:12:35.513953Z",
     "iopub.status.idle": "2021-02-16T18:12:35.521035Z",
     "shell.execute_reply": "2021-02-16T18:12:35.521651Z"
    },
    "papermill": {
     "duration": 0.085893,
     "end_time": "2021-02-16T18:12:35.521806",
     "exception": false,
     "start_time": "2021-02-16T18:12:35.435913",
     "status": "completed"
    },
    "tags": []
   },
   "outputs": [
    {
     "data": {
      "text/plain": [
       "177"
      ]
     },
     "execution_count": 31,
     "metadata": {},
     "output_type": "execute_result"
    }
   ],
   "source": [
    "train.Age.isna().sum() "
   ]
  },
  {
   "cell_type": "markdown",
   "metadata": {
    "papermill": {
     "duration": 0.077221,
     "end_time": "2021-02-16T18:12:35.674389",
     "exception": false,
     "start_time": "2021-02-16T18:12:35.597168",
     "status": "completed"
    },
    "tags": []
   },
   "source": [
    "Temos 177 dados faltantes na coluna idade Será que isso faz a diferença no calculo das médias? Vamos Checar."
   ]
  },
  {
   "cell_type": "code",
   "execution_count": 32,
   "metadata": {
    "execution": {
     "iopub.execute_input": "2021-02-16T18:12:35.827818Z",
     "iopub.status.busy": "2021-02-16T18:12:35.826779Z",
     "iopub.status.idle": "2021-02-16T18:12:35.836693Z",
     "shell.execute_reply": "2021-02-16T18:12:35.837224Z"
    },
    "papermill": {
     "duration": 0.088281,
     "end_time": "2021-02-16T18:12:35.837370",
     "exception": false,
     "start_time": "2021-02-16T18:12:35.749089",
     "status": "completed"
    },
    "tags": []
   },
   "outputs": [
    {
     "data": {
      "text/plain": [
       "0"
      ]
     },
     "execution_count": 32,
     "metadata": {},
     "output_type": "execute_result"
    }
   ],
   "source": [
    "train_1 = train.dropna() #eliminando e verificando os dados faltantes\n",
    "train_1.Age.isna().sum()"
   ]
  },
  {
   "cell_type": "code",
   "execution_count": 33,
   "metadata": {
    "execution": {
     "iopub.execute_input": "2021-02-16T18:12:35.991648Z",
     "iopub.status.busy": "2021-02-16T18:12:35.990611Z",
     "iopub.status.idle": "2021-02-16T18:12:36.003246Z",
     "shell.execute_reply": "2021-02-16T18:12:36.003854Z"
    },
    "papermill": {
     "duration": 0.091239,
     "end_time": "2021-02-16T18:12:36.004001",
     "exception": false,
     "start_time": "2021-02-16T18:12:35.912762",
     "status": "completed"
    },
    "tags": []
   },
   "outputs": [
    {
     "data": {
      "text/html": [
       "<div>\n",
       "<style scoped>\n",
       "    .dataframe tbody tr th:only-of-type {\n",
       "        vertical-align: middle;\n",
       "    }\n",
       "\n",
       "    .dataframe tbody tr th {\n",
       "        vertical-align: top;\n",
       "    }\n",
       "\n",
       "    .dataframe thead th {\n",
       "        text-align: right;\n",
       "    }\n",
       "</style>\n",
       "<table border=\"1\" class=\"dataframe\">\n",
       "  <thead>\n",
       "    <tr style=\"text-align: right;\">\n",
       "      <th></th>\n",
       "      <th>Age</th>\n",
       "    </tr>\n",
       "  </thead>\n",
       "  <tbody>\n",
       "    <tr>\n",
       "      <th>count</th>\n",
       "      <td>183.000000</td>\n",
       "    </tr>\n",
       "    <tr>\n",
       "      <th>mean</th>\n",
       "      <td>35.674426</td>\n",
       "    </tr>\n",
       "    <tr>\n",
       "      <th>std</th>\n",
       "      <td>15.643866</td>\n",
       "    </tr>\n",
       "    <tr>\n",
       "      <th>min</th>\n",
       "      <td>0.920000</td>\n",
       "    </tr>\n",
       "    <tr>\n",
       "      <th>25%</th>\n",
       "      <td>24.000000</td>\n",
       "    </tr>\n",
       "    <tr>\n",
       "      <th>50%</th>\n",
       "      <td>36.000000</td>\n",
       "    </tr>\n",
       "    <tr>\n",
       "      <th>75%</th>\n",
       "      <td>47.500000</td>\n",
       "    </tr>\n",
       "    <tr>\n",
       "      <th>max</th>\n",
       "      <td>80.000000</td>\n",
       "    </tr>\n",
       "  </tbody>\n",
       "</table>\n",
       "</div>"
      ],
      "text/plain": [
       "              Age\n",
       "count  183.000000\n",
       "mean    35.674426\n",
       "std     15.643866\n",
       "min      0.920000\n",
       "25%     24.000000\n",
       "50%     36.000000\n",
       "75%     47.500000\n",
       "max     80.000000"
      ]
     },
     "execution_count": 33,
     "metadata": {},
     "output_type": "execute_result"
    }
   ],
   "source": [
    "pd.DataFrame(train_1.Age.describe()) "
   ]
  },
  {
   "cell_type": "markdown",
   "metadata": {
    "papermill": {
     "duration": 0.075212,
     "end_time": "2021-02-16T18:12:36.154793",
     "exception": false,
     "start_time": "2021-02-16T18:12:36.079581",
     "status": "completed"
    },
    "tags": []
   },
   "source": [
    "Conforme as duas últimas tabelas acima: sim, faz diferença! A média era de 29 anos e com a remoção dos dados incompletos a média de idade subiu para 35 anos. \n",
    "\n",
    "Como 177 dados é um quantidade representativa do nosso dataset e excluí-los prejudicaria nossas análises, pois, excluiríamos outros dados também. Uma opção é preenchê-los com a média das idades ou moda. Na prócxima seção faremos esse tratamento de dados faltantes."
   ]
  },
  {
   "cell_type": "code",
   "execution_count": 34,
   "metadata": {
    "execution": {
     "iopub.execute_input": "2021-02-16T18:12:36.309869Z",
     "iopub.status.busy": "2021-02-16T18:12:36.308851Z",
     "iopub.status.idle": "2021-02-16T18:12:36.321014Z",
     "shell.execute_reply": "2021-02-16T18:12:36.321623Z"
    },
    "papermill": {
     "duration": 0.091313,
     "end_time": "2021-02-16T18:12:36.321785",
     "exception": false,
     "start_time": "2021-02-16T18:12:36.230472",
     "status": "completed"
    },
    "tags": []
   },
   "outputs": [
    {
     "data": {
      "text/plain": [
       "count    891.000000\n",
       "mean      29.361582\n",
       "std       13.019697\n",
       "min        0.420000\n",
       "25%       22.000000\n",
       "50%       28.000000\n",
       "75%       35.000000\n",
       "max       80.000000\n",
       "Name: Age, dtype: float64"
      ]
     },
     "execution_count": 34,
     "metadata": {},
     "output_type": "execute_result"
    }
   ],
   "source": [
    "train_2 = train.copy()\n",
    "train_2.Age.fillna(train_2.Age.median(), inplace=True)  #preenchendo os dados faltantes com a mediana.\n",
    "train_2.Age.describe()"
   ]
  },
  {
   "cell_type": "code",
   "execution_count": 35,
   "metadata": {
    "execution": {
     "iopub.execute_input": "2021-02-16T18:12:36.493530Z",
     "iopub.status.busy": "2021-02-16T18:12:36.486824Z",
     "iopub.status.idle": "2021-02-16T18:12:36.816937Z",
     "shell.execute_reply": "2021-02-16T18:12:36.817410Z"
    },
    "papermill": {
     "duration": 0.419296,
     "end_time": "2021-02-16T18:12:36.817577",
     "exception": false,
     "start_time": "2021-02-16T18:12:36.398281",
     "status": "completed"
    },
    "tags": []
   },
   "outputs": [
    {
     "data": {
      "text/plain": [
       "Text(0.5, 1.0, 'Com os dados faltantes completados pela mediana')"
      ]
     },
     "execution_count": 35,
     "metadata": {},
     "output_type": "execute_result"
    },
    {
     "data": {
      "image/png": "[encoded data removed]",
      "text/plain": [
       "<Figure size 1440x576 with 3 Axes>"
      ]
     },
     "metadata": {
      "needs_background": "light"
     },
     "output_type": "display_data"
    },
    {
     "data": {
      "text/plain": [
       "<Figure size 720x576 with 0 Axes>"
      ]
     },
     "metadata": {},
     "output_type": "display_data"
    },
    {
     "data": {
      "text/plain": [
       "<Figure size 720x576 with 0 Axes>"
      ]
     },
     "metadata": {},
     "output_type": "display_data"
    },
    {
     "data": {
      "text/plain": [
       "<Figure size 720x576 with 0 Axes>"
      ]
     },
     "metadata": {},
     "output_type": "display_data"
    }
   ],
   "source": [
    "fig, (axis1, axis2, axis3) = plt.subplots(1,3, figsize=(20,8))\n",
    "\n",
    "#box plot com os dados faltantes influenciando\n",
    "plt.figure(figsize=(10,8))\n",
    "ax = sns.boxplot(x='Age', data=train,palette='Greys', ax=axis1)\n",
    "ax.set_xlabel('Idade', fontsize=15)\n",
    "ax.set_title('Com todos os dados', fontsize=15)\n",
    "\n",
    "#com a remoção dos dados faltantes\n",
    "plt.figure(figsize=(10,8))\n",
    "ax = sns.boxplot(x='Age', data=train_1, palette='Greens', ax=axis2)\n",
    "ax.set_xlabel('Idade', fontsize=15)\n",
    "ax.set_title('Com os dados faltantes removidos', fontsize=15)\n",
    "\n",
    "#com a remoção dos dados faltantes\n",
    "plt.figure(figsize=(10,8))\n",
    "ax = sns.boxplot(x='Age', data=train_2, palette='Greens_r', ax=axis3)\n",
    "ax.set_xlabel('Idade', fontsize=15)\n",
    "ax.set_title('Com os dados faltantes completados pela mediana', fontsize=15)"
   ]
  },
  {
   "cell_type": "markdown",
   "metadata": {
    "papermill": {
     "duration": 0.079919,
     "end_time": "2021-02-16T18:12:36.978106",
     "exception": false,
     "start_time": "2021-02-16T18:12:36.898187",
     "status": "completed"
    },
    "tags": []
   },
   "source": [
    "Com base na tabela describe e nos gráficcos acima, observamos que a média de idades é os outliers são alterados. \n",
    "\n",
    "Notamos que quando excluímos os dados faltantes os dados passam a impressão de que não há outliers, mas isso pode ser interpretado como perda de informação, que prejudicaria o a construção dos modelos, análises e/ou levar a conclusões erradas.\n",
    "\n",
    "Intuitivamente, os outliers esperados num navio com as condições do Titanic são bebês, crianças e idosos, que aparecem no terceiro boxplot onde os dados faltantes foram preenchidos com a moda.\n",
    "\n",
    "Quantos idosos e quantos bebês estavam presentes no Titanic?"
   ]
  },
  {
   "cell_type": "code",
   "execution_count": 36,
   "metadata": {
    "execution": {
     "iopub.execute_input": "2021-02-16T18:12:37.142125Z",
     "iopub.status.busy": "2021-02-16T18:12:37.140968Z",
     "iopub.status.idle": "2021-02-16T18:12:37.157234Z",
     "shell.execute_reply": "2021-02-16T18:12:37.156689Z"
    },
    "papermill": {
     "duration": 0.100106,
     "end_time": "2021-02-16T18:12:37.157360",
     "exception": false,
     "start_time": "2021-02-16T18:12:37.057254",
     "status": "completed"
    },
    "tags": []
   },
   "outputs": [
    {
     "data": {
      "text/html": [
       "<div>\n",
       "<style scoped>\n",
       "    .dataframe tbody tr th:only-of-type {\n",
       "        vertical-align: middle;\n",
       "    }\n",
       "\n",
       "    .dataframe tbody tr th {\n",
       "        vertical-align: top;\n",
       "    }\n",
       "\n",
       "    .dataframe thead th {\n",
       "        text-align: right;\n",
       "    }\n",
       "</style>\n",
       "<table border=\"1\" class=\"dataframe\">\n",
       "  <thead>\n",
       "    <tr style=\"text-align: right;\">\n",
       "      <th></th>\n",
       "      <th>Survived</th>\n",
       "    </tr>\n",
       "  </thead>\n",
       "  <tbody>\n",
       "    <tr>\n",
       "      <th>0</th>\n",
       "      <td>28</td>\n",
       "    </tr>\n",
       "    <tr>\n",
       "      <th>1</th>\n",
       "      <td>12</td>\n",
       "    </tr>\n",
       "  </tbody>\n",
       "</table>\n",
       "</div>"
      ],
      "text/plain": [
       "   Survived\n",
       "0        28\n",
       "1        12"
      ]
     },
     "execution_count": 36,
     "metadata": {},
     "output_type": "execute_result"
    }
   ],
   "source": [
    "pd.DataFrame(train_2.query('Age > 55')[\"Survived\"].value_counts())"
   ]
  },
  {
   "cell_type": "code",
   "execution_count": 37,
   "metadata": {
    "execution": {
     "iopub.execute_input": "2021-02-16T18:12:37.332456Z",
     "iopub.status.busy": "2021-02-16T18:12:37.331386Z",
     "iopub.status.idle": "2021-02-16T18:12:37.339768Z",
     "shell.execute_reply": "2021-02-16T18:12:37.340247Z"
    },
    "papermill": {
     "duration": 0.102402,
     "end_time": "2021-02-16T18:12:37.340401",
     "exception": false,
     "start_time": "2021-02-16T18:12:37.237999",
     "status": "completed"
    },
    "tags": []
   },
   "outputs": [
    {
     "data": {
      "text/html": [
       "<div>\n",
       "<style scoped>\n",
       "    .dataframe tbody tr th:only-of-type {\n",
       "        vertical-align: middle;\n",
       "    }\n",
       "\n",
       "    .dataframe tbody tr th {\n",
       "        vertical-align: top;\n",
       "    }\n",
       "\n",
       "    .dataframe thead th {\n",
       "        text-align: right;\n",
       "    }\n",
       "</style>\n",
       "<table border=\"1\" class=\"dataframe\">\n",
       "  <thead>\n",
       "    <tr style=\"text-align: right;\">\n",
       "      <th></th>\n",
       "      <th>Survived</th>\n",
       "    </tr>\n",
       "  </thead>\n",
       "  <tbody>\n",
       "    <tr>\n",
       "      <th>1</th>\n",
       "      <td>12</td>\n",
       "    </tr>\n",
       "    <tr>\n",
       "      <th>0</th>\n",
       "      <td>2</td>\n",
       "    </tr>\n",
       "  </tbody>\n",
       "</table>\n",
       "</div>"
      ],
      "text/plain": [
       "   Survived\n",
       "1        12\n",
       "0         2"
      ]
     },
     "execution_count": 37,
     "metadata": {},
     "output_type": "execute_result"
    }
   ],
   "source": [
    "pd.DataFrame(train_2.query('Age < 2')[\"Survived\"].value_counts())\n"
   ]
  },
  {
   "cell_type": "markdown",
   "metadata": {
    "papermill": {
     "duration": 0.081656,
     "end_time": "2021-02-16T18:12:37.502431",
     "exception": false,
     "start_time": "2021-02-16T18:12:37.420775",
     "status": "completed"
    },
    "tags": []
   },
   "source": [
    "Pela rápida busca acima, vimos que haviam 40 passageiros acima dos 55 anos dos quais 12 sobreviveram. \n",
    "\n",
    "Também haviam 14 crianças abaixo de 2 anos das quais 12 sobreviveram. Considerando qua as crianças estavam acompanhadas dos pais, esse dado corrobora a análise feita com a variável Parch anteriormente."
   ]
  },
  {
   "cell_type": "code",
   "execution_count": 38,
   "metadata": {
    "execution": {
     "iopub.execute_input": "2021-02-16T18:12:37.673793Z",
     "iopub.status.busy": "2021-02-16T18:12:37.672415Z",
     "iopub.status.idle": "2021-02-16T18:12:37.989374Z",
     "shell.execute_reply": "2021-02-16T18:12:37.988846Z"
    },
    "papermill": {
     "duration": 0.406814,
     "end_time": "2021-02-16T18:12:37.989491",
     "exception": false,
     "start_time": "2021-02-16T18:12:37.582677",
     "status": "completed"
    },
    "tags": []
   },
   "outputs": [
    {
     "ename": "AttributeError",
     "evalue": "module 'seaborn' has no attribute 'histplot'",
     "output_type": "error",
     "traceback": [
      "\u001b[0;31m---------------------------------------------------------------------------\u001b[0m",
      "\u001b[0;31mAttributeError\u001b[0m                            Traceback (most recent call last)",
      "\u001b[0;32m<ipython-input-38-fc3632e918cd>\u001b[0m in \u001b[0;36m<module>\u001b[0;34m\u001b[0m\n\u001b[1;32m      3\u001b[0m \u001b[0;34m\u001b[0m\u001b[0m\n\u001b[1;32m      4\u001b[0m \u001b[0mplt\u001b[0m\u001b[0;34m.\u001b[0m\u001b[0mfigure\u001b[0m\u001b[0;34m(\u001b[0m\u001b[0mfigsize\u001b[0m\u001b[0;34m=\u001b[0m\u001b[0;34m(\u001b[0m\u001b[0;36m10\u001b[0m\u001b[0;34m,\u001b[0m\u001b[0;36m8\u001b[0m\u001b[0;34m)\u001b[0m\u001b[0;34m)\u001b[0m\u001b[0;34m\u001b[0m\u001b[0;34m\u001b[0m\u001b[0m\n\u001b[0;32m----> 5\u001b[0;31m \u001b[0max\u001b[0m \u001b[0;34m=\u001b[0m \u001b[0msns\u001b[0m\u001b[0;34m.\u001b[0m\u001b[0mhistplot\u001b[0m\u001b[0;34m(\u001b[0m\u001b[0mdata\u001b[0m\u001b[0;34m=\u001b[0m\u001b[0mtrain_2\u001b[0m\u001b[0;34m,\u001b[0m \u001b[0mx\u001b[0m\u001b[0;34m=\u001b[0m\u001b[0;34m'Age'\u001b[0m\u001b[0;34m,\u001b[0m \u001b[0mpalette\u001b[0m\u001b[0;34m=\u001b[0m\u001b[0;34m'Blues'\u001b[0m\u001b[0;34m,\u001b[0m \u001b[0max\u001b[0m\u001b[0;34m=\u001b[0m \u001b[0maxis1\u001b[0m\u001b[0;34m)\u001b[0m\u001b[0;34m\u001b[0m\u001b[0;34m\u001b[0m\u001b[0m\n\u001b[0m\u001b[1;32m      6\u001b[0m \u001b[0max\u001b[0m\u001b[0;34m.\u001b[0m\u001b[0mset_title\u001b[0m\u001b[0;34m(\u001b[0m\u001b[0;34m'Distribuição de Passageiros por Idade'\u001b[0m\u001b[0;34m,\u001b[0m \u001b[0mfontsize\u001b[0m\u001b[0;34m=\u001b[0m\u001b[0;36m20\u001b[0m\u001b[0;34m,\u001b[0m \u001b[0mpad\u001b[0m\u001b[0;34m=\u001b[0m\u001b[0;36m15\u001b[0m\u001b[0;34m)\u001b[0m\u001b[0;34m\u001b[0m\u001b[0;34m\u001b[0m\u001b[0m\n\u001b[1;32m      7\u001b[0m \u001b[0max\u001b[0m\u001b[0;34m.\u001b[0m\u001b[0mset_xlabel\u001b[0m\u001b[0;34m(\u001b[0m\u001b[0;34m'Idade'\u001b[0m\u001b[0;34m,\u001b[0m \u001b[0mfontsize\u001b[0m\u001b[0;34m=\u001b[0m\u001b[0;36m15\u001b[0m\u001b[0;34m)\u001b[0m\u001b[0;34m\u001b[0m\u001b[0;34m\u001b[0m\u001b[0m\n",
      "\u001b[0;31mAttributeError\u001b[0m: module 'seaborn' has no attribute 'histplot'"
     ]
    },
    {
     "data": {
      "image/png": "[encoded data removed]",
      "text/plain": [
       "<Figure size 1440x576 with 2 Axes>"
      ]
     },
     "metadata": {
      "needs_background": "light"
     },
     "output_type": "display_data"
    },
    {
     "data": {
      "text/plain": [
       "<Figure size 720x576 with 0 Axes>"
      ]
     },
     "metadata": {},
     "output_type": "display_data"
    }
   ],
   "source": [
    "#Traçando a distribuição de idades\n",
    "fig, (axis1, axis2) = plt.subplots(1,2, figsize=(20,8))\n",
    "\n",
    "plt.figure(figsize=(10,8))\n",
    "ax = sns.histplot(data=train_2, x='Age', palette='Blues', ax= axis1)\n",
    "ax.set_title('Distribuição de Passageiros por Idade', fontsize=20, pad=15)\n",
    "ax.set_xlabel('Idade', fontsize=15)\n",
    "ax.set_ylabel('Quantidade', fontsize=15)\n",
    "            \n",
    "\n",
    "plt.figure(figsize=(10,8))\n",
    "ax = sns.histplot(data=train_2, x='Age', hue='Survived',stat='density',palette='Greys', ax= axis2)\n",
    "ax.set_title('Distribuição de Sobreviventes por Idade', fontsize=20, pad=15)\n",
    "ax.set_xlabel('Idade', fontsize=15)\n",
    "ax.set_ylabel('Densidade', fontsize=15)\n",
    "\n"
   ]
  },
  {
   "cell_type": "markdown",
   "metadata": {
    "papermill": {
     "duration": 0.081776,
     "end_time": "2021-02-16T18:12:38.153581",
     "exception": false,
     "start_time": "2021-02-16T18:12:38.071805",
     "status": "completed"
    },
    "tags": []
   },
   "source": [
    "Nos gráfico a esquerda acima vimos a distribuição da idade dos passageiros  e no gráfico à direita a distribuição em % de sobreviventes por idade.\n",
    "\n",
    "Um outro modo de classificar o grupo de passageiros em relação a idade seria por classes, vejamos:\n",
    "- 0-12 anos - **Infantil**\n",
    "- 13-18 anos - **Adolescente**\n",
    "- 19 -60 anos - **Adulto**\n",
    "- 61 anos ou mais - **3ª idade.**"
   ]
  },
  {
   "cell_type": "code",
   "execution_count": 39,
   "metadata": {
    "execution": {
     "iopub.execute_input": "2021-02-16T18:12:38.324153Z",
     "iopub.status.busy": "2021-02-16T18:12:38.323476Z",
     "iopub.status.idle": "2021-02-16T18:12:38.326495Z",
     "shell.execute_reply": "2021-02-16T18:12:38.325966Z"
    },
    "papermill": {
     "duration": 0.091256,
     "end_time": "2021-02-16T18:12:38.326669",
     "exception": false,
     "start_time": "2021-02-16T18:12:38.235413",
     "status": "completed"
    },
    "tags": []
   },
   "outputs": [],
   "source": [
    "#definindo as classes pelo inicio de cada idade\n",
    "classes = [0,12,18,60,81]\n",
    "\n",
    "#definindo os nomes das classes que aparecerão no gráfico\n",
    "labels = ['Infantil','Adolescentes',\" Adultos\", '3ª Idade']"
   ]
  },
  {
   "cell_type": "code",
   "execution_count": 40,
   "metadata": {
    "execution": {
     "iopub.execute_input": "2021-02-16T18:12:38.498256Z",
     "iopub.status.busy": "2021-02-16T18:12:38.497495Z",
     "iopub.status.idle": "2021-02-16T18:12:38.507383Z",
     "shell.execute_reply": "2021-02-16T18:12:38.508024Z"
    },
    "papermill": {
     "duration": 0.099459,
     "end_time": "2021-02-16T18:12:38.508176",
     "exception": false,
     "start_time": "2021-02-16T18:12:38.408717",
     "status": "completed"
    },
    "tags": []
   },
   "outputs": [
    {
     "data": {
      "text/plain": [
       "0       Adultos\n",
       "1       Adultos\n",
       "2       Adultos\n",
       "3       Adultos\n",
       "4       Adultos\n",
       "         ...   \n",
       "886     Adultos\n",
       "887     Adultos\n",
       "888     Adultos\n",
       "889     Adultos\n",
       "890     Adultos\n",
       "Name: Age, Length: 891, dtype: category\n",
       "Categories (4, object): ['Infantil' < 'Adolescentes' < ' Adultos' < '3ª Idade']"
      ]
     },
     "execution_count": 40,
     "metadata": {},
     "output_type": "execute_result"
    }
   ],
   "source": [
    "pd.cut(x=train_2.Age, bins=classes, labels= labels, include_lowest=True)"
   ]
  },
  {
   "cell_type": "code",
   "execution_count": 41,
   "metadata": {
    "execution": {
     "iopub.execute_input": "2021-02-16T18:12:38.688081Z",
     "iopub.status.busy": "2021-02-16T18:12:38.687273Z",
     "iopub.status.idle": "2021-02-16T18:12:38.692156Z",
     "shell.execute_reply": "2021-02-16T18:12:38.691423Z"
    },
    "papermill": {
     "duration": 0.100927,
     "end_time": "2021-02-16T18:12:38.692283",
     "exception": false,
     "start_time": "2021-02-16T18:12:38.591356",
     "status": "completed"
    },
    "tags": []
   },
   "outputs": [
    {
     "data": {
      "text/plain": [
       " Adultos        730\n",
       "Adolescentes     70\n",
       "Infantil         69\n",
       "3ª Idade         22\n",
       "Name: Age, dtype: int64"
      ]
     },
     "execution_count": 41,
     "metadata": {},
     "output_type": "execute_result"
    }
   ],
   "source": [
    "#Construindo a coluna frequência\n",
    "frequencia_idade = pd.value_counts(pd.cut(x=train_2.Age, bins=classes, labels= labels, include_lowest=True))\n",
    "frequencia_idade"
   ]
  },
  {
   "cell_type": "code",
   "execution_count": 42,
   "metadata": {
    "execution": {
     "iopub.execute_input": "2021-02-16T18:12:38.863872Z",
     "iopub.status.busy": "2021-02-16T18:12:38.863139Z",
     "iopub.status.idle": "2021-02-16T18:12:38.875467Z",
     "shell.execute_reply": "2021-02-16T18:12:38.876046Z"
    },
    "papermill": {
     "duration": 0.100205,
     "end_time": "2021-02-16T18:12:38.876215",
     "exception": false,
     "start_time": "2021-02-16T18:12:38.776010",
     "status": "completed"
    },
    "tags": []
   },
   "outputs": [
    {
     "data": {
      "text/plain": [
       " Adultos        81.930415\n",
       "Adolescentes     7.856341\n",
       "Infantil         7.744108\n",
       "3ª Idade         2.469136\n",
       "Name: Age, dtype: float64"
      ]
     },
     "execution_count": 42,
     "metadata": {},
     "output_type": "execute_result"
    }
   ],
   "source": [
    "#Construindo a coluna percentual\n",
    "percentual_idades = (pd.cut(x=train_2.Age, bins=classes, labels= labels, include_lowest=True)).value_counts(normalize=True)\n",
    "\n",
    "percentual_idades = percentual_idades * 100 #para ficar no formato de %\n",
    "\n",
    "percentual_idades"
   ]
  },
  {
   "cell_type": "code",
   "execution_count": 43,
   "metadata": {
    "execution": {
     "iopub.execute_input": "2021-02-16T18:12:39.058616Z",
     "iopub.status.busy": "2021-02-16T18:12:39.052162Z",
     "iopub.status.idle": "2021-02-16T18:12:39.063899Z",
     "shell.execute_reply": "2021-02-16T18:12:39.063130Z"
    },
    "papermill": {
     "duration": 0.103297,
     "end_time": "2021-02-16T18:12:39.064028",
     "exception": false,
     "start_time": "2021-02-16T18:12:38.960731",
     "status": "completed"
    },
    "tags": []
   },
   "outputs": [
    {
     "data": {
      "text/html": [
       "<div>\n",
       "<style scoped>\n",
       "    .dataframe tbody tr th:only-of-type {\n",
       "        vertical-align: middle;\n",
       "    }\n",
       "\n",
       "    .dataframe tbody tr th {\n",
       "        vertical-align: top;\n",
       "    }\n",
       "\n",
       "    .dataframe thead th {\n",
       "        text-align: right;\n",
       "    }\n",
       "</style>\n",
       "<table border=\"1\" class=\"dataframe\">\n",
       "  <thead>\n",
       "    <tr style=\"text-align: right;\">\n",
       "      <th></th>\n",
       "      <th>Frequência</th>\n",
       "      <th>Percentual(%)</th>\n",
       "    </tr>\n",
       "  </thead>\n",
       "  <tbody>\n",
       "    <tr>\n",
       "      <th>Adultos</th>\n",
       "      <td>730</td>\n",
       "      <td>81.930415</td>\n",
       "    </tr>\n",
       "    <tr>\n",
       "      <th>Adolescentes</th>\n",
       "      <td>70</td>\n",
       "      <td>7.856341</td>\n",
       "    </tr>\n",
       "    <tr>\n",
       "      <th>Infantil</th>\n",
       "      <td>69</td>\n",
       "      <td>7.744108</td>\n",
       "    </tr>\n",
       "    <tr>\n",
       "      <th>3ª Idade</th>\n",
       "      <td>22</td>\n",
       "      <td>2.469136</td>\n",
       "    </tr>\n",
       "  </tbody>\n",
       "</table>\n",
       "</div>"
      ],
      "text/plain": [
       "              Frequência  Percentual(%)\n",
       " Adultos             730      81.930415\n",
       "Adolescentes          70       7.856341\n",
       "Infantil              69       7.744108\n",
       "3ª Idade              22       2.469136"
      ]
     },
     "execution_count": 43,
     "metadata": {},
     "output_type": "execute_result"
    }
   ],
   "source": [
    "freq_perc= pd.DataFrame({'Frequência':frequencia_idade, 'Percentual(%)':percentual_idades})\n",
    "freq_perc"
   ]
  },
  {
   "cell_type": "code",
   "execution_count": 44,
   "metadata": {
    "execution": {
     "iopub.execute_input": "2021-02-16T18:12:39.360342Z",
     "iopub.status.busy": "2021-02-16T18:12:39.359556Z",
     "iopub.status.idle": "2021-02-16T18:12:39.679030Z",
     "shell.execute_reply": "2021-02-16T18:12:39.678336Z"
    },
    "papermill": {
     "duration": 0.529844,
     "end_time": "2021-02-16T18:12:39.679157",
     "exception": false,
     "start_time": "2021-02-16T18:12:39.149313",
     "status": "completed"
    },
    "tags": []
   },
   "outputs": [
    {
     "data": {
      "text/plain": [
       "Text(0.5, 0, 'Grupo Etário')"
      ]
     },
     "execution_count": 44,
     "metadata": {},
     "output_type": "execute_result"
    },
    {
     "data": {
      "image/png": "[encoded data removed]",
      "text/plain": [
       "<Figure size 1440x576 with 2 Axes>"
      ]
     },
     "metadata": {
      "needs_background": "light"
     },
     "output_type": "display_data"
    },
    {
     "data": {
      "text/plain": [
       "<Figure size 720x576 with 0 Axes>"
      ]
     },
     "metadata": {},
     "output_type": "display_data"
    },
    {
     "data": {
      "text/plain": [
       "<Figure size 720x576 with 0 Axes>"
      ]
     },
     "metadata": {},
     "output_type": "display_data"
    }
   ],
   "source": [
    "fig, (axis1, axis2) = plt.subplots(1,2, figsize=(20,8))\n",
    "\n",
    "plt.figure(figsize=(10,8))\n",
    "ax = sns.barplot(data=freq_perc,x=freq_perc.index, y='Frequência', palette='Greens', ax = axis1)\n",
    "ax.set_title('Quantidade de Pessoas por Grupo Etário', fontsize=20, pad=20)\n",
    "ax.set_ylabel('Frequência', fontsize=15)\n",
    "ax.set_xlabel('Grupo Etário', fontsize=15)\n",
    "\n",
    "plt.figure(figsize=(10,8))\n",
    "ax = sns.barplot(data=freq_perc,x=freq_perc.index, y='Percentual(%)', palette='Greens', ax = axis2)\n",
    "ax.set_title('Percentual por Grupo Etário (%)', fontsize=20, pad=20)\n",
    "ax.set_ylabel('Percentual', fontsize=15)\n",
    "ax.set_xlabel('Grupo Etário', fontsize=15)"
   ]
  },
  {
   "cell_type": "markdown",
   "metadata": {
    "papermill": {
     "duration": 0.0869,
     "end_time": "2021-02-16T18:12:39.853427",
     "exception": false,
     "start_time": "2021-02-16T18:12:39.766527",
     "status": "completed"
    },
    "tags": []
   },
   "source": [
    "## **2.5 Correlação dos dados**\n",
    "Nesta seção vamos investigar o quão relacionados estão as nossas variáveis, por exemplo, o preço da passagem (Fare) com a Classe (P-Class); as variáveis SibSp e ParCh. \n",
    "Esta etapa é importante porquê se as variáveis tiverem alta correlação, elas podem ser exluídas do modelo sem afetar o desempenho dele. Diminuir as variáveis de um modelo é conhecido como redução de dimensionalidade."
   ]
  },
  {
   "cell_type": "code",
   "execution_count": 45,
   "metadata": {
    "execution": {
     "iopub.execute_input": "2021-02-16T18:12:40.046178Z",
     "iopub.status.busy": "2021-02-16T18:12:40.039427Z",
     "iopub.status.idle": "2021-02-16T18:12:44.055560Z",
     "shell.execute_reply": "2021-02-16T18:12:44.054480Z"
    },
    "papermill": {
     "duration": 4.115214,
     "end_time": "2021-02-16T18:12:44.055739",
     "exception": false,
     "start_time": "2021-02-16T18:12:39.940525",
     "status": "completed"
    },
    "tags": []
   },
   "outputs": [
    {
     "data": {
      "text/plain": [
       "<seaborn.axisgrid.PairGrid at 0x7f3f20012790>"
      ]
     },
     "execution_count": 45,
     "metadata": {},
     "output_type": "execute_result"
    },
    {
     "data": {
      "text/plain": [
       "<Figure size 2160x1080 with 0 Axes>"
      ]
     },
     "metadata": {},
     "output_type": "display_data"
    },
    {
     "data": {
      "image/png": "[encoded data removed]",
      "text/plain": [
       "<Figure size 720x720 with 20 Axes>"
      ]
     },
     "metadata": {
      "needs_background": "light"
     },
     "output_type": "display_data"
    }
   ],
   "source": [
    "plt.figure(figsize=(30,15))\n",
    "sns.pairplot(train, x_vars=['Parch', 'SibSp', 'Age', 'Pclass'], y_vars=['Parch', 'SibSp', 'Age', 'Pclass'])"
   ]
  },
  {
   "cell_type": "markdown",
   "metadata": {
    "papermill": {
     "duration": 0.091124,
     "end_time": "2021-02-16T18:12:44.237379",
     "exception": false,
     "start_time": "2021-02-16T18:12:44.146255",
     "status": "completed"
    },
    "tags": []
   },
   "source": [
    "A vantagem desse tipo de gráfico é que a diagonal dele traz informação útil, exibindo um histograma de cada atributo (outras opções estão disponíveis). Rapidamente a gente consegue ver coisas como – por exemplo – o fato de que pessoas mais velhas estão mais concentradas na 1ª Classe e pessoas mais jovens na 3ª classe. Por fim, finalizando a etapa de análise exploratória, vamos dar uma olhada no heatmap para entender como as variáveis estão correlacionadas, positiva ou negativamente."
   ]
  },
  {
   "cell_type": "code",
   "execution_count": 46,
   "metadata": {
    "execution": {
     "iopub.execute_input": "2021-02-16T18:12:44.425999Z",
     "iopub.status.busy": "2021-02-16T18:12:44.425248Z",
     "iopub.status.idle": "2021-02-16T18:12:44.438144Z",
     "shell.execute_reply": "2021-02-16T18:12:44.438736Z"
    },
    "papermill": {
     "duration": 0.111386,
     "end_time": "2021-02-16T18:12:44.438893",
     "exception": false,
     "start_time": "2021-02-16T18:12:44.327507",
     "status": "completed"
    },
    "tags": []
   },
   "outputs": [
    {
     "data": {
      "text/html": [
       "<div>\n",
       "<style scoped>\n",
       "    .dataframe tbody tr th:only-of-type {\n",
       "        vertical-align: middle;\n",
       "    }\n",
       "\n",
       "    .dataframe tbody tr th {\n",
       "        vertical-align: top;\n",
       "    }\n",
       "\n",
       "    .dataframe thead th {\n",
       "        text-align: right;\n",
       "    }\n",
       "</style>\n",
       "<table border=\"1\" class=\"dataframe\">\n",
       "  <thead>\n",
       "    <tr style=\"text-align: right;\">\n",
       "      <th></th>\n",
       "      <th>PassengerId</th>\n",
       "      <th>Survived</th>\n",
       "      <th>Pclass</th>\n",
       "      <th>Age</th>\n",
       "      <th>SibSp</th>\n",
       "      <th>Parch</th>\n",
       "      <th>Fare</th>\n",
       "    </tr>\n",
       "  </thead>\n",
       "  <tbody>\n",
       "    <tr>\n",
       "      <th>PassengerId</th>\n",
       "      <td>1.000000</td>\n",
       "      <td>-0.005007</td>\n",
       "      <td>-0.035144</td>\n",
       "      <td>0.036847</td>\n",
       "      <td>-0.057527</td>\n",
       "      <td>-0.001652</td>\n",
       "      <td>0.012658</td>\n",
       "    </tr>\n",
       "    <tr>\n",
       "      <th>Survived</th>\n",
       "      <td>-0.005007</td>\n",
       "      <td>1.000000</td>\n",
       "      <td>-0.338481</td>\n",
       "      <td>-0.077221</td>\n",
       "      <td>-0.035322</td>\n",
       "      <td>0.081629</td>\n",
       "      <td>0.257307</td>\n",
       "    </tr>\n",
       "    <tr>\n",
       "      <th>Pclass</th>\n",
       "      <td>-0.035144</td>\n",
       "      <td>-0.338481</td>\n",
       "      <td>1.000000</td>\n",
       "      <td>-0.369226</td>\n",
       "      <td>0.083081</td>\n",
       "      <td>0.018443</td>\n",
       "      <td>-0.549500</td>\n",
       "    </tr>\n",
       "    <tr>\n",
       "      <th>Age</th>\n",
       "      <td>0.036847</td>\n",
       "      <td>-0.077221</td>\n",
       "      <td>-0.369226</td>\n",
       "      <td>1.000000</td>\n",
       "      <td>-0.308247</td>\n",
       "      <td>-0.189119</td>\n",
       "      <td>0.096067</td>\n",
       "    </tr>\n",
       "    <tr>\n",
       "      <th>SibSp</th>\n",
       "      <td>-0.057527</td>\n",
       "      <td>-0.035322</td>\n",
       "      <td>0.083081</td>\n",
       "      <td>-0.308247</td>\n",
       "      <td>1.000000</td>\n",
       "      <td>0.414838</td>\n",
       "      <td>0.159651</td>\n",
       "    </tr>\n",
       "    <tr>\n",
       "      <th>Parch</th>\n",
       "      <td>-0.001652</td>\n",
       "      <td>0.081629</td>\n",
       "      <td>0.018443</td>\n",
       "      <td>-0.189119</td>\n",
       "      <td>0.414838</td>\n",
       "      <td>1.000000</td>\n",
       "      <td>0.216225</td>\n",
       "    </tr>\n",
       "    <tr>\n",
       "      <th>Fare</th>\n",
       "      <td>0.012658</td>\n",
       "      <td>0.257307</td>\n",
       "      <td>-0.549500</td>\n",
       "      <td>0.096067</td>\n",
       "      <td>0.159651</td>\n",
       "      <td>0.216225</td>\n",
       "      <td>1.000000</td>\n",
       "    </tr>\n",
       "  </tbody>\n",
       "</table>\n",
       "</div>"
      ],
      "text/plain": [
       "             PassengerId  Survived    Pclass       Age     SibSp     Parch  \\\n",
       "PassengerId     1.000000 -0.005007 -0.035144  0.036847 -0.057527 -0.001652   \n",
       "Survived       -0.005007  1.000000 -0.338481 -0.077221 -0.035322  0.081629   \n",
       "Pclass         -0.035144 -0.338481  1.000000 -0.369226  0.083081  0.018443   \n",
       "Age             0.036847 -0.077221 -0.369226  1.000000 -0.308247 -0.189119   \n",
       "SibSp          -0.057527 -0.035322  0.083081 -0.308247  1.000000  0.414838   \n",
       "Parch          -0.001652  0.081629  0.018443 -0.189119  0.414838  1.000000   \n",
       "Fare            0.012658  0.257307 -0.549500  0.096067  0.159651  0.216225   \n",
       "\n",
       "                 Fare  \n",
       "PassengerId  0.012658  \n",
       "Survived     0.257307  \n",
       "Pclass      -0.549500  \n",
       "Age          0.096067  \n",
       "SibSp        0.159651  \n",
       "Parch        0.216225  \n",
       "Fare         1.000000  "
      ]
     },
     "execution_count": 46,
     "metadata": {},
     "output_type": "execute_result"
    }
   ],
   "source": [
    "train.corr()"
   ]
  },
  {
   "cell_type": "code",
   "execution_count": 47,
   "metadata": {
    "execution": {
     "iopub.execute_input": "2021-02-16T18:12:44.623635Z",
     "iopub.status.busy": "2021-02-16T18:12:44.622934Z",
     "iopub.status.idle": "2021-02-16T18:12:45.173612Z",
     "shell.execute_reply": "2021-02-16T18:12:45.172983Z"
    },
    "papermill": {
     "duration": 0.644247,
     "end_time": "2021-02-16T18:12:45.173745",
     "exception": false,
     "start_time": "2021-02-16T18:12:44.529498",
     "status": "completed"
    },
    "tags": []
   },
   "outputs": [
    {
     "data": {
      "text/plain": [
       "<matplotlib.axes._subplots.AxesSubplot at 0x7f3f1ef2b810>"
      ]
     },
     "execution_count": 47,
     "metadata": {},
     "output_type": "execute_result"
    },
    {
     "data": {
      "image/png": "[encoded data removed]",
      "text/plain": [
       "<Figure size 1080x1080 with 2 Axes>"
      ]
     },
     "metadata": {
      "needs_background": "light"
     },
     "output_type": "display_data"
    }
   ],
   "source": [
    "plt.figure(figsize=(15,15))\n",
    "sns.heatmap(train.corr(), annot=True, cmap='Oranges', fmt='.2f')"
   ]
  },
  {
   "cell_type": "markdown",
   "metadata": {
    "papermill": {
     "duration": 0.092943,
     "end_time": "2021-02-16T18:12:45.360472",
     "exception": false,
     "start_time": "2021-02-16T18:12:45.267529",
     "status": "completed"
    },
    "tags": []
   },
   "source": [
    "Pela tabela e pelos gráficos observamos que as variáveis que mais se correlacionam são:\n",
    "- Pclass &  Fare, com valor de -0.55, o que significa que quanto maior o valor de uma menor o da outra e vice versa, o que faz muito sentido, pois a Classe 3 deveria ter o menor valor em relação a outras classes. *Aqui consideramos o valor ordinal das clase com 3>2>1, e não o valor social.\n",
    "- SibSp & Parch - São variáveis que tratam de graus de parentesco e tem uma correlação positiva de 0.41. \n",
    "\n",
    "No entanto tais correlações são fracas, isto é, elas por si só não são capazes de explicar o desempenho da outra variável. São consideradas correlações fortes valores acima de 0.75, mas isso depende da aplicação.\n",
    "\n",
    "Com base nisso as manteremos as variáveis para a modelagem. \n",
    "Aqui finalizamos a Parte 1. Sugestões e correções são sempre bem-vindas!\n",
    "\n",
    "Vamos para a [Parte 2](https://www.kaggle.com/samuelsferreira/desafio-do-titanic-passo-a-passo-parte-2-2)!\n",
    "\n"
   ]
  }
 ],
 "metadata": {
  "kernelspec": {
   "display_name": "Python 3",
   "language": "python",
   "name": "python3"
  },
  "language_info": {
   "codemirror_mode": {
    "name": "ipython",
    "version": 3
   },
   "file_extension": ".py",
   "mimetype": "text/x-python",
   "name": "python",
   "nbconvert_exporter": "python",
   "pygments_lexer": "ipython3",
   "version": "3.7.6"
  },
  "papermill": {
   "duration": 26.992291,
   "end_time": "2021-02-16T18:12:45.561690",
   "environment_variables": {},
   "exception": null,
   "input_path": "__notebook__.ipynb",
   "output_path": "__notebook__.ipynb",
   "parameters": {},
   "start_time": "2021-02-16T18:12:18.569399",
   "version": "2.1.0"
  }
 },
 "nbformat": 4,
 "nbformat_minor": 4
}
